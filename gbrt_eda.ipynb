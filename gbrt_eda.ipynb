{
 "cells": [
  {
   "cell_type": "code",
   "execution_count": 433,
   "metadata": {
    "collapsed": false
   },
   "outputs": [],
   "source": [
    "# author: Jerry Tsai\n",
    "# program gbrt_eda.ipynb\n",
    "# creation date: 2016-05-03\n",
    "# version 1.0\n",
    "#\n",
    "# PURPOSE: Make several analysis data sets from the data in the\n",
    "# Upwork provider profiles data (text file)\n",
    "#\n",
    "\n",
    "import json\n",
    "import pandas as pd\n",
    "import numpy as np\n",
    "from sklearn.feature_extraction.text import CountVectorizer\n",
    "import time\n",
    "import datetime\n",
    "import re\n",
    "import cPickle as pickle\n",
    "\n",
    "from sklearn.ensemble import GradientBoostingRegressor\n",
    "from sklearn.cross_validation import train_test_split, cross_val_score\n",
    "from sklearn.grid_search import GridSearchCV\n",
    "from sklearn.metrics import mean_squared_error, r2_score\n",
    "from sklearn.ensemble.partial_dependence import plot_partial_dependence\n",
    "import matplotlib.pyplot as plt\n",
    "import numpy as np\n",
    "\n",
    "from sklearn.cross_validation import KFold\n",
    "from sklearn.metrics import mean_squared_error"
   ]
  },
  {
   "cell_type": "code",
   "execution_count": 434,
   "metadata": {
    "collapsed": true
   },
   "outputs": [],
   "source": [
    "### MAKE PICKLES OF NEW DATAFRAMES\n",
    "infile_skills_vectorized = 'data/_skills_vectorized_df.pkl'\n",
    "infile_profiles = 'data/profiles_df.pkl'\n",
    "infile_jobs = 'data/jobs_df.pkl'\n",
    "infile_hr_paid_jobs = 'data/hr_paid_jobs_df.pkl'\n",
    "infile_skills = 'data/skills_df.pkl'\n",
    "\n",
    "hr_paid_jobs_df = pickle.load(open(infile_hr_paid_jobs, 'rb'))\n",
    "sv_df = pickle.load(open(infile_skills_vectorized, 'rb'))\n",
    "profiles_df = pickle.load(open(infile_profiles, 'rb'))"
   ]
  },
  {
   "cell_type": "markdown",
   "metadata": {},
   "source": [
    "## Work up `profiles_df`"
   ]
  },
  {
   "cell_type": "code",
   "execution_count": 435,
   "metadata": {
    "collapsed": false
   },
   "outputs": [
    {
     "data": {
      "text/html": [
       "<div>\n",
       "<table border=\"1\" class=\"dataframe\">\n",
       "  <thead>\n",
       "    <tr style=\"text-align: right;\">\n",
       "      <th></th>\n",
       "      <th>0</th>\n",
       "      <th>1</th>\n",
       "      <th>2</th>\n",
       "      <th>3</th>\n",
       "      <th>4</th>\n",
       "      <th>5</th>\n",
       "      <th>6</th>\n",
       "      <th>7</th>\n",
       "      <th>8</th>\n",
       "      <th>9</th>\n",
       "      <th>...</th>\n",
       "      <th>88686</th>\n",
       "      <th>88687</th>\n",
       "      <th>88688</th>\n",
       "      <th>88689</th>\n",
       "      <th>88690</th>\n",
       "      <th>88691</th>\n",
       "      <th>88692</th>\n",
       "      <th>88693</th>\n",
       "      <th>88694</th>\n",
       "      <th>88695</th>\n",
       "    </tr>\n",
       "  </thead>\n",
       "  <tbody>\n",
       "    <tr>\n",
       "      <th>dev_bill_rate</th>\n",
       "      <td>15</td>\n",
       "      <td>12</td>\n",
       "      <td>44.44</td>\n",
       "      <td>24.44</td>\n",
       "      <td>15</td>\n",
       "      <td>16.67</td>\n",
       "      <td>30</td>\n",
       "      <td>11.11</td>\n",
       "      <td>10</td>\n",
       "      <td>5.56</td>\n",
       "      <td>...</td>\n",
       "      <td>22.22</td>\n",
       "      <td>4</td>\n",
       "      <td>6.67</td>\n",
       "      <td>13.89</td>\n",
       "      <td>10</td>\n",
       "      <td>16.67</td>\n",
       "      <td>11.11</td>\n",
       "      <td>35</td>\n",
       "      <td>3</td>\n",
       "      <td>30</td>\n",
       "    </tr>\n",
       "    <tr>\n",
       "      <th>dev_blurb</th>\n",
       "      <td>Over the more than 6 years, I have developed a...</td>\n",
       "      <td>I am a web application developer, having 2 yea...</td>\n",
       "      <td>Extensive expertise in clinical research publi...</td>\n",
       "      <td>I'm a WEB-developer with more than 5 years exp...</td>\n",
       "      <td>Specializes in developing Photoshop and After ...</td>\n",
       "      <td></td>\n",
       "      <td>skype :  orange_project_kh\\nemail:    contact@...</td>\n",
       "      <td>DTL Solutions is the software solutions provid...</td>\n",
       "      <td>I am an upcoming college graduate! I will rece...</td>\n",
       "      <td>1)  Shopping Card Management System using C# a...</td>\n",
       "      <td>...</td>\n",
       "      <td>I'm a software engineer focused on backend and...</td>\n",
       "      <td>I am  working as a  officer at Checkpoint syst...</td>\n",
       "      <td>To enhance my journalistic prowess through onl...</td>\n",
       "      <td>I'm a highly motivated person with a strong ba...</td>\n",
       "      <td>I like building cool web applications, and I o...</td>\n",
       "      <td>I configure and run the base station WiMAX on ...</td>\n",
       "      <td>I am looking to help in software solutions . w...</td>\n",
       "      <td>I have extensive experience using Python to so...</td>\n",
       "      <td>Looking for work in proofreading, editing or c...</td>\n",
       "      <td>I have 8 Years of Profession Experience and i ...</td>\n",
       "    </tr>\n",
       "    <tr>\n",
       "      <th>dev_country</th>\n",
       "      <td>India</td>\n",
       "      <td>India</td>\n",
       "      <td>United States</td>\n",
       "      <td>Ukraine</td>\n",
       "      <td>Sri Lanka</td>\n",
       "      <td>Germany</td>\n",
       "      <td>Ukraine</td>\n",
       "      <td>Vietnam</td>\n",
       "      <td>United States</td>\n",
       "      <td>Bangladesh</td>\n",
       "      <td>...</td>\n",
       "      <td>Russia</td>\n",
       "      <td>Bangladesh</td>\n",
       "      <td>Philippines</td>\n",
       "      <td>Russia</td>\n",
       "      <td>India</td>\n",
       "      <td>Russia</td>\n",
       "      <td>Egypt</td>\n",
       "      <td>United States</td>\n",
       "      <td>India</td>\n",
       "      <td>India</td>\n",
       "    </tr>\n",
       "    <tr>\n",
       "      <th>dev_eng_skill</th>\n",
       "      <td>4</td>\n",
       "      <td>5</td>\n",
       "      <td>5</td>\n",
       "      <td>5</td>\n",
       "      <td></td>\n",
       "      <td>5</td>\n",
       "      <td>4</td>\n",
       "      <td>4</td>\n",
       "      <td>5</td>\n",
       "      <td></td>\n",
       "      <td>...</td>\n",
       "      <td>3</td>\n",
       "      <td>4</td>\n",
       "      <td>4</td>\n",
       "      <td>4</td>\n",
       "      <td>5</td>\n",
       "      <td>3</td>\n",
       "      <td>5</td>\n",
       "      <td>5</td>\n",
       "      <td>4</td>\n",
       "      <td>5</td>\n",
       "    </tr>\n",
       "    <tr>\n",
       "      <th>dev_portrait</th>\n",
       "      <td>https://odesk-prod-portraits.s3.amazonaws.com/...</td>\n",
       "      <td>https://odesk-prod-portraits.s3.amazonaws.com/...</td>\n",
       "      <td>https://odesk-prod-portraits.s3.amazonaws.com/...</td>\n",
       "      <td></td>\n",
       "      <td>https://odesk-prod-portraits.s3.amazonaws.com/...</td>\n",
       "      <td></td>\n",
       "      <td>https://odesk-prod-portraits.s3.amazonaws.com/...</td>\n",
       "      <td>https://odesk-prod-portraits.s3.amazonaws.com/...</td>\n",
       "      <td>https://odesk-prod-portraits.s3.amazonaws.com/...</td>\n",
       "      <td>https://odesk-prod-portraits.s3.amazonaws.com/...</td>\n",
       "      <td>...</td>\n",
       "      <td>https://odesk-prod-portraits.s3.amazonaws.com/...</td>\n",
       "      <td>https://odesk-prod-portraits.s3.amazonaws.com/...</td>\n",
       "      <td>https://odesk-prod-portraits.s3.amazonaws.com/...</td>\n",
       "      <td>https://odesk-prod-portraits.s3.amazonaws.com/...</td>\n",
       "      <td></td>\n",
       "      <td>https://odesk-prod-portraits.s3.amazonaws.com/...</td>\n",
       "      <td>https://www.odesk.com/att/~~mOJyJwUvL-dOchJGOo...</td>\n",
       "      <td>https://odesk-prod-portraits.s3.amazonaws.com/...</td>\n",
       "      <td>https://odesk-prod-portraits.s3.amazonaws.com/...</td>\n",
       "      <td>https://odesk-prod-portraits.s3.amazonaws.com/...</td>\n",
       "    </tr>\n",
       "    <tr>\n",
       "      <th>dev_profile_title</th>\n",
       "      <td>LAMP developer with more than 6 years</td>\n",
       "      <td>Web Developer / Designer</td>\n",
       "      <td>English/French Writer/Translator,Scientific Di...</td>\n",
       "      <td>PHP/Zend Framework/MySql/MongoDB/SPHINX/jQuery...</td>\n",
       "      <td>After Effects, Photoshop - Scripting And Plugi...</td>\n",
       "      <td>Development of reliable and flexible software(...</td>\n",
       "      <td>Fullstack web developer, e-commerce developing...</td>\n",
       "      <td>Small IT solution company provides Development...</td>\n",
       "      <td>Upbeat Enthusiastic Professional Writer</td>\n",
       "      <td>Bsc in Computer Science and Engineering</td>\n",
       "      <td>...</td>\n",
       "      <td>Software Developer</td>\n",
       "      <td>IT Professional</td>\n",
       "      <td>Statistician|News&amp;Sports Writer|InDesign|Pagem...</td>\n",
       "      <td>Experienced developer and scientific assistant</td>\n",
       "      <td>An expert web application developer with Djang...</td>\n",
       "      <td>Software Developer</td>\n",
       "      <td>Ahmed Eshra</td>\n",
       "      <td>Python &amp; ArcGIS Programmer</td>\n",
       "      <td></td>\n",
       "      <td>Project Lead</td>\n",
       "    </tr>\n",
       "    <tr>\n",
       "      <th>dev_recno_ciphertext</th>\n",
       "      <td>~01cae3810dc6d2bbbc</td>\n",
       "      <td>~01d24ced467385214d</td>\n",
       "      <td>~01953fb4fa2ceb67dc</td>\n",
       "      <td>~01a9ab111f973ae055</td>\n",
       "      <td>~016dcec1087cba565c</td>\n",
       "      <td>~019e83a0dfa04c0e8b</td>\n",
       "      <td>~01863825efc778f975</td>\n",
       "      <td>~01614e82e3c5a0ccca</td>\n",
       "      <td>~0122260b02b0c56563</td>\n",
       "      <td>~01a3583a33f5146e8e</td>\n",
       "      <td>...</td>\n",
       "      <td>~01dfd63f31c5228d16</td>\n",
       "      <td>~018aaab6cfdc3fb96c</td>\n",
       "      <td>~01360017155d421ae3</td>\n",
       "      <td>~0169007d9fa447a06b</td>\n",
       "      <td>~014920c811cecebbc4</td>\n",
       "      <td>~0148cf1eca9907db89</td>\n",
       "      <td>~01baacbe6b9e3d8c30</td>\n",
       "      <td>~013659f86de224bdf9</td>\n",
       "      <td>~01b9ca1c9967daf519</td>\n",
       "      <td>~01a0cdfa47888e70f7</td>\n",
       "    </tr>\n",
       "    <tr>\n",
       "      <th>dev_timezone</th>\n",
       "      <td>UTC+05:30 Mumbai, Kolkata, Chennai, New Delhi</td>\n",
       "      <td>UTC+05:30 Mumbai, Kolkata, Chennai, New Delhi</td>\n",
       "      <td>UTC+01:00 Berlin, Stockholm, Rome, Bern, Brussels</td>\n",
       "      <td>UTC+02:00 Athens, Helsinki, Istanbul</td>\n",
       "      <td>UTC+05:30 Mumbai, Kolkata, Chennai, New Delhi</td>\n",
       "      <td>UTC+01:00 Berlin, Stockholm, Rome, Bern, Brussels</td>\n",
       "      <td>UTC+02:00 Eastern Europe</td>\n",
       "      <td>UTC+07:00 Omsk, Novosibirsk</td>\n",
       "      <td>UTC-08:00 Pacific Time (US &amp; Canada); Tijuana</td>\n",
       "      <td>UTC+06:00 Almaty, Dhaka</td>\n",
       "      <td>...</td>\n",
       "      <td>UTC+07:00 Omsk, Novosibirsk</td>\n",
       "      <td>UTC+06:00 Almaty, Dhaka</td>\n",
       "      <td>UTC+08:00 Hong Kong SAR, Perth, Singapore, Taipei</td>\n",
       "      <td>UTC+03:00 Moscow, St. Petersburg, Volgograd</td>\n",
       "      <td>UTC (Coordinated Universal Time)</td>\n",
       "      <td>UTC+04:00 Abu Dhabi, Muscat, Tbilisi, Kazan</td>\n",
       "      <td>UTC+02:00 Cairo</td>\n",
       "      <td>UTC-07:00 Mountain Time (US &amp; Canada)</td>\n",
       "      <td>UTC+05:30 Mumbai, Kolkata, Chennai, New Delhi</td>\n",
       "      <td>UTC+05:30 Mumbai, Kolkata, Chennai, New Delhi</td>\n",
       "    </tr>\n",
       "    <tr>\n",
       "      <th>education</th>\n",
       "      <td>{u'institution': {u'ed_to': u'07/2007', u'ed_a...</td>\n",
       "      <td>{u'institution': {u'ed_to': u'12/2012', u'ed_a...</td>\n",
       "      <td>{u'institution': [{u'ed_to': u'12/2002', u'ed_...</td>\n",
       "      <td></td>\n",
       "      <td></td>\n",
       "      <td>{u'institution': {u'ed_to': u'01/2008', u'ed_a...</td>\n",
       "      <td>{u'institution': {u'ed_to': u'12/2015', u'ed_a...</td>\n",
       "      <td></td>\n",
       "      <td>{u'institution': {u'ed_to': u'Present', u'ed_a...</td>\n",
       "      <td>{u'institution': {u'ed_to': u'12/2014', u'ed_a...</td>\n",
       "      <td>...</td>\n",
       "      <td></td>\n",
       "      <td>{u'institution': [{u'ed_to': u'12/2015', u'ed_...</td>\n",
       "      <td>{u'institution': {u'ed_to': u'04/2012', u'ed_a...</td>\n",
       "      <td>{u'institution': [{u'ed_to': u'Present', u'ed_...</td>\n",
       "      <td>{u'institution': {u'ed_to': u'12/2014', u'ed_a...</td>\n",
       "      <td>{u'institution': {u'ed_to': u'12/2012', u'ed_a...</td>\n",
       "      <td>{u'institution': {u'ed_to': u'Present', u'ed_a...</td>\n",
       "      <td>{u'institution': {u'ed_to': u'12/2005', u'ed_a...</td>\n",
       "      <td>{u'institution': {u'ed_to': u'12/2015', u'ed_a...</td>\n",
       "      <td>{u'institution': {u'ed_to': u'12/2013', u'ed_a...</td>\n",
       "    </tr>\n",
       "    <tr>\n",
       "      <th>agency_affl</th>\n",
       "      <td>False</td>\n",
       "      <td>False</td>\n",
       "      <td>False</td>\n",
       "      <td>False</td>\n",
       "      <td>False</td>\n",
       "      <td>False</td>\n",
       "      <td>False</td>\n",
       "      <td>False</td>\n",
       "      <td>False</td>\n",
       "      <td>False</td>\n",
       "      <td>...</td>\n",
       "      <td>False</td>\n",
       "      <td>False</td>\n",
       "      <td>False</td>\n",
       "      <td>False</td>\n",
       "      <td>False</td>\n",
       "      <td>False</td>\n",
       "      <td>False</td>\n",
       "      <td>False</td>\n",
       "      <td>False</td>\n",
       "      <td>False</td>\n",
       "    </tr>\n",
       "    <tr>\n",
       "      <th>group_affl</th>\n",
       "      <td>False</td>\n",
       "      <td>False</td>\n",
       "      <td>False</td>\n",
       "      <td>False</td>\n",
       "      <td>False</td>\n",
       "      <td>False</td>\n",
       "      <td>False</td>\n",
       "      <td>False</td>\n",
       "      <td>False</td>\n",
       "      <td>False</td>\n",
       "      <td>...</td>\n",
       "      <td>False</td>\n",
       "      <td>False</td>\n",
       "      <td>False</td>\n",
       "      <td>False</td>\n",
       "      <td>False</td>\n",
       "      <td>False</td>\n",
       "      <td>False</td>\n",
       "      <td>False</td>\n",
       "      <td>False</td>\n",
       "      <td>False</td>\n",
       "    </tr>\n",
       "    <tr>\n",
       "      <th>has_portrait</th>\n",
       "      <td>True</td>\n",
       "      <td>True</td>\n",
       "      <td>True</td>\n",
       "      <td>False</td>\n",
       "      <td>True</td>\n",
       "      <td>False</td>\n",
       "      <td>True</td>\n",
       "      <td>True</td>\n",
       "      <td>True</td>\n",
       "      <td>True</td>\n",
       "      <td>...</td>\n",
       "      <td>True</td>\n",
       "      <td>True</td>\n",
       "      <td>True</td>\n",
       "      <td>True</td>\n",
       "      <td>False</td>\n",
       "      <td>True</td>\n",
       "      <td>True</td>\n",
       "      <td>True</td>\n",
       "      <td>True</td>\n",
       "      <td>True</td>\n",
       "    </tr>\n",
       "    <tr>\n",
       "      <th>highest_degree</th>\n",
       "      <td>Masters</td>\n",
       "      <td>Bachelor of Engineering (B.Eng.)</td>\n",
       "      <td>Master of Business Administration (M.B.A.)</td>\n",
       "      <td>Doctor of Philosophy (Ph.D.)</td>\n",
       "      <td>Other</td>\n",
       "      <td>Other</td>\n",
       "      <td>Bachelors</td>\n",
       "      <td>Master of Business Administration (M.B.A.)</td>\n",
       "      <td>Other</td>\n",
       "      <td>Bachelors</td>\n",
       "      <td>...</td>\n",
       "      <td>Diploma</td>\n",
       "      <td>Master of Computer Applications (M.C.A.)</td>\n",
       "      <td>Bachelor of Education (B.Ed.)</td>\n",
       "      <td>Bachelor's degree</td>\n",
       "      <td>Other</td>\n",
       "      <td>Bachelor of Commerce (B.Com.)</td>\n",
       "      <td>Master's</td>\n",
       "      <td>Bachelor of Architecture (B.Arch.)</td>\n",
       "      <td>Other</td>\n",
       "      <td>Masters</td>\n",
       "    </tr>\n",
       "    <tr>\n",
       "      <th>has_portfolio</th>\n",
       "      <td>True</td>\n",
       "      <td>False</td>\n",
       "      <td>False</td>\n",
       "      <td>True</td>\n",
       "      <td>False</td>\n",
       "      <td>True</td>\n",
       "      <td>False</td>\n",
       "      <td>True</td>\n",
       "      <td>False</td>\n",
       "      <td>False</td>\n",
       "      <td>...</td>\n",
       "      <td>True</td>\n",
       "      <td>False</td>\n",
       "      <td>False</td>\n",
       "      <td>True</td>\n",
       "      <td>False</td>\n",
       "      <td>False</td>\n",
       "      <td>True</td>\n",
       "      <td>False</td>\n",
       "      <td>False</td>\n",
       "      <td>False</td>\n",
       "    </tr>\n",
       "    <tr>\n",
       "      <th>took_tests</th>\n",
       "      <td>True</td>\n",
       "      <td>True</td>\n",
       "      <td>True</td>\n",
       "      <td>True</td>\n",
       "      <td>True</td>\n",
       "      <td>True</td>\n",
       "      <td>True</td>\n",
       "      <td>False</td>\n",
       "      <td>True</td>\n",
       "      <td>False</td>\n",
       "      <td>...</td>\n",
       "      <td>False</td>\n",
       "      <td>True</td>\n",
       "      <td>True</td>\n",
       "      <td>True</td>\n",
       "      <td>True</td>\n",
       "      <td>False</td>\n",
       "      <td>True</td>\n",
       "      <td>False</td>\n",
       "      <td>True</td>\n",
       "      <td>True</td>\n",
       "    </tr>\n",
       "    <tr>\n",
       "      <th>skills_string</th>\n",
       "      <td>ajax apidashdevelopment curl javascript magent...</td>\n",
       "      <td>ajax css3 grails groovy javascript jquery mysq...</td>\n",
       "      <td>articledashwriting creativedashwriting datadas...</td>\n",
       "      <td>facebookdashapi googledashmapsdashapi html5 jq...</td>\n",
       "      <td>actionscriptdash3 adobedashafterdasheffects ad...</td>\n",
       "      <td>cplusplus java oracledashdatabase perl php qt ...</td>\n",
       "      <td>css3 html5 internetdashresearch javascript mys...</td>\n",
       "      <td>agiledashsoftwaredashdevelopment androiddashap...</td>\n",
       "      <td>creativedashwriting datadashanalysis editorial...</td>\n",
       "      <td>androiddashappdashdevelopment csharp css3 html...</td>\n",
       "      <td>...</td>\n",
       "      <td>css djangodashframework javascript linuxdashsy...</td>\n",
       "      <td>adobedashillustrator adobedashphotoshop micros...</td>\n",
       "      <td>adobedashindesign adobedashpagemaker copywriti...</td>\n",
       "      <td>cprog cplusplus embeddeddashsystems hibernate ...</td>\n",
       "      <td>css djangodashframework html javascript jquery...</td>\n",
       "      <td>cplusplus ciscodashrouters freebsd gwt java li...</td>\n",
       "      <td>androiddashappdashdevelopment cprog cplusplus ...</td>\n",
       "      <td>arcgis autocad python</td>\n",
       "      <td>englishdashgrammar matlab microsoftdashexcel m...</td>\n",
       "      <td>apachedashstruts hibernate java javadashservle...</td>\n",
       "    </tr>\n",
       "  </tbody>\n",
       "</table>\n",
       "<p>16 rows × 88696 columns</p>\n",
       "</div>"
      ],
      "text/plain": [
       "                                                                  0      \\\n",
       "dev_bill_rate                                                        15   \n",
       "dev_blurb             Over the more than 6 years, I have developed a...   \n",
       "dev_country                                                       India   \n",
       "dev_eng_skill                                                         4   \n",
       "dev_portrait          https://odesk-prod-portraits.s3.amazonaws.com/...   \n",
       "dev_profile_title                 LAMP developer with more than 6 years   \n",
       "dev_recno_ciphertext                                ~01cae3810dc6d2bbbc   \n",
       "dev_timezone              UTC+05:30 Mumbai, Kolkata, Chennai, New Delhi   \n",
       "education             {u'institution': {u'ed_to': u'07/2007', u'ed_a...   \n",
       "agency_affl                                                       False   \n",
       "group_affl                                                        False   \n",
       "has_portrait                                                       True   \n",
       "highest_degree                                                  Masters   \n",
       "has_portfolio                                                      True   \n",
       "took_tests                                                         True   \n",
       "skills_string         ajax apidashdevelopment curl javascript magent...   \n",
       "\n",
       "                                                                  1      \\\n",
       "dev_bill_rate                                                        12   \n",
       "dev_blurb             I am a web application developer, having 2 yea...   \n",
       "dev_country                                                       India   \n",
       "dev_eng_skill                                                         5   \n",
       "dev_portrait          https://odesk-prod-portraits.s3.amazonaws.com/...   \n",
       "dev_profile_title                              Web Developer / Designer   \n",
       "dev_recno_ciphertext                                ~01d24ced467385214d   \n",
       "dev_timezone              UTC+05:30 Mumbai, Kolkata, Chennai, New Delhi   \n",
       "education             {u'institution': {u'ed_to': u'12/2012', u'ed_a...   \n",
       "agency_affl                                                       False   \n",
       "group_affl                                                        False   \n",
       "has_portrait                                                       True   \n",
       "highest_degree                         Bachelor of Engineering (B.Eng.)   \n",
       "has_portfolio                                                     False   \n",
       "took_tests                                                         True   \n",
       "skills_string         ajax css3 grails groovy javascript jquery mysq...   \n",
       "\n",
       "                                                                  2      \\\n",
       "dev_bill_rate                                                     44.44   \n",
       "dev_blurb             Extensive expertise in clinical research publi...   \n",
       "dev_country                                               United States   \n",
       "dev_eng_skill                                                         5   \n",
       "dev_portrait          https://odesk-prod-portraits.s3.amazonaws.com/...   \n",
       "dev_profile_title     English/French Writer/Translator,Scientific Di...   \n",
       "dev_recno_ciphertext                                ~01953fb4fa2ceb67dc   \n",
       "dev_timezone          UTC+01:00 Berlin, Stockholm, Rome, Bern, Brussels   \n",
       "education             {u'institution': [{u'ed_to': u'12/2002', u'ed_...   \n",
       "agency_affl                                                       False   \n",
       "group_affl                                                        False   \n",
       "has_portrait                                                       True   \n",
       "highest_degree               Master of Business Administration (M.B.A.)   \n",
       "has_portfolio                                                     False   \n",
       "took_tests                                                         True   \n",
       "skills_string         articledashwriting creativedashwriting datadas...   \n",
       "\n",
       "                                                                  3      \\\n",
       "dev_bill_rate                                                     24.44   \n",
       "dev_blurb             I'm a WEB-developer with more than 5 years exp...   \n",
       "dev_country                                                     Ukraine   \n",
       "dev_eng_skill                                                         5   \n",
       "dev_portrait                                                              \n",
       "dev_profile_title     PHP/Zend Framework/MySql/MongoDB/SPHINX/jQuery...   \n",
       "dev_recno_ciphertext                                ~01a9ab111f973ae055   \n",
       "dev_timezone                       UTC+02:00 Athens, Helsinki, Istanbul   \n",
       "education                                                                 \n",
       "agency_affl                                                       False   \n",
       "group_affl                                                        False   \n",
       "has_portrait                                                      False   \n",
       "highest_degree                             Doctor of Philosophy (Ph.D.)   \n",
       "has_portfolio                                                      True   \n",
       "took_tests                                                         True   \n",
       "skills_string         facebookdashapi googledashmapsdashapi html5 jq...   \n",
       "\n",
       "                                                                  4      \\\n",
       "dev_bill_rate                                                        15   \n",
       "dev_blurb             Specializes in developing Photoshop and After ...   \n",
       "dev_country                                                   Sri Lanka   \n",
       "dev_eng_skill                                                             \n",
       "dev_portrait          https://odesk-prod-portraits.s3.amazonaws.com/...   \n",
       "dev_profile_title     After Effects, Photoshop - Scripting And Plugi...   \n",
       "dev_recno_ciphertext                                ~016dcec1087cba565c   \n",
       "dev_timezone              UTC+05:30 Mumbai, Kolkata, Chennai, New Delhi   \n",
       "education                                                                 \n",
       "agency_affl                                                       False   \n",
       "group_affl                                                        False   \n",
       "has_portrait                                                       True   \n",
       "highest_degree                                                    Other   \n",
       "has_portfolio                                                     False   \n",
       "took_tests                                                         True   \n",
       "skills_string         actionscriptdash3 adobedashafterdasheffects ad...   \n",
       "\n",
       "                                                                  5      \\\n",
       "dev_bill_rate                                                     16.67   \n",
       "dev_blurb                                                                 \n",
       "dev_country                                                     Germany   \n",
       "dev_eng_skill                                                         5   \n",
       "dev_portrait                                                              \n",
       "dev_profile_title     Development of reliable and flexible software(...   \n",
       "dev_recno_ciphertext                                ~019e83a0dfa04c0e8b   \n",
       "dev_timezone          UTC+01:00 Berlin, Stockholm, Rome, Bern, Brussels   \n",
       "education             {u'institution': {u'ed_to': u'01/2008', u'ed_a...   \n",
       "agency_affl                                                       False   \n",
       "group_affl                                                        False   \n",
       "has_portrait                                                      False   \n",
       "highest_degree                                                    Other   \n",
       "has_portfolio                                                      True   \n",
       "took_tests                                                         True   \n",
       "skills_string         cplusplus java oracledashdatabase perl php qt ...   \n",
       "\n",
       "                                                                  6      \\\n",
       "dev_bill_rate                                                        30   \n",
       "dev_blurb             skype :  orange_project_kh\\nemail:    contact@...   \n",
       "dev_country                                                     Ukraine   \n",
       "dev_eng_skill                                                         4   \n",
       "dev_portrait          https://odesk-prod-portraits.s3.amazonaws.com/...   \n",
       "dev_profile_title     Fullstack web developer, e-commerce developing...   \n",
       "dev_recno_ciphertext                                ~01863825efc778f975   \n",
       "dev_timezone                                   UTC+02:00 Eastern Europe   \n",
       "education             {u'institution': {u'ed_to': u'12/2015', u'ed_a...   \n",
       "agency_affl                                                       False   \n",
       "group_affl                                                        False   \n",
       "has_portrait                                                       True   \n",
       "highest_degree                                                Bachelors   \n",
       "has_portfolio                                                     False   \n",
       "took_tests                                                         True   \n",
       "skills_string         css3 html5 internetdashresearch javascript mys...   \n",
       "\n",
       "                                                                  7      \\\n",
       "dev_bill_rate                                                     11.11   \n",
       "dev_blurb             DTL Solutions is the software solutions provid...   \n",
       "dev_country                                                     Vietnam   \n",
       "dev_eng_skill                                                         4   \n",
       "dev_portrait          https://odesk-prod-portraits.s3.amazonaws.com/...   \n",
       "dev_profile_title     Small IT solution company provides Development...   \n",
       "dev_recno_ciphertext                                ~01614e82e3c5a0ccca   \n",
       "dev_timezone                                UTC+07:00 Omsk, Novosibirsk   \n",
       "education                                                                 \n",
       "agency_affl                                                       False   \n",
       "group_affl                                                        False   \n",
       "has_portrait                                                       True   \n",
       "highest_degree               Master of Business Administration (M.B.A.)   \n",
       "has_portfolio                                                      True   \n",
       "took_tests                                                        False   \n",
       "skills_string         agiledashsoftwaredashdevelopment androiddashap...   \n",
       "\n",
       "                                                                  8      \\\n",
       "dev_bill_rate                                                        10   \n",
       "dev_blurb             I am an upcoming college graduate! I will rece...   \n",
       "dev_country                                               United States   \n",
       "dev_eng_skill                                                         5   \n",
       "dev_portrait          https://odesk-prod-portraits.s3.amazonaws.com/...   \n",
       "dev_profile_title               Upbeat Enthusiastic Professional Writer   \n",
       "dev_recno_ciphertext                                ~0122260b02b0c56563   \n",
       "dev_timezone              UTC-08:00 Pacific Time (US & Canada); Tijuana   \n",
       "education             {u'institution': {u'ed_to': u'Present', u'ed_a...   \n",
       "agency_affl                                                       False   \n",
       "group_affl                                                        False   \n",
       "has_portrait                                                       True   \n",
       "highest_degree                                                    Other   \n",
       "has_portfolio                                                     False   \n",
       "took_tests                                                         True   \n",
       "skills_string         creativedashwriting datadashanalysis editorial...   \n",
       "\n",
       "                                                                  9      \\\n",
       "dev_bill_rate                                                      5.56   \n",
       "dev_blurb             1)  Shopping Card Management System using C# a...   \n",
       "dev_country                                                  Bangladesh   \n",
       "dev_eng_skill                                                             \n",
       "dev_portrait          https://odesk-prod-portraits.s3.amazonaws.com/...   \n",
       "dev_profile_title               Bsc in Computer Science and Engineering   \n",
       "dev_recno_ciphertext                                ~01a3583a33f5146e8e   \n",
       "dev_timezone                                    UTC+06:00 Almaty, Dhaka   \n",
       "education             {u'institution': {u'ed_to': u'12/2014', u'ed_a...   \n",
       "agency_affl                                                       False   \n",
       "group_affl                                                        False   \n",
       "has_portrait                                                       True   \n",
       "highest_degree                                                Bachelors   \n",
       "has_portfolio                                                     False   \n",
       "took_tests                                                        False   \n",
       "skills_string         androiddashappdashdevelopment csharp css3 html...   \n",
       "\n",
       "                                            ...                          \\\n",
       "dev_bill_rate                               ...                           \n",
       "dev_blurb                                   ...                           \n",
       "dev_country                                 ...                           \n",
       "dev_eng_skill                               ...                           \n",
       "dev_portrait                                ...                           \n",
       "dev_profile_title                           ...                           \n",
       "dev_recno_ciphertext                        ...                           \n",
       "dev_timezone                                ...                           \n",
       "education                                   ...                           \n",
       "agency_affl                                 ...                           \n",
       "group_affl                                  ...                           \n",
       "has_portrait                                ...                           \n",
       "highest_degree                              ...                           \n",
       "has_portfolio                               ...                           \n",
       "took_tests                                  ...                           \n",
       "skills_string                               ...                           \n",
       "\n",
       "                                                                  88686  \\\n",
       "dev_bill_rate                                                     22.22   \n",
       "dev_blurb             I'm a software engineer focused on backend and...   \n",
       "dev_country                                                      Russia   \n",
       "dev_eng_skill                                                         3   \n",
       "dev_portrait          https://odesk-prod-portraits.s3.amazonaws.com/...   \n",
       "dev_profile_title                                    Software Developer   \n",
       "dev_recno_ciphertext                                ~01dfd63f31c5228d16   \n",
       "dev_timezone                                UTC+07:00 Omsk, Novosibirsk   \n",
       "education                                                                 \n",
       "agency_affl                                                       False   \n",
       "group_affl                                                        False   \n",
       "has_portrait                                                       True   \n",
       "highest_degree                                                  Diploma   \n",
       "has_portfolio                                                      True   \n",
       "took_tests                                                        False   \n",
       "skills_string         css djangodashframework javascript linuxdashsy...   \n",
       "\n",
       "                                                                  88687  \\\n",
       "dev_bill_rate                                                         4   \n",
       "dev_blurb             I am  working as a  officer at Checkpoint syst...   \n",
       "dev_country                                                  Bangladesh   \n",
       "dev_eng_skill                                                         4   \n",
       "dev_portrait          https://odesk-prod-portraits.s3.amazonaws.com/...   \n",
       "dev_profile_title                                       IT Professional   \n",
       "dev_recno_ciphertext                                ~018aaab6cfdc3fb96c   \n",
       "dev_timezone                                    UTC+06:00 Almaty, Dhaka   \n",
       "education             {u'institution': [{u'ed_to': u'12/2015', u'ed_...   \n",
       "agency_affl                                                       False   \n",
       "group_affl                                                        False   \n",
       "has_portrait                                                       True   \n",
       "highest_degree                 Master of Computer Applications (M.C.A.)   \n",
       "has_portfolio                                                     False   \n",
       "took_tests                                                         True   \n",
       "skills_string         adobedashillustrator adobedashphotoshop micros...   \n",
       "\n",
       "                                                                  88688  \\\n",
       "dev_bill_rate                                                      6.67   \n",
       "dev_blurb             To enhance my journalistic prowess through onl...   \n",
       "dev_country                                                 Philippines   \n",
       "dev_eng_skill                                                         4   \n",
       "dev_portrait          https://odesk-prod-portraits.s3.amazonaws.com/...   \n",
       "dev_profile_title     Statistician|News&Sports Writer|InDesign|Pagem...   \n",
       "dev_recno_ciphertext                                ~01360017155d421ae3   \n",
       "dev_timezone          UTC+08:00 Hong Kong SAR, Perth, Singapore, Taipei   \n",
       "education             {u'institution': {u'ed_to': u'04/2012', u'ed_a...   \n",
       "agency_affl                                                       False   \n",
       "group_affl                                                        False   \n",
       "has_portrait                                                       True   \n",
       "highest_degree                            Bachelor of Education (B.Ed.)   \n",
       "has_portfolio                                                     False   \n",
       "took_tests                                                         True   \n",
       "skills_string         adobedashindesign adobedashpagemaker copywriti...   \n",
       "\n",
       "                                                                  88689  \\\n",
       "dev_bill_rate                                                     13.89   \n",
       "dev_blurb             I'm a highly motivated person with a strong ba...   \n",
       "dev_country                                                      Russia   \n",
       "dev_eng_skill                                                         4   \n",
       "dev_portrait          https://odesk-prod-portraits.s3.amazonaws.com/...   \n",
       "dev_profile_title        Experienced developer and scientific assistant   \n",
       "dev_recno_ciphertext                                ~0169007d9fa447a06b   \n",
       "dev_timezone                UTC+03:00 Moscow, St. Petersburg, Volgograd   \n",
       "education             {u'institution': [{u'ed_to': u'Present', u'ed_...   \n",
       "agency_affl                                                       False   \n",
       "group_affl                                                        False   \n",
       "has_portrait                                                       True   \n",
       "highest_degree                                        Bachelor's degree   \n",
       "has_portfolio                                                      True   \n",
       "took_tests                                                         True   \n",
       "skills_string         cprog cplusplus embeddeddashsystems hibernate ...   \n",
       "\n",
       "                                                                  88690  \\\n",
       "dev_bill_rate                                                        10   \n",
       "dev_blurb             I like building cool web applications, and I o...   \n",
       "dev_country                                                       India   \n",
       "dev_eng_skill                                                         5   \n",
       "dev_portrait                                                              \n",
       "dev_profile_title     An expert web application developer with Djang...   \n",
       "dev_recno_ciphertext                                ~014920c811cecebbc4   \n",
       "dev_timezone                           UTC (Coordinated Universal Time)   \n",
       "education             {u'institution': {u'ed_to': u'12/2014', u'ed_a...   \n",
       "agency_affl                                                       False   \n",
       "group_affl                                                        False   \n",
       "has_portrait                                                      False   \n",
       "highest_degree                                                    Other   \n",
       "has_portfolio                                                     False   \n",
       "took_tests                                                         True   \n",
       "skills_string         css djangodashframework html javascript jquery...   \n",
       "\n",
       "                                                                  88691  \\\n",
       "dev_bill_rate                                                     16.67   \n",
       "dev_blurb             I configure and run the base station WiMAX on ...   \n",
       "dev_country                                                      Russia   \n",
       "dev_eng_skill                                                         3   \n",
       "dev_portrait          https://odesk-prod-portraits.s3.amazonaws.com/...   \n",
       "dev_profile_title                                    Software Developer   \n",
       "dev_recno_ciphertext                                ~0148cf1eca9907db89   \n",
       "dev_timezone                UTC+04:00 Abu Dhabi, Muscat, Tbilisi, Kazan   \n",
       "education             {u'institution': {u'ed_to': u'12/2012', u'ed_a...   \n",
       "agency_affl                                                       False   \n",
       "group_affl                                                        False   \n",
       "has_portrait                                                       True   \n",
       "highest_degree                            Bachelor of Commerce (B.Com.)   \n",
       "has_portfolio                                                     False   \n",
       "took_tests                                                        False   \n",
       "skills_string         cplusplus ciscodashrouters freebsd gwt java li...   \n",
       "\n",
       "                                                                  88692  \\\n",
       "dev_bill_rate                                                     11.11   \n",
       "dev_blurb             I am looking to help in software solutions . w...   \n",
       "dev_country                                                       Egypt   \n",
       "dev_eng_skill                                                         5   \n",
       "dev_portrait          https://www.odesk.com/att/~~mOJyJwUvL-dOchJGOo...   \n",
       "dev_profile_title                                           Ahmed Eshra   \n",
       "dev_recno_ciphertext                                ~01baacbe6b9e3d8c30   \n",
       "dev_timezone                                            UTC+02:00 Cairo   \n",
       "education             {u'institution': {u'ed_to': u'Present', u'ed_a...   \n",
       "agency_affl                                                       False   \n",
       "group_affl                                                        False   \n",
       "has_portrait                                                       True   \n",
       "highest_degree                                                 Master's   \n",
       "has_portfolio                                                      True   \n",
       "took_tests                                                         True   \n",
       "skills_string         androiddashappdashdevelopment cprog cplusplus ...   \n",
       "\n",
       "                                                                  88693  \\\n",
       "dev_bill_rate                                                        35   \n",
       "dev_blurb             I have extensive experience using Python to so...   \n",
       "dev_country                                               United States   \n",
       "dev_eng_skill                                                         5   \n",
       "dev_portrait          https://odesk-prod-portraits.s3.amazonaws.com/...   \n",
       "dev_profile_title                            Python & ArcGIS Programmer   \n",
       "dev_recno_ciphertext                                ~013659f86de224bdf9   \n",
       "dev_timezone                      UTC-07:00 Mountain Time (US & Canada)   \n",
       "education             {u'institution': {u'ed_to': u'12/2005', u'ed_a...   \n",
       "agency_affl                                                       False   \n",
       "group_affl                                                        False   \n",
       "has_portrait                                                       True   \n",
       "highest_degree                       Bachelor of Architecture (B.Arch.)   \n",
       "has_portfolio                                                     False   \n",
       "took_tests                                                        False   \n",
       "skills_string                                     arcgis autocad python   \n",
       "\n",
       "                                                                  88694  \\\n",
       "dev_bill_rate                                                         3   \n",
       "dev_blurb             Looking for work in proofreading, editing or c...   \n",
       "dev_country                                                       India   \n",
       "dev_eng_skill                                                         4   \n",
       "dev_portrait          https://odesk-prod-portraits.s3.amazonaws.com/...   \n",
       "dev_profile_title                                                         \n",
       "dev_recno_ciphertext                                ~01b9ca1c9967daf519   \n",
       "dev_timezone              UTC+05:30 Mumbai, Kolkata, Chennai, New Delhi   \n",
       "education             {u'institution': {u'ed_to': u'12/2015', u'ed_a...   \n",
       "agency_affl                                                       False   \n",
       "group_affl                                                        False   \n",
       "has_portrait                                                       True   \n",
       "highest_degree                                                    Other   \n",
       "has_portfolio                                                     False   \n",
       "took_tests                                                         True   \n",
       "skills_string         englishdashgrammar matlab microsoftdashexcel m...   \n",
       "\n",
       "                                                                  88695  \n",
       "dev_bill_rate                                                        30  \n",
       "dev_blurb             I have 8 Years of Profession Experience and i ...  \n",
       "dev_country                                                       India  \n",
       "dev_eng_skill                                                         5  \n",
       "dev_portrait          https://odesk-prod-portraits.s3.amazonaws.com/...  \n",
       "dev_profile_title                                          Project Lead  \n",
       "dev_recno_ciphertext                                ~01a0cdfa47888e70f7  \n",
       "dev_timezone              UTC+05:30 Mumbai, Kolkata, Chennai, New Delhi  \n",
       "education             {u'institution': {u'ed_to': u'12/2013', u'ed_a...  \n",
       "agency_affl                                                       False  \n",
       "group_affl                                                        False  \n",
       "has_portrait                                                       True  \n",
       "highest_degree                                                  Masters  \n",
       "has_portfolio                                                     False  \n",
       "took_tests                                                         True  \n",
       "skills_string         apachedashstruts hibernate java javadashservle...  \n",
       "\n",
       "[16 rows x 88696 columns]"
      ]
     },
     "execution_count": 435,
     "metadata": {},
     "output_type": "execute_result"
    }
   ],
   "source": [
    "profiles_df.T.head(30)"
   ]
  },
  {
   "cell_type": "code",
   "execution_count": 473,
   "metadata": {
    "collapsed": false
   },
   "outputs": [],
   "source": [
    "profiles_usa_and_canada_ids = profiles_df[ (profiles_df['dev_country']=='United States') | \\\n",
    "                                      (profiles_df['dev_country']=='Canada') ]['dev_recno_ciphertext'].copy()"
   ]
  },
  {
   "cell_type": "code",
   "execution_count": 441,
   "metadata": {
    "collapsed": false
   },
   "outputs": [
    {
     "data": {
      "text/plain": [
       "2     ~01953fb4fa2ceb67dc\n",
       "8     ~0122260b02b0c56563\n",
       "10    ~018177de0182ba87ad\n",
       "22    ~01fff0a5f35f1c6ac7\n",
       "28    ~015f3926e293b176df\n",
       "Name: dev_recno_ciphertext, dtype: object"
      ]
     },
     "execution_count": 441,
     "metadata": {},
     "output_type": "execute_result"
    }
   ],
   "source": [
    "profiles_usa_and_canada_ids.head()"
   ]
  },
  {
   "cell_type": "markdown",
   "metadata": {},
   "source": [
    "## Work up `sv_df`"
   ]
  },
  {
   "cell_type": "code",
   "execution_count": 442,
   "metadata": {
    "collapsed": true
   },
   "outputs": [],
   "source": [
    "svcopy_df = sv_df.copy()"
   ]
  },
  {
   "cell_type": "code",
   "execution_count": 181,
   "metadata": {
    "collapsed": true
   },
   "outputs": [],
   "source": [
    "sv_df = svcopy_df.copy()"
   ]
  },
  {
   "cell_type": "code",
   "execution_count": 182,
   "metadata": {
    "collapsed": true
   },
   "outputs": [],
   "source": [
    "# print np.array(sv_df.columns)[sums > 1000]"
   ]
  },
  {
   "cell_type": "code",
   "execution_count": 443,
   "metadata": {
    "collapsed": false
   },
   "outputs": [],
   "source": [
    "skills_sums = np.array(sv_df.sum(axis=0))\n",
    "pct_threshold = 0.5 / 100.\n",
    "threshold = pct_threshold*float(len(sv_df))\n",
    "insufficient_data_columns = (skills_sums < threshold)"
   ]
  },
  {
   "cell_type": "code",
   "execution_count": 444,
   "metadata": {
    "collapsed": false
   },
   "outputs": [
    {
     "name": "stdout",
     "output_type": "stream",
     "text": [
      "# of columns that will be kept: 219\n"
     ]
    }
   ],
   "source": [
    "print '# of columns that will be kept: {}'.format(len(skills_sums) - np.sum(insufficient_data_columns))"
   ]
  },
  {
   "cell_type": "code",
   "execution_count": 445,
   "metadata": {
    "collapsed": false
   },
   "outputs": [],
   "source": [
    "columns_to_drop = list(np.arange(len(skills_sums))[insufficient_data_columns])\n",
    "sv_df.drop(sv_df.columns[columns_to_drop], axis=1, inplace=True)"
   ]
  },
  {
   "cell_type": "code",
   "execution_count": 447,
   "metadata": {
    "collapsed": false
   },
   "outputs": [
    {
     "name": "stdout",
     "output_type": "stream",
     "text": [
      "<class 'pandas.core.frame.DataFrame'>\n",
      "Int64Index: 88696 entries, 0 to 88695\n",
      "Columns: 219 entries, accounting to zenddashframework\n",
      "dtypes: int64(219)\n",
      "memory usage: 148.9 MB\n"
     ]
    }
   ],
   "source": [
    "sv_df.info()"
   ]
  },
  {
   "cell_type": "markdown",
   "metadata": {},
   "source": [
    "## Graft `sv_df` to `profiles_df` to create `profile_anly_ds`"
   ]
  },
  {
   "cell_type": "code",
   "execution_count": 448,
   "metadata": {
    "collapsed": true
   },
   "outputs": [],
   "source": [
    "profile_anly_ds = pd.concat([profiles_df['dev_recno_ciphertext'], sv_df], axis=1)"
   ]
  },
  {
   "cell_type": "markdown",
   "metadata": {},
   "source": [
    "## Work up `hr_paid_jobs_df`"
   ]
  },
  {
   "cell_type": "code",
   "execution_count": 469,
   "metadata": {
    "collapsed": false
   },
   "outputs": [],
   "source": [
    "def get_number(str):\n",
    "    return float(re.search(r'\\d+.*\\d*', str).group())\n",
    "\n",
    "hr_paid_jobs_df['hours_as_number'] = hr_paid_jobs_df['as_total_hours_precise'].apply(get_number)\n",
    "hr_paid_jobs_df['sqrt_hours'] = (hr_paid_jobs_df['hours_as_number'])**(0.5)"
   ]
  },
  {
   "cell_type": "code",
   "execution_count": 470,
   "metadata": {
    "collapsed": true
   },
   "outputs": [],
   "source": [
    "todays_date = datetime.datetime.now().strftime('%m/%d/%Y')"
   ]
  },
  {
   "cell_type": "code",
   "execution_count": 471,
   "metadata": {
    "collapsed": false
   },
   "outputs": [],
   "source": [
    "hr_paid_jobs_df['end_date_str'] = hr_paid_jobs_df['as_to_full'].replace({'Present': todays_date})"
   ]
  },
  {
   "cell_type": "code",
   "execution_count": 472,
   "metadata": {
    "collapsed": false
   },
   "outputs": [],
   "source": [
    "hr_paid_jobs_df['end_date'] = pd.to_datetime(hr_paid_jobs_df['end_date_str'])"
   ]
  },
  {
   "cell_type": "code",
   "execution_count": 474,
   "metadata": {
    "collapsed": false
   },
   "outputs": [],
   "source": [
    "hr_paid_jobs_df.drop([ \\\n",
    "    'end_date_str', \\\n",
    "    'as_from_full', \\\n",
    "    'as_to_full', \\\n",
    "    'as_rate', \\\n",
    "    'as_total_charge', \\\n",
    "    'as_total_hours_precise' \\\n",
    "], axis=1, inplace=True)"
   ]
  },
  {
   "cell_type": "code",
   "execution_count": 476,
   "metadata": {
    "collapsed": false
   },
   "outputs": [],
   "source": [
    "hr_paid_jobs_2013_plus = hr_paid_jobs_df[hr_paid_jobs_df['end_date'] > datetime.datetime(2013, 1, 1, 0, 0, 0)].copy()"
   ]
  },
  {
   "cell_type": "code",
   "execution_count": 477,
   "metadata": {
    "collapsed": false
   },
   "outputs": [],
   "source": [
    "hr_paid_jobs_2013_plus.drop(['end_date', 'hours_as_number'], axis=1, inplace=True)"
   ]
  },
  {
   "cell_type": "code",
   "execution_count": 478,
   "metadata": {
    "collapsed": false
   },
   "outputs": [
    {
     "data": {
      "text/html": [
       "<div>\n",
       "<table border=\"1\" class=\"dataframe\">\n",
       "  <thead>\n",
       "    <tr style=\"text-align: right;\">\n",
       "      <th></th>\n",
       "      <th>dev_recno_ciphertext</th>\n",
       "      <th>rate_as_number</th>\n",
       "      <th>sqrt_hours</th>\n",
       "    </tr>\n",
       "  </thead>\n",
       "  <tbody>\n",
       "    <tr>\n",
       "      <th>1</th>\n",
       "      <td>~01a9ab111f973ae055</td>\n",
       "      <td>22.22</td>\n",
       "      <td>24.779023</td>\n",
       "    </tr>\n",
       "    <tr>\n",
       "      <th>2</th>\n",
       "      <td>~01a9ab111f973ae055</td>\n",
       "      <td>16.67</td>\n",
       "      <td>34.578413</td>\n",
       "    </tr>\n",
       "    <tr>\n",
       "      <th>13</th>\n",
       "      <td>~0122260b02b0c56563</td>\n",
       "      <td>3.33</td>\n",
       "      <td>1.527525</td>\n",
       "    </tr>\n",
       "    <tr>\n",
       "      <th>27</th>\n",
       "      <td>~01df9ed93f98f6f65e</td>\n",
       "      <td>8.89</td>\n",
       "      <td>2.645751</td>\n",
       "    </tr>\n",
       "    <tr>\n",
       "      <th>32</th>\n",
       "      <td>~018702fd0c3029a744</td>\n",
       "      <td>16.67</td>\n",
       "      <td>2.041241</td>\n",
       "    </tr>\n",
       "  </tbody>\n",
       "</table>\n",
       "</div>"
      ],
      "text/plain": [
       "   dev_recno_ciphertext  rate_as_number  sqrt_hours\n",
       "1   ~01a9ab111f973ae055           22.22   24.779023\n",
       "2   ~01a9ab111f973ae055           16.67   34.578413\n",
       "13  ~0122260b02b0c56563            3.33    1.527525\n",
       "27  ~01df9ed93f98f6f65e            8.89    2.645751\n",
       "32  ~018702fd0c3029a744           16.67    2.041241"
      ]
     },
     "execution_count": 478,
     "metadata": {},
     "output_type": "execute_result"
    }
   ],
   "source": [
    "hr_paid_jobs_2013_plus.head()"
   ]
  },
  {
   "cell_type": "markdown",
   "metadata": {},
   "source": [
    "## Create analysis data set for Questions 1 and 2 (GBRT)"
   ]
  },
  {
   "cell_type": "code",
   "execution_count": 491,
   "metadata": {
    "collapsed": false
   },
   "outputs": [],
   "source": [
    "jobs_anly_temp = pd.merge( \\\n",
    "                        left=profile_anly_ds, \\\n",
    "                        right=hr_paid_jobs_2013_plus, \\\n",
    "                        how='inner', left_on='dev_recno_ciphertext', \\\n",
    "                        right_on='dev_recno_ciphertext' \\\n",
    "                       )"
   ]
  },
  {
   "cell_type": "code",
   "execution_count": 492,
   "metadata": {
    "collapsed": false
   },
   "outputs": [],
   "source": [
    "jobs_anly_ds= pd.merge( \\\n",
    "                        left=pd.DataFrame(profiles_usa_and_canada_ids), \\\n",
    "                        right=jobs_anly_temp, \\\n",
    "                        how='inner', left_on='dev_recno_ciphertext', \\\n",
    "                        right_on='dev_recno_ciphertext' \\\n",
    "                       )"
   ]
  },
  {
   "cell_type": "code",
   "execution_count": 493,
   "metadata": {
    "collapsed": false
   },
   "outputs": [
    {
     "name": "stdout",
     "output_type": "stream",
     "text": [
      "<class 'pandas.core.frame.DataFrame'>\n",
      "Int64Index: 2506 entries, 0 to 2505\n",
      "Columns: 222 entries, dev_recno_ciphertext to sqrt_hours\n",
      "dtypes: float64(2), int64(219), object(1)\n",
      "memory usage: 4.3+ MB\n"
     ]
    }
   ],
   "source": [
    "jobs_anly_ds.info()"
   ]
  },
  {
   "cell_type": "markdown",
   "metadata": {},
   "source": [
    "## Run GBRT models"
   ]
  },
  {
   "cell_type": "markdown",
   "metadata": {},
   "source": [
    "### Try one GBRT model"
   ]
  },
  {
   "cell_type": "code",
   "execution_count": 494,
   "metadata": {
    "collapsed": true
   },
   "outputs": [],
   "source": [
    "target = 'rate_as_number'\n",
    "IDcol = 'dev_recno_ciphertext'\n",
    "weight = 'sqrt_hours'\n",
    "predictors = [x for x in jobs_anly_ds.columns if x not in [target, IDcol, weight]]\n",
    "\n",
    "y = jobs_anly_ds.pop('rate_as_number').values\n",
    "weights = jobs_anly_ds.pop('sqrt_hours').values\n",
    "X = jobs_anly_ds[predictors].values"
   ]
  },
  {
   "cell_type": "code",
   "execution_count": 495,
   "metadata": {
    "collapsed": true
   },
   "outputs": [],
   "source": [
    "with open('data/predictors.txt', 'w') as f:\n",
    "    for pred in predictors:\n",
    "        f.write(pred + '\\n')"
   ]
  },
  {
   "cell_type": "code",
   "execution_count": 498,
   "metadata": {
    "collapsed": false
   },
   "outputs": [
    {
     "data": {
      "text/plain": [
       "GradientBoostingRegressor(alpha=0.9, init=None, learning_rate=0.1, loss='ls',\n",
       "             max_depth=3, max_features=None, max_leaf_nodes=None,\n",
       "             min_samples_leaf=1, min_samples_split=2,\n",
       "             min_weight_fraction_leaf=0.0, n_estimators=1000,\n",
       "             presort='auto', random_state=8, subsample=1.0, verbose=0,\n",
       "             warm_start=False)"
      ]
     },
     "execution_count": 498,
     "metadata": {},
     "output_type": "execute_result"
    }
   ],
   "source": [
    "#Choose all predictors except target & IDcols\n",
    "gbm0 = GradientBoostingRegressor(random_state=8, n_estimators=1000, learning_rate=0.1)\n",
    "gbm0.fit(X, y, weights)\n",
    "mse = mean_squared_error(y, gbm0.predict(X), sample_weight=weights)\n",
    "print mse\n"
   ]
  },
  {
   "cell_type": "code",
   "execution_count": 501,
   "metadata": {
    "collapsed": false
   },
   "outputs": [
    {
     "name": "stdout",
     "output_type": "stream",
     "text": [
      "3\n"
     ]
    }
   ],
   "source": [
    "np_predictors = np.array(predictors)\n",
    "skill_set = ( \\\n",
    "             (np_predictors == 'python') + \\\n",
    "             (np_predictors == 'statistics') + \\\n",
    "             (np_predictors == 'machinedashlearning') \\\n",
    "            ).reshape(1, -1)\n",
    "print np.sum(skill_set)"
   ]
  },
  {
   "cell_type": "code",
   "execution_count": 502,
   "metadata": {
    "collapsed": false
   },
   "outputs": [
    {
     "data": {
      "text/plain": [
       "array([ 36.67513496])"
      ]
     },
     "execution_count": 502,
     "metadata": {},
     "output_type": "execute_result"
    }
   ],
   "source": [
    "gbm0.predict(skill_set)"
   ]
  },
  {
   "cell_type": "code",
   "execution_count": 503,
   "metadata": {
    "collapsed": true
   },
   "outputs": [],
   "source": [
    "matrix_side = len(np_predictors)\n",
    "skill_set_for_all = np.repeat(skill_set, matrix_side, axis=0)\n",
    "plus_one_skill = (skill_set_for_all) | (np.eye(matrix_side).astype(bool))"
   ]
  },
  {
   "cell_type": "code",
   "execution_count": 504,
   "metadata": {
    "collapsed": false
   },
   "outputs": [
    {
     "name": "stdout",
     "output_type": "stream",
     "text": [
      "[ 56.23859484  20.36099434  18.2140494   14.43088875  13.5926924\n",
      "  13.19839603  11.75510666  10.41121274   9.83235662   9.00231807\n",
      "   8.9528251    8.38389016   7.93531294   7.7812883    6.97937318\n",
      "   6.5781361    6.00121592   5.99349842   5.78446369   5.75584615]\n",
      "[u'jpa' u'datadashscience' u'mysql' u'databasedashmodeling' u'bigdashdata'\n",
      " u'dotnetdashframework' u'oracledashplsql' u'datadashmodeling'\n",
      " u'datadashmining' u'iphonedashappdashdevelopment' u'wcf'\n",
      " u'webdashprogramming' u'networkdashadministration'\n",
      " u'amazondashwebdashservices' u'jquerydashmobile' u'matlab' u'scala'\n",
      " u'mobiledashappdashdevelopment' u'mysqldashprogramming'\n",
      " u'microsoftdashsqldashssrs']\n"
     ]
    }
   ],
   "source": [
    "plus_one_preds = gbm0.predict(plus_one_skill)\n",
    "top_20_plus_ones = plus_one_preds.argsort()[-20:][::-1]\n",
    "print plus_one_preds[top_20_plus_ones ] - gbm0.predict(skill_set)\n",
    "print np_predictors[top_20_plus_ones]"
   ]
  },
  {
   "cell_type": "markdown",
   "metadata": {},
   "source": [
    "## Optimize regression model"
   ]
  },
  {
   "cell_type": "code",
   "execution_count": 505,
   "metadata": {
    "collapsed": true
   },
   "outputs": [],
   "source": [
    "gd_grid = {'learning_rate': [0.06, 0.04, 0.02],\n",
    "           'max_depth': [4, 6],\n",
    "           'min_samples_leaf': [10],\n",
    "           'n_estimators': [300, 500, 800],\n",
    "           'random_state': [1]}"
   ]
  },
  {
   "cell_type": "code",
   "execution_count": 506,
   "metadata": {
    "collapsed": false
   },
   "outputs": [
    {
     "name": "stdout",
     "output_type": "stream",
     "text": [
      "LR 0.06, max_depth 4, min_samp_leaf 10, n_est 300, rs 1\n",
      "LR 0.06, max_depth 4, min_samp_leaf 10, n_est 500, rs 1\n",
      "LR 0.06, max_depth 4, min_samp_leaf 10, n_est 800, rs 1\n",
      "LR 0.06, max_depth 6, min_samp_leaf 10, n_est 300, rs 1\n",
      "LR 0.06, max_depth 6, min_samp_leaf 10, n_est 500, rs 1\n",
      "LR 0.06, max_depth 6, min_samp_leaf 10, n_est 800, rs 1\n",
      "LR 0.04, max_depth 4, min_samp_leaf 10, n_est 300, rs 1\n",
      "LR 0.04, max_depth 4, min_samp_leaf 10, n_est 500, rs 1\n",
      "LR 0.04, max_depth 4, min_samp_leaf 10, n_est 800, rs 1\n",
      "LR 0.04, max_depth 6, min_samp_leaf 10, n_est 300, rs 1\n",
      "LR 0.04, max_depth 6, min_samp_leaf 10, n_est 500, rs 1\n",
      "LR 0.04, max_depth 6, min_samp_leaf 10, n_est 800, rs 1\n",
      "LR 0.02, max_depth 4, min_samp_leaf 10, n_est 300, rs 1\n",
      "LR 0.02, max_depth 4, min_samp_leaf 10, n_est 500, rs 1\n",
      "LR 0.02, max_depth 4, min_samp_leaf 10, n_est 800, rs 1\n",
      "LR 0.02, max_depth 6, min_samp_leaf 10, n_est 300, rs 1\n",
      "LR 0.02, max_depth 6, min_samp_leaf 10, n_est 500, rs 1\n",
      "LR 0.02, max_depth 6, min_samp_leaf 10, n_est 800, rs 1\n"
     ]
    }
   ],
   "source": [
    "results_list_of_tuples = list()\n",
    "num_folds = 3\n",
    "best_result = tuple()\n",
    "for item1 in gd_grid['learning_rate']:\n",
    "    for item2 in gd_grid['max_depth']:\n",
    "        for item3 in gd_grid['min_samples_leaf']:\n",
    "            for item4 in gd_grid['n_estimators']:\n",
    "                for item5 in gd_grid['random_state']:\n",
    "                    instance = \\\n",
    "                      'LR {}, max_depth {}, min_samp_leaf {}, n_est {}, rs {}'.format(item1, item2, item3, item4, item5)\n",
    "                    print instance\n",
    "                    gbrt = GradientBoostingRegressor(random_state=item5, \\\n",
    "                                                     n_estimators=item4, \\\n",
    "                                                     min_samples_leaf=item3, \\\n",
    "                                                     max_depth=item2, \\\n",
    "                                                     learning_rate=item1 \\\n",
    "                                                    )\n",
    "                    kf = KFold(X.shape[0], n_folds=num_folds)\n",
    "                    mse_list = []\n",
    "                    for train_index, test_index in kf:\n",
    "                        X_train, X_test = X[train_index], X[test_index]\n",
    "                        y_train, y_test = y[train_index], y[test_index]\n",
    "                        w_train, w_test = weights[train_index], weights[test_index]\n",
    "                        gbrt.fit(X_train, y_train, w_train)                 \n",
    "                        y_pred = gbrt.predict(X_test)\n",
    "                        mse = mean_squared_error(y_test, y_pred, sample_weight=w_test)\n",
    "                        mse_list.append(mse)\n",
    "\n",
    "                    kf_mse = np.mean(np.array(mse_list))\n",
    "                    results_list_of_tuples.append((instance, kf_mse))\n",
    "\n"
   ]
  },
  {
   "cell_type": "code",
   "execution_count": 507,
   "metadata": {
    "collapsed": false
   },
   "outputs": [
    {
     "name": "stdout",
     "output_type": "stream",
     "text": [
      "('LR 0.06, max_depth 4, min_samp_leaf 10, n_est 300, rs 1', 453.3626821205894)\n",
      "('LR 0.06, max_depth 4, min_samp_leaf 10, n_est 500, rs 1', 465.48144835118501)\n",
      "('LR 0.06, max_depth 4, min_samp_leaf 10, n_est 800, rs 1', 475.99934640327848)\n",
      "('LR 0.06, max_depth 6, min_samp_leaf 10, n_est 300, rs 1', 450.13242856614937)\n",
      "('LR 0.06, max_depth 6, min_samp_leaf 10, n_est 500, rs 1', 461.87015950912746)\n",
      "('LR 0.06, max_depth 6, min_samp_leaf 10, n_est 800, rs 1', 473.05131934775426)\n",
      "('LR 0.04, max_depth 4, min_samp_leaf 10, n_est 300, rs 1', 445.31174758719317)\n",
      "('LR 0.04, max_depth 4, min_samp_leaf 10, n_est 500, rs 1', 452.46870537856086)\n",
      "('LR 0.04, max_depth 4, min_samp_leaf 10, n_est 800, rs 1', 460.03906030353761)\n",
      "('LR 0.04, max_depth 6, min_samp_leaf 10, n_est 300, rs 1', 441.28199553078042)\n",
      "('LR 0.04, max_depth 6, min_samp_leaf 10, n_est 500, rs 1', 456.22120358768854)\n",
      "('LR 0.04, max_depth 6, min_samp_leaf 10, n_est 800, rs 1', 462.17799325050009)\n",
      "('LR 0.02, max_depth 4, min_samp_leaf 10, n_est 300, rs 1', 438.88952380402753)\n",
      "('LR 0.02, max_depth 4, min_samp_leaf 10, n_est 500, rs 1', 442.60149001501242)\n",
      "('LR 0.02, max_depth 4, min_samp_leaf 10, n_est 800, rs 1', 451.54318431879068)\n",
      "('LR 0.02, max_depth 6, min_samp_leaf 10, n_est 300, rs 1', 434.35708778383514)\n",
      "('LR 0.02, max_depth 6, min_samp_leaf 10, n_est 500, rs 1', 440.05204745275381)\n",
      "('LR 0.02, max_depth 6, min_samp_leaf 10, n_est 800, rs 1', 444.07746808861208)\n"
     ]
    }
   ],
   "source": [
    "for tup in results_list_of_tuples:\n",
    "    print tup"
   ]
  },
  {
   "cell_type": "code",
   "execution_count": 508,
   "metadata": {
    "collapsed": true
   },
   "outputs": [],
   "source": [
    "gd_grid = {'learning_rate': [0.024, 0.016, 0.008],\n",
    "           'max_depth': [5, 6, 8],\n",
    "           'min_samples_leaf': [10],\n",
    "           'n_estimators': [240, 300, 360],\n",
    "           'random_state': [1]}"
   ]
  },
  {
   "cell_type": "code",
   "execution_count": 509,
   "metadata": {
    "collapsed": false
   },
   "outputs": [
    {
     "name": "stdout",
     "output_type": "stream",
     "text": [
      "LR 0.06, max_depth 5, min_samp_leaf 10, n_est 240, rs 1\n",
      "LR 0.06, max_depth 5, min_samp_leaf 10, n_est 300, rs 1\n",
      "LR 0.06, max_depth 5, min_samp_leaf 10, n_est 360, rs 1\n",
      "LR 0.06, max_depth 6, min_samp_leaf 10, n_est 240, rs 1\n",
      "LR 0.06, max_depth 6, min_samp_leaf 10, n_est 300, rs 1\n",
      "LR 0.06, max_depth 6, min_samp_leaf 10, n_est 360, rs 1\n",
      "LR 0.06, max_depth 8, min_samp_leaf 10, n_est 240, rs 1\n",
      "LR 0.06, max_depth 8, min_samp_leaf 10, n_est 300, rs 1\n",
      "LR 0.06, max_depth 8, min_samp_leaf 10, n_est 360, rs 1\n",
      "LR 0.024, max_depth 5, min_samp_leaf 10, n_est 240, rs 1\n",
      "LR 0.024, max_depth 5, min_samp_leaf 10, n_est 300, rs 1\n",
      "LR 0.024, max_depth 5, min_samp_leaf 10, n_est 360, rs 1\n",
      "LR 0.024, max_depth 6, min_samp_leaf 10, n_est 240, rs 1\n",
      "LR 0.024, max_depth 6, min_samp_leaf 10, n_est 300, rs 1\n",
      "LR 0.024, max_depth 6, min_samp_leaf 10, n_est 360, rs 1\n",
      "LR 0.024, max_depth 8, min_samp_leaf 10, n_est 240, rs 1\n",
      "LR 0.024, max_depth 8, min_samp_leaf 10, n_est 300, rs 1\n",
      "LR 0.024, max_depth 8, min_samp_leaf 10, n_est 360, rs 1\n",
      "LR 0.016, max_depth 5, min_samp_leaf 10, n_est 240, rs 1\n",
      "LR 0.016, max_depth 5, min_samp_leaf 10, n_est 300, rs 1\n",
      "LR 0.016, max_depth 5, min_samp_leaf 10, n_est 360, rs 1\n",
      "LR 0.016, max_depth 6, min_samp_leaf 10, n_est 240, rs 1\n",
      "LR 0.016, max_depth 6, min_samp_leaf 10, n_est 300, rs 1\n",
      "LR 0.016, max_depth 6, min_samp_leaf 10, n_est 360, rs 1\n",
      "LR 0.016, max_depth 8, min_samp_leaf 10, n_est 240, rs 1\n",
      "LR 0.016, max_depth 8, min_samp_leaf 10, n_est 300, rs 1\n",
      "LR 0.016, max_depth 8, min_samp_leaf 10, n_est 360, rs 1\n",
      "LR 0.008, max_depth 5, min_samp_leaf 10, n_est 240, rs 1\n",
      "LR 0.008, max_depth 5, min_samp_leaf 10, n_est 300, rs 1\n",
      "LR 0.008, max_depth 5, min_samp_leaf 10, n_est 360, rs 1\n",
      "LR 0.008, max_depth 6, min_samp_leaf 10, n_est 240, rs 1\n",
      "LR 0.008, max_depth 6, min_samp_leaf 10, n_est 300, rs 1\n",
      "LR 0.008, max_depth 6, min_samp_leaf 10, n_est 360, rs 1\n",
      "LR 0.008, max_depth 8, min_samp_leaf 10, n_est 240, rs 1\n",
      "LR 0.008, max_depth 8, min_samp_leaf 10, n_est 300, rs 1\n",
      "LR 0.008, max_depth 8, min_samp_leaf 10, n_est 360, rs 1\n"
     ]
    }
   ],
   "source": [
    "def grid_search():\n",
    "    results_list_of_tuples = list()\n",
    "    num_folds = 3\n",
    "    best_result = tuple()\n",
    "    for item1 in gd_grid['learning_rate']:\n",
    "        for item2 in gd_grid['max_depth']:\n",
    "            for item3 in gd_grid['min_samples_leaf']:\n",
    "                for item4 in gd_grid['n_estimators']:\n",
    "                    for item5 in gd_grid['random_state']:\n",
    "                        instance = \\\n",
    "                          'LR {}, max_depth {}, min_samp_leaf {}, n_est {}, rs {}'.format(item1, \\\n",
    "                                                                                          item2, item3, \\\n",
    "                                                                                          item4, item5)\n",
    "                        print instance\n",
    "                        gbrt = GradientBoostingRegressor(random_state=item5, \\\n",
    "                                                         n_estimators=item4, \\\n",
    "                                                         min_samples_leaf=item3, \\\n",
    "                                                         max_depth=item2, \\\n",
    "                                                         learning_rate=item1 \\\n",
    "                                                        )\n",
    "                        kf = KFold(X.shape[0], n_folds=num_folds)\n",
    "                        mse_list = []\n",
    "                        for train_index, test_index in kf:\n",
    "                            X_train, X_test = X[train_index], X[test_index]\n",
    "                            y_train, y_test = y[train_index], y[test_index]\n",
    "                            w_train, w_test = weights[train_index], weights[test_index]\n",
    "                            gbrt.fit(X_train, y_train, w_train)                 \n",
    "                            y_pred = gbrt.predict(X_test)\n",
    "                            mse = mean_squared_error(y_test, y_pred, sample_weight=w_test)\n",
    "                            mse_list.append(mse)\n",
    "\n",
    "                        kf_mse = np.mean(np.array(mse_list))\n",
    "                        results_list_of_tuples.append((instance, kf_mse))\n",
    "                        \n",
    "    return results_list_of_tuples\n",
    "\n",
    "grid_search()"
   ]
  },
  {
   "cell_type": "code",
   "execution_count": 510,
   "metadata": {
    "collapsed": false
   },
   "outputs": [
    {
     "name": "stdout",
     "output_type": "stream",
     "text": [
      "('LR 0.06, max_depth 5, min_samp_leaf 10, n_est 240, rs 1', 442.67127209635902)\n",
      "('LR 0.06, max_depth 5, min_samp_leaf 10, n_est 300, rs 1', 449.00054244082804)\n",
      "('LR 0.06, max_depth 5, min_samp_leaf 10, n_est 360, rs 1', 454.64603716545071)\n",
      "('LR 0.06, max_depth 6, min_samp_leaf 10, n_est 240, rs 1', 449.14732191899066)\n",
      "('LR 0.06, max_depth 6, min_samp_leaf 10, n_est 300, rs 1', 450.13242856614937)\n",
      "('LR 0.06, max_depth 6, min_samp_leaf 10, n_est 360, rs 1', 452.56121816958665)\n",
      "('LR 0.06, max_depth 8, min_samp_leaf 10, n_est 240, rs 1', 442.24173921022452)\n",
      "('LR 0.06, max_depth 8, min_samp_leaf 10, n_est 300, rs 1', 444.53967375418603)\n",
      "('LR 0.06, max_depth 8, min_samp_leaf 10, n_est 360, rs 1', 448.12675872922131)\n",
      "('LR 0.024, max_depth 5, min_samp_leaf 10, n_est 240, rs 1', 434.35863921539863)\n",
      "('LR 0.024, max_depth 5, min_samp_leaf 10, n_est 300, rs 1', 434.1193734365267)\n",
      "('LR 0.024, max_depth 5, min_samp_leaf 10, n_est 360, rs 1', 435.00130352179758)\n",
      "('LR 0.024, max_depth 6, min_samp_leaf 10, n_est 240, rs 1', 433.84923026042293)\n",
      "('LR 0.024, max_depth 6, min_samp_leaf 10, n_est 300, rs 1', 435.19675534245243)\n",
      "('LR 0.024, max_depth 6, min_samp_leaf 10, n_est 360, rs 1', 438.63946226700455)\n",
      "('LR 0.024, max_depth 8, min_samp_leaf 10, n_est 240, rs 1', 436.29419304039578)\n",
      "('LR 0.024, max_depth 8, min_samp_leaf 10, n_est 300, rs 1', 438.51427140344953)\n",
      "('LR 0.024, max_depth 8, min_samp_leaf 10, n_est 360, rs 1', 440.2683344387745)\n",
      "('LR 0.016, max_depth 5, min_samp_leaf 10, n_est 240, rs 1', 435.41716317755191)\n",
      "('LR 0.016, max_depth 5, min_samp_leaf 10, n_est 300, rs 1', 436.10958871504477)\n",
      "('LR 0.016, max_depth 5, min_samp_leaf 10, n_est 360, rs 1', 437.57446819341561)\n",
      "('LR 0.016, max_depth 6, min_samp_leaf 10, n_est 240, rs 1', 428.83485872015143)\n",
      "('LR 0.016, max_depth 6, min_samp_leaf 10, n_est 300, rs 1', 430.76172143965886)\n",
      "('LR 0.016, max_depth 6, min_samp_leaf 10, n_est 360, rs 1', 432.93998535449299)\n",
      "('LR 0.016, max_depth 8, min_samp_leaf 10, n_est 240, rs 1', 429.58757237671381)\n",
      "('LR 0.016, max_depth 8, min_samp_leaf 10, n_est 300, rs 1', 431.21933944108042)\n",
      "('LR 0.016, max_depth 8, min_samp_leaf 10, n_est 360, rs 1', 432.2580239488513)\n",
      "('LR 0.008, max_depth 5, min_samp_leaf 10, n_est 240, rs 1', 432.91333174884971)\n",
      "('LR 0.008, max_depth 5, min_samp_leaf 10, n_est 300, rs 1', 433.11709653158164)\n",
      "('LR 0.008, max_depth 5, min_samp_leaf 10, n_est 360, rs 1', 433.82789202184659)\n",
      "('LR 0.008, max_depth 6, min_samp_leaf 10, n_est 240, rs 1', 428.98213106297436)\n",
      "('LR 0.008, max_depth 6, min_samp_leaf 10, n_est 300, rs 1', 428.77065830075134)\n",
      "('LR 0.008, max_depth 6, min_samp_leaf 10, n_est 360, rs 1', 428.99731865906114)\n",
      "('LR 0.008, max_depth 8, min_samp_leaf 10, n_est 240, rs 1', 431.06512008498453)\n",
      "('LR 0.008, max_depth 8, min_samp_leaf 10, n_est 300, rs 1', 430.52095967761483)\n",
      "('LR 0.008, max_depth 8, min_samp_leaf 10, n_est 360, rs 1', 429.95503649447522)\n"
     ]
    }
   ],
   "source": [
    "for tup in results_list_of_tuples:\n",
    "    print tup"
   ]
  },
  {
   "cell_type": "code",
   "execution_count": 512,
   "metadata": {
    "collapsed": false
   },
   "outputs": [],
   "source": [
    "gd_grid = {'learning_rate': [0.008, 0.004, 0.002],\n",
    "           'max_depth': [6],\n",
    "           'min_samples_leaf': [7, 10, 13],\n",
    "           'n_estimators': [280, 300, 320],\n",
    "           'random_state': [2]}"
   ]
  },
  {
   "cell_type": "code",
   "execution_count": 513,
   "metadata": {
    "collapsed": false
   },
   "outputs": [
    {
     "name": "stdout",
     "output_type": "stream",
     "text": [
      "LR 0.008, max_depth 6, min_samp_leaf 7, n_est 280, rs 2\n",
      "LR 0.008, max_depth 6, min_samp_leaf 7, n_est 300, rs 2\n",
      "LR 0.008, max_depth 6, min_samp_leaf 7, n_est 320, rs 2\n",
      "LR 0.008, max_depth 6, min_samp_leaf 10, n_est 280, rs 2\n",
      "LR 0.008, max_depth 6, min_samp_leaf 10, n_est 300, rs 2\n",
      "LR 0.008, max_depth 6, min_samp_leaf 10, n_est 320, rs 2\n",
      "LR 0.008, max_depth 6, min_samp_leaf 13, n_est 280, rs 2\n",
      "LR 0.008, max_depth 6, min_samp_leaf 13, n_est 300, rs 2\n",
      "LR 0.008, max_depth 6, min_samp_leaf 13, n_est 320, rs 2\n",
      "LR 0.004, max_depth 6, min_samp_leaf 7, n_est 280, rs 2\n",
      "LR 0.004, max_depth 6, min_samp_leaf 7, n_est 300, rs 2\n",
      "LR 0.004, max_depth 6, min_samp_leaf 7, n_est 320, rs 2\n",
      "LR 0.004, max_depth 6, min_samp_leaf 10, n_est 280, rs 2\n",
      "LR 0.004, max_depth 6, min_samp_leaf 10, n_est 300, rs 2\n",
      "LR 0.004, max_depth 6, min_samp_leaf 10, n_est 320, rs 2\n",
      "LR 0.004, max_depth 6, min_samp_leaf 13, n_est 280, rs 2\n",
      "LR 0.004, max_depth 6, min_samp_leaf 13, n_est 300, rs 2\n",
      "LR 0.004, max_depth 6, min_samp_leaf 13, n_est 320, rs 2\n",
      "LR 0.002, max_depth 6, min_samp_leaf 7, n_est 280, rs 2\n",
      "LR 0.002, max_depth 6, min_samp_leaf 7, n_est 300, rs 2\n",
      "LR 0.002, max_depth 6, min_samp_leaf 7, n_est 320, rs 2\n",
      "LR 0.002, max_depth 6, min_samp_leaf 10, n_est 280, rs 2\n",
      "LR 0.002, max_depth 6, min_samp_leaf 10, n_est 300, rs 2\n",
      "LR 0.002, max_depth 6, min_samp_leaf 10, n_est 320, rs 2\n",
      "LR 0.002, max_depth 6, min_samp_leaf 13, n_est 280, rs 2\n",
      "LR 0.002, max_depth 6, min_samp_leaf 13, n_est 300, rs 2\n",
      "LR 0.002, max_depth 6, min_samp_leaf 13, n_est 320, rs 2\n"
     ]
    },
    {
     "data": {
      "text/plain": [
       "[('LR 0.008, max_depth 6, min_samp_leaf 7, n_est 280, rs 2',\n",
       "  440.39592700347265),\n",
       " ('LR 0.008, max_depth 6, min_samp_leaf 7, n_est 300, rs 2',\n",
       "  440.43655065612535),\n",
       " ('LR 0.008, max_depth 6, min_samp_leaf 7, n_est 320, rs 2',\n",
       "  440.2126389186144),\n",
       " ('LR 0.008, max_depth 6, min_samp_leaf 10, n_est 280, rs 2',\n",
       "  427.47015348479528),\n",
       " ('LR 0.008, max_depth 6, min_samp_leaf 10, n_est 300, rs 2',\n",
       "  427.53954278821857),\n",
       " ('LR 0.008, max_depth 6, min_samp_leaf 10, n_est 320, rs 2',\n",
       "  427.41569234005402),\n",
       " ('LR 0.008, max_depth 6, min_samp_leaf 13, n_est 280, rs 2',\n",
       "  424.57414037312736),\n",
       " ('LR 0.008, max_depth 6, min_samp_leaf 13, n_est 300, rs 2',\n",
       "  424.45884207251601),\n",
       " ('LR 0.008, max_depth 6, min_samp_leaf 13, n_est 320, rs 2',\n",
       "  424.47116017713842),\n",
       " ('LR 0.004, max_depth 6, min_samp_leaf 7, n_est 280, rs 2',\n",
       "  437.43214110972286),\n",
       " ('LR 0.004, max_depth 6, min_samp_leaf 7, n_est 300, rs 2',\n",
       "  437.74764622363699),\n",
       " ('LR 0.004, max_depth 6, min_samp_leaf 7, n_est 320, rs 2',\n",
       "  438.33656651273151),\n",
       " ('LR 0.004, max_depth 6, min_samp_leaf 10, n_est 280, rs 2',\n",
       "  429.47685886072594),\n",
       " ('LR 0.004, max_depth 6, min_samp_leaf 10, n_est 300, rs 2',\n",
       "  429.77874094898317),\n",
       " ('LR 0.004, max_depth 6, min_samp_leaf 10, n_est 320, rs 2',\n",
       "  429.77282173468575),\n",
       " ('LR 0.004, max_depth 6, min_samp_leaf 13, n_est 280, rs 2',\n",
       "  427.93700997926277),\n",
       " ('LR 0.004, max_depth 6, min_samp_leaf 13, n_est 300, rs 2',\n",
       "  427.7461328649668),\n",
       " ('LR 0.004, max_depth 6, min_samp_leaf 13, n_est 320, rs 2',\n",
       "  427.56521074229369),\n",
       " ('LR 0.002, max_depth 6, min_samp_leaf 7, n_est 280, rs 2',\n",
       "  433.84108257709431),\n",
       " ('LR 0.002, max_depth 6, min_samp_leaf 7, n_est 300, rs 2',\n",
       "  434.10634647476451),\n",
       " ('LR 0.002, max_depth 6, min_samp_leaf 7, n_est 320, rs 2',\n",
       "  434.43240062227238),\n",
       " ('LR 0.002, max_depth 6, min_samp_leaf 10, n_est 280, rs 2',\n",
       "  431.11505533767541),\n",
       " ('LR 0.002, max_depth 6, min_samp_leaf 10, n_est 300, rs 2',\n",
       "  430.85884996573003),\n",
       " ('LR 0.002, max_depth 6, min_samp_leaf 10, n_est 320, rs 2',\n",
       "  430.6396565564491),\n",
       " ('LR 0.002, max_depth 6, min_samp_leaf 13, n_est 280, rs 2',\n",
       "  429.27482260428116),\n",
       " ('LR 0.002, max_depth 6, min_samp_leaf 13, n_est 300, rs 2',\n",
       "  429.16169624074115),\n",
       " ('LR 0.002, max_depth 6, min_samp_leaf 13, n_est 320, rs 2',\n",
       "  429.05863290764381)]"
      ]
     },
     "execution_count": 513,
     "metadata": {},
     "output_type": "execute_result"
    }
   ],
   "source": [
    "def grid_search():\n",
    "    results_list_of_tuples = list()\n",
    "    num_folds = 3\n",
    "    best_result = tuple()\n",
    "    for item1 in gd_grid['learning_rate']:\n",
    "        for item2 in gd_grid['max_depth']:\n",
    "            for item3 in gd_grid['min_samples_leaf']:\n",
    "                for item4 in gd_grid['n_estimators']:\n",
    "                    for item5 in gd_grid['random_state']:\n",
    "                        instance = \\\n",
    "                          'LR {}, max_depth {}, min_samp_leaf {}, n_est {}, rs {}'.format(item1, \\\n",
    "                                                                                          item2, item3, \\\n",
    "                                                                                          item4, item5)\n",
    "                        print instance\n",
    "                        gbrt = GradientBoostingRegressor(random_state=item5, \\\n",
    "                                                         n_estimators=item4, \\\n",
    "                                                         min_samples_leaf=item3, \\\n",
    "                                                         max_depth=item2, \\\n",
    "                                                         learning_rate=item1 \\\n",
    "                                                        )\n",
    "                        kf = KFold(X.shape[0], n_folds=num_folds)\n",
    "                        mse_list = []\n",
    "                        for train_index, test_index in kf:\n",
    "                            X_train, X_test = X[train_index], X[test_index]\n",
    "                            y_train, y_test = y[train_index], y[test_index]\n",
    "                            w_train, w_test = weights[train_index], weights[test_index]\n",
    "                            gbrt.fit(X_train, y_train, w_train)                 \n",
    "                            y_pred = gbrt.predict(X_test)\n",
    "                            mse = mean_squared_error(y_test, y_pred, sample_weight=w_test)\n",
    "                            mse_list.append(mse)\n",
    "\n",
    "                        kf_mse = np.mean(np.array(mse_list))\n",
    "                        results_list_of_tuples.append((instance, kf_mse))\n",
    "                        \n",
    "    return results_list_of_tuples\n",
    "\n",
    "print grid_search()"
   ]
  },
  {
   "cell_type": "code",
   "execution_count": 515,
   "metadata": {
    "collapsed": false
   },
   "outputs": [
    {
     "name": "stdout",
     "output_type": "stream",
     "text": [
      "LR 0.008, max_depth 6, min_samp_leaf 13, n_est 300, rs 2\n",
      "LR 0.008, max_depth 6, min_samp_leaf 16, n_est 300, rs 2\n",
      "LR 0.008, max_depth 6, min_samp_leaf 21, n_est 300, rs 2\n",
      "LR 0.007, max_depth 6, min_samp_leaf 13, n_est 300, rs 2\n",
      "LR 0.007, max_depth 6, min_samp_leaf 16, n_est 300, rs 2\n",
      "LR 0.007, max_depth 6, min_samp_leaf 21, n_est 300, rs 2\n",
      "[('LR 0.008, max_depth 6, min_samp_leaf 13, n_est 300, rs 2', 424.45884207251601), ('LR 0.008, max_depth 6, min_samp_leaf 16, n_est 300, rs 2', 428.16268222169418), ('LR 0.008, max_depth 6, min_samp_leaf 21, n_est 300, rs 2', 435.10303325669469), ('LR 0.007, max_depth 6, min_samp_leaf 13, n_est 300, rs 2', 424.5705162139659), ('LR 0.007, max_depth 6, min_samp_leaf 16, n_est 300, rs 2', 427.70488060600809), ('LR 0.007, max_depth 6, min_samp_leaf 21, n_est 300, rs 2', 434.93540142861229)]\n"
     ]
    }
   ],
   "source": [
    "gd_grid = {'learning_rate': [0.008, 0.007],\n",
    "           'max_depth': [6],\n",
    "           'min_samples_leaf': [13, 16, 21],\n",
    "           'n_estimators': [300],\n",
    "           'random_state': [2]}\n",
    "\n",
    "print grid_search()"
   ]
  },
  {
   "cell_type": "raw",
   "metadata": {},
   "source": [
    "Best:\n",
    "('LR 0.008, max_depth 6, min_samp_leaf 13, n_est 300, rs 2', 424.45884207251601),"
   ]
  },
  {
   "cell_type": "code",
   "execution_count": 517,
   "metadata": {
    "collapsed": false
   },
   "outputs": [
    {
     "data": {
      "text/plain": [
       "GradientBoostingRegressor(alpha=0.9, init=None, learning_rate=0.008,\n",
       "             loss='ls', max_depth=6, max_features=None,\n",
       "             max_leaf_nodes=None, min_samples_leaf=13, min_samples_split=2,\n",
       "             min_weight_fraction_leaf=0.0, n_estimators=300,\n",
       "             presort='auto', random_state=3, subsample=1.0, verbose=0,\n",
       "             warm_start=False)"
      ]
     },
     "execution_count": 517,
     "metadata": {},
     "output_type": "execute_result"
    }
   ],
   "source": [
    "gbm1 = GradientBoostingRegressor( \\\n",
    "                                 learning_rate=0.008, \\\n",
    "                                 max_depth=6, \\\n",
    "                                 min_samples_leaf=13, \\\n",
    "                                 n_estimators=300, \\\n",
    "                                 random_state=3, \\\n",
    "                                )\n",
    "gbm1.fit(X, y, weights)"
   ]
  },
  {
   "cell_type": "code",
   "execution_count": 518,
   "metadata": {
    "collapsed": false
   },
   "outputs": [
    {
     "name": "stdout",
     "output_type": "stream",
     "text": [
      "3\n"
     ]
    }
   ],
   "source": [
    "np_predictors = np.array(predictors)\n",
    "skill_set = ( \\\n",
    "             (np_predictors == 'python') + \\\n",
    "             (np_predictors == 'statistics') + \\\n",
    "             (np_predictors == 'machinedashlearning') \\\n",
    "            ).reshape(1, -1)\n",
    "print np.sum(skill_set)"
   ]
  },
  {
   "cell_type": "code",
   "execution_count": 520,
   "metadata": {
    "collapsed": false
   },
   "outputs": [
    {
     "data": {
      "text/plain": [
       "array([ 33.66257463])"
      ]
     },
     "execution_count": 520,
     "metadata": {},
     "output_type": "execute_result"
    }
   ],
   "source": [
    "gbm1.predict(skill_set)"
   ]
  },
  {
   "cell_type": "code",
   "execution_count": 521,
   "metadata": {
    "collapsed": false
   },
   "outputs": [],
   "source": [
    "matrix_side = len(np_predictors)\n",
    "skill_set_for_all = np.repeat(skill_set, matrix_side, axis=0)\n",
    "plus_one_skill = (skill_set_for_all) | (np.eye(matrix_side).astype(bool))"
   ]
  },
  {
   "cell_type": "code",
   "execution_count": 526,
   "metadata": {
    "collapsed": false
   },
   "outputs": [
    {
     "name": "stdout",
     "output_type": "stream",
     "text": [
      "[ 56.23859484  20.36099434  18.2140494   14.43088875  13.5926924\n",
      "  13.19839603  11.75510666  10.41121274   9.83235662   9.00231807\n",
      "   8.9528251    8.38389016   7.93531294   7.7812883    6.97937318\n",
      "   6.5781361    6.00121592   5.99349842   5.78446369   5.75584615]\n",
      "[u'jpa' u'datadashscience' u'mysql' u'databasedashmodeling' u'bigdashdata'\n",
      " u'dotnetdashframework' u'oracledashplsql' u'datadashmodeling'\n",
      " u'datadashmining' u'iphonedashappdashdevelopment' u'wcf'\n",
      " u'webdashprogramming' u'networkdashadministration'\n",
      " u'amazondashwebdashservices' u'jquerydashmobile' u'matlab' u'scala'\n",
      " u'mobiledashappdashdevelopment' u'mysqldashprogramming'\n",
      " u'microsoftdashsqldashssrs']\n"
     ]
    }
   ],
   "source": [
    "plus_one_preds = gbm0.predict(plus_one_skill)\n",
    "top_20_plus_ones = plus_one_preds.argsort()[-20:][::-1]\n",
    "delta = plus_one_preds[top_20_plus_ones ] - gbm0.predict(skill_set)\n",
    "print delta\n",
    "print np_predictors[top_20_plus_ones]"
   ]
  },
  {
   "cell_type": "code",
   "execution_count": 530,
   "metadata": {
    "collapsed": false
   },
   "outputs": [
    {
     "name": "stdout",
     "output_type": "stream",
     "text": [
      "(56.238594835769447, 167.06563729551354, u'jpa')\n",
      "(20.360994342687263, 60.485552773232854, u'datadashscience')\n",
      "(18.214049399948564, 54.107713388297, u'mysql')\n",
      "(14.430888747915155, 42.869236552789758, u'databasedashmodeling')\n",
      "(13.592692400221708, 40.379241782914889, u'bigdashdata')\n",
      "(13.198396032523831, 39.20792208431434, u'dotnetdashframework')\n",
      "(11.755106664081353, 34.92040283094709, u'oracledashplsql')\n",
      "(10.411212743291088, 30.928153469275777, u'datadashmodeling')\n",
      "(9.8323566216681897, 29.208569842697852, u'datadashmining')\n",
      "(9.0023180695058116, 26.742809094197533, u'iphonedashappdashdevelopment')\n",
      "(8.9528250961076523, 26.595782391866869, u'wcf')\n",
      "(8.3838901628878446, 24.905671223982687, u'webdashprogramming')\n",
      "(7.9353129401951108, 23.573101663803211, u'networkdashadministration')\n",
      "(7.7812882963371948, 23.115547107888691, u'amazondashwebdashservices')\n",
      "(6.9793731833287467, 20.733331481717858, u'jquerydashmobile')\n",
      "(6.5781361008416468, 19.541393292507184, u'matlab')\n",
      "(6.0012159182218099, 17.827560678810297, u'scala')\n",
      "(5.9934984222783072, 17.804634636972089, u'mobiledashappdashdevelopment')\n",
      "(5.7844636899212816, 17.183663916062258, u'mysqldashprogramming')\n",
      "(5.7558461547252264, 17.098651003322928, u'microsoftdashsqldashssrs')\n"
     ]
    }
   ],
   "source": [
    "for tup in zip(delta, 100*delta/gbm1.predict(skill_set), np_predictors[top_20_plus_ones]):\n",
    "    print tup"
   ]
  },
  {
   "cell_type": "code",
   "execution_count": null,
   "metadata": {
    "collapsed": true
   },
   "outputs": [],
   "source": [
    "skill_set = ( \\\n",
    "             (np_predictors == 'python') + \\\n",
    "             (np_predictors == 'statistics') + \\\n",
    "             (np_predictors == 'machinedashlearning') \\\n",
    "            ).reshape(1, -1)"
   ]
  },
  {
   "cell_type": "code",
   "execution_count": 534,
   "metadata": {
    "collapsed": true
   },
   "outputs": [],
   "source": [
    "skill_set_list = [\n",
    "    'python',\n",
    "    'statistics',\n",
    "    'machinedashlearning'\n",
    "]"
   ]
  },
  {
   "cell_type": "code",
   "execution_count": 536,
   "metadata": {
    "collapsed": false
   },
   "outputs": [
    {
     "name": "stdout",
     "output_type": "stream",
     "text": [
      "[156, 185, 110]\n"
     ]
    }
   ],
   "source": [
    "skill_index_list = [predictors.index(skill) for skill in skill_set_list]\n",
    "print skill_index_list"
   ]
  },
  {
   "cell_type": "code",
   "execution_count": 542,
   "metadata": {
    "collapsed": true
   },
   "outputs": [],
   "source": [
    "plus_one_list = [ \\\n",
    "    'datadashmining', \\\n",
    "    'bigdashdata', \\\n",
    "    'datadashscience', \\\n",
    "    'jpa' \\\n",
    "]"
   ]
  },
  {
   "cell_type": "code",
   "execution_count": 543,
   "metadata": {
    "collapsed": false
   },
   "outputs": [
    {
     "name": "stdout",
     "output_type": "stream",
     "text": [
      "[57, 30, 59, 100]\n"
     ]
    }
   ],
   "source": [
    "plus_one_index_list = [predictors.index(skill) for skill in plus_one_list]\n",
    "print plus_one_index_list"
   ]
  },
  {
   "cell_type": "code",
   "execution_count": 556,
   "metadata": {
    "collapsed": false
   },
   "outputs": [],
   "source": [
    "def distance_metric(skill_index_list, plus_one_index):\n",
    "    index_array = np.array([plus_one_index] + skill_index_list)\n",
    "    calc_X = X[:, index_array]\n",
    "    print calc_X.shape\n",
    "    only_plus_one_rows = calc_X[calc_X[:, 0] == 1,]\n",
    "    distance = 1 - (np.sum(np.sum(only_plus_one_rows, axis=1) > 1)/float(only_plus_one_rows.shape[0]))\n",
    "    return distance"
   ]
  },
  {
   "cell_type": "code",
   "execution_count": 557,
   "metadata": {
    "collapsed": false
   },
   "outputs": [
    {
     "name": "stdout",
     "output_type": "stream",
     "text": [
      "datadashmining (2506, 4)\n",
      "0.60248447205\n",
      "bigdashdata (2506, 4)\n",
      "0.769230769231\n",
      "datadashscience (2506, 4)\n",
      "0.163636363636\n",
      "jpa (2506, 4)\n",
      "1.0\n"
     ]
    }
   ],
   "source": [
    "for plus_one_index in plus_one_index_list:\n",
    "    print predictors[plus_one_index], distance_metric(skill_index_list, plus_one_index)"
   ]
  },
  {
   "cell_type": "code",
   "execution_count": null,
   "metadata": {
    "collapsed": true
   },
   "outputs": [],
   "source": []
  }
 ],
 "metadata": {
  "kernelspec": {
   "display_name": "Python 2",
   "language": "python",
   "name": "python2"
  },
  "language_info": {
   "codemirror_mode": {
    "name": "ipython",
    "version": 2
   },
   "file_extension": ".py",
   "mimetype": "text/x-python",
   "name": "python",
   "nbconvert_exporter": "python",
   "pygments_lexer": "ipython2",
   "version": "2.7.11"
  }
 },
 "nbformat": 4,
 "nbformat_minor": 0
}
