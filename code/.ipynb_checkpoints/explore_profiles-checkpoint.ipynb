{
 "cells": [
  {
   "cell_type": "code",
   "execution_count": 1,
   "metadata": {
    "collapsed": true
   },
   "outputs": [],
   "source": [
    "import json\n",
    "import pandas as pd\n",
    "import numpy as np\n",
    "from pymongo import MongoClient\n",
    "from collections import Counter\n",
    "%matplotlib inline"
   ]
  },
  {
   "cell_type": "markdown",
   "metadata": {},
   "source": [
    "Get freelancer profile by key\n",
    "\n",
    "Endpoint\n",
    "GET /api/profiles/v1/providers/{profile_key}.{format}"
   ]
  },
  {
   "cell_type": "code",
   "execution_count": 2,
   "metadata": {
    "collapsed": false
   },
   "outputs": [],
   "source": [
    "def json_prep(in_file):\n",
    "    # read the entire file into a python array\n",
    "    with open(in_file, 'rb') as f:\n",
    "        data = f.readlines()\n",
    "\n",
    "    # remove the trailing \"\\n\" from each line\n",
    "    data = map(lambda x: x.rstrip(), data)\n",
    "\n",
    "    # each element of 'data' is an individual JSON object.\n",
    "    # i want to convert it into an *array* of JSON objects\n",
    "    # which, in and of itself, is one large JSON object\n",
    "    # basically... add square brackets to the beginning\n",
    "    # and end, and have all the individual business JSON objects\n",
    "    # separated by a comma\n",
    "    data_json_str = \"[\" + ','.join(data) + \"]\"\n",
    "\n",
    "    data_list_of_dicts = json.loads(data_json_str)\n",
    "    \n",
    "#     now, load it into pandas\n",
    "#     out_df = pd.read_json(data_json_str)\n",
    "    return data_list_of_dicts"
   ]
  },
  {
   "cell_type": "markdown",
   "metadata": {},
   "source": [
    "## Make lists of dicts out of JSON data"
   ]
  },
  {
   "cell_type": "code",
   "execution_count": 5,
   "metadata": {
    "collapsed": false
   },
   "outputs": [],
   "source": [
    "as_profiles_lod = json_prep('../data/detailed_profiles_da_0_8715.txt')"
   ]
  },
  {
   "cell_type": "code",
   "execution_count": 6,
   "metadata": {
    "collapsed": false
   },
   "outputs": [
    {
     "name": "stdout",
     "output_type": "stream",
     "text": [
      "8714 <type 'list'>\n"
     ]
    }
   ],
   "source": [
    "print len(as_profiles_lod), type(as_profiles_lod)  # it's a list of dicts"
   ]
  },
  {
   "cell_type": "code",
   "execution_count": 19,
   "metadata": {
    "collapsed": false
   },
   "outputs": [
    {
     "name": "stdout",
     "output_type": "stream",
     "text": [
      "~01cae3810dc6d2bbbc\n"
     ]
    }
   ],
   "source": [
    "print as_profiles_lod[0]['ciphertext']"
   ]
  },
  {
   "cell_type": "code",
   "execution_count": 18,
   "metadata": {
    "collapsed": false
   },
   "outputs": [
    {
     "name": "stdout",
     "output_type": "stream",
     "text": [
      "~01cae3810dc6d2bbbc\n"
     ]
    }
   ],
   "source": [
    "print as_profiles_lod[0]['dev_recno_ciphertext']"
   ]
  },
  {
   "cell_type": "code",
   "execution_count": null,
   "metadata": {
    "collapsed": true
   },
   "outputs": [],
   "source": [
    "if profile['assignments']['hr'] = "
   ]
  },
  {
   "cell_type": "code",
   "execution_count": null,
   "metadata": {
    "collapsed": true
   },
   "outputs": [],
   "source": [
    "print as_profiles_lod[0]['assignments']['hr']"
   ]
  },
  {
   "cell_type": "code",
   "execution_count": 38,
   "metadata": {
    "collapsed": false
   },
   "outputs": [
    {
     "name": "stdout",
     "output_type": "stream",
     "text": [
      "<type 'unicode'>\n"
     ]
    }
   ],
   "source": [
    "print type(as_profiles_lod[0]['assignments']['hr'])"
   ]
  },
  {
   "cell_type": "code",
   "execution_count": 39,
   "metadata": {
    "collapsed": false
   },
   "outputs": [
    {
     "name": "stdout",
     "output_type": "stream",
     "text": [
      "<type 'dict'>\n"
     ]
    }
   ],
   "source": [
    "print type(as_profiles_lod[0]['assignments']['fp'])\n"
   ]
  },
  {
   "cell_type": "code",
   "execution_count": 40,
   "metadata": {
    "collapsed": false
   },
   "outputs": [
    {
     "name": "stdout",
     "output_type": "stream",
     "text": [
      "{u'job': {u'as_to': u'01/2013', u'feedback': {u'comment': u'Excellent work will be working with you again.', u'score': u'4.35', u'scores': {u'score': [{u'score': u'5', u'description': u'competency and skills for the job, understanding of specifications/instructions', u'label': u'Skills'}, {u'score': u'4', u'description': u'quality of work deliverables', u'label': u'Quality'}, {u'score': u'4', u'description': u'online presence on a consistent schedule', u'label': u'Availability'}, {u'score': u'3', u'description': u'ability to complete tasks on time', u'label': u'Deadlines'}, {u'score': u'5', u'description': u'communication skills, frequent progress updates, responsiveness', u'label': u'Communication'}, {u'score': u'5', u'description': u'cooperation and flexibility, suggestions for improvement', u'label': u'Cooperation'}]}}, u'as_total_hours': u'0.00', u'as_total_hours_precise': u'0', u'as_opening_title': u'Development of Firovia client/associate project management database', u'as_job_type': u'Fixed', u'as_to_full': u'01/09/2013'}}\n"
     ]
    }
   ],
   "source": [
    "print as_profiles_lod[0]['assignments']['fp']"
   ]
  },
  {
   "cell_type": "code",
   "execution_count": 22,
   "metadata": {
    "collapsed": false
   },
   "outputs": [
    {
     "name": "stdout",
     "output_type": "stream",
     "text": [
      "{u'hr': u'', u'fp': u''}\n"
     ]
    }
   ],
   "source": [
    "print as_profiles_lod[1]['assignments']"
   ]
  },
  {
   "cell_type": "code",
   "execution_count": 29,
   "metadata": {
    "collapsed": false
   },
   "outputs": [
    {
     "name": "stdout",
     "output_type": "stream",
     "text": [
      "<type 'unicode'>\n"
     ]
    }
   ],
   "source": [
    "print type(as_profiles_lod[2]['assignments']['hr'])"
   ]
  },
  {
   "cell_type": "code",
   "execution_count": 41,
   "metadata": {
    "collapsed": false
   },
   "outputs": [
    {
     "name": "stdout",
     "output_type": "stream",
     "text": [
      "{u'job': [{u'as_total_hours': u'614', u'as_rate': u'$22.22', u'as_total_charge': u'13642.99', u'as_to': u'Present', u'as_total_hours_precise': u'614', u'as_opening_title': u'Zend Senior Developer + Junior Developer for big web application', u'as_job_type': u'Hourly', u'as_to_full': u'Present'}, {u'as_total_hours': u'1196', u'as_rate': u'$16.67', u'as_total_charge': u'19932.02', u'as_to': u'02/2013', u'as_total_hours_precise': u'1195.66666666667', u'as_opening_title': u'Top notch PHP / Zend Developer (experienced)', u'as_job_type': u'Hourly', u'as_to_full': u'02/07/2013', u'feedback': {u'comment': u'Igor is very good. He completed the project and was very professional in communication, team working. He was always available for conference calls and was very good at PHP/Zend.', u'score': u'5.00', u'scores': {u'score': [{u'score': u'5', u'description': u'competency and skills for the job, understanding of specifications/instructions', u'label': u'Skills'}, {u'score': u'5', u'description': u'quality of work deliverables', u'label': u'Quality'}, {u'score': u'5', u'description': u'online presence on a consistent schedule', u'label': u'Availability'}, {u'score': u'5', u'description': u'ability to complete tasks on time', u'label': u'Deadlines'}, {u'score': u'5', u'description': u'communication skills, frequent progress updates, responsiveness', u'label': u'Communication'}, {u'score': u'5', u'description': u'cooperation and flexibility, suggestions for improvement', u'label': u'Cooperation'}]}}}]}\n"
     ]
    }
   ],
   "source": [
    "print as_profiles_lod[3]['assignments']['hr']['job'][0]"
   ]
  },
  {
   "cell_type": "code",
   "execution_count": 26,
   "metadata": {
    "collapsed": false
   },
   "outputs": [
    {
     "name": "stdout",
     "output_type": "stream",
     "text": [
      "{u'as_total_hours': u'1196', u'as_rate': u'$16.67', u'as_total_charge': u'19932.02', u'as_to': u'02/2013', u'as_total_hours_precise': u'1195.66666666667', u'as_opening_title': u'Top notch PHP / Zend Developer (experienced)', u'as_job_type': u'Hourly', u'as_to_full': u'02/07/2013', u'feedback': {u'comment': u'Igor is very good. He completed the project and was very professional in communication, team working. He was always available for conference calls and was very good at PHP/Zend.', u'score': u'5.00', u'scores': {u'score': [{u'score': u'5', u'description': u'competency and skills for the job, understanding of specifications/instructions', u'label': u'Skills'}, {u'score': u'5', u'description': u'quality of work deliverables', u'label': u'Quality'}, {u'score': u'5', u'description': u'online presence on a consistent schedule', u'label': u'Availability'}, {u'score': u'5', u'description': u'ability to complete tasks on time', u'label': u'Deadlines'}, {u'score': u'5', u'description': u'communication skills, frequent progress updates, responsiveness', u'label': u'Communication'}, {u'score': u'5', u'description': u'cooperation and flexibility, suggestions for improvement', u'label': u'Cooperation'}]}}}\n"
     ]
    }
   ],
   "source": [
    "print as_profiles_lod[3]['assignments']['hr']['job'][1]"
   ]
  },
  {
   "cell_type": "code",
   "execution_count": 48,
   "metadata": {
    "collapsed": false
   },
   "outputs": [
    {
     "data": {
      "text/plain": [
       "True"
      ]
     },
     "execution_count": 48,
     "metadata": {},
     "output_type": "execute_result"
    }
   ],
   "source": [
    "'job' in as_profiles_lod[3]['assignments']['hr']"
   ]
  },
  {
   "cell_type": "code",
   "execution_count": 46,
   "metadata": {
    "collapsed": false
   },
   "outputs": [
    {
     "name": "stdout",
     "output_type": "stream",
     "text": [
      "<type 'list'>\n"
     ]
    }
   ],
   "source": [
    "print type(as_profiles_lod[3]['assignments']['hr']['job'])"
   ]
  },
  {
   "cell_type": "code",
   "execution_count": null,
   "metadata": {
    "collapsed": true
   },
   "outputs": [],
   "source": [
    "assignments: hr: job []: as_ciphertext_opening_recno:"
   ]
  },
  {
   "cell_type": "code",
   "execution_count": 85,
   "metadata": {
    "collapsed": false
   },
   "outputs": [
    {
     "name": "stdout",
     "output_type": "stream",
     "text": [
      "hr_assignments = string\n",
      "\n",
      "---------\n",
      "hr_assignments = string\n",
      "\n",
      "---------\n",
      "hr_assignments = string\n",
      "\n",
      "---------\n",
      "hr_assignments = dict\n",
      "job\n",
      "3 <type 'list'> {u'as_total_hours': u'614', u'as_rate': u'$22.22', u'as_total_charge': u'13642.99', u'as_to': u'Present', u'as_total_hours_precise': u'614', u'as_opening_title': u'Zend Senior Developer + Junior Developer for big web application', u'as_job_type': u'Hourly', u'as_to_full': u'Present'}\n",
      "<type 'dict'>\n",
      "3 <type 'list'> {u'as_total_hours': u'1196', u'as_rate': u'$16.67', u'as_total_charge': u'19932.02', u'as_to': u'02/2013', u'as_total_hours_precise': u'1195.66666666667', u'as_opening_title': u'Top notch PHP / Zend Developer (experienced)', u'as_job_type': u'Hourly', u'as_to_full': u'02/07/2013', u'feedback': {u'comment': u'Igor is very good. He completed the project and was very professional in communication, team working. He was always available for conference calls and was very good at PHP/Zend.', u'score': u'5.00', u'scores': {u'score': [{u'score': u'5', u'description': u'competency and skills for the job, understanding of specifications/instructions', u'label': u'Skills'}, {u'score': u'5', u'description': u'quality of work deliverables', u'label': u'Quality'}, {u'score': u'5', u'description': u'online presence on a consistent schedule', u'label': u'Availability'}, {u'score': u'5', u'description': u'ability to complete tasks on time', u'label': u'Deadlines'}, {u'score': u'5', u'description': u'communication skills, frequent progress updates, responsiveness', u'label': u'Communication'}, {u'score': u'5', u'description': u'cooperation and flexibility, suggestions for improvement', u'label': u'Cooperation'}]}}}\n",
      "<type 'dict'>\n",
      "\n",
      "---------\n",
      "hr_assignments = string\n",
      "\n",
      "---------\n",
      "hr_assignments = dict\n",
      "job\n",
      "5 <type 'list'> {u'as_to': u'09/2011', u'as_total_hours': u'1.17', u'as_total_hours_precise': u'1.1666666666667', u'as_opening_title': u'Sr. Oracle PL/SQL Developer', u'as_job_type': u'Hourly', u'as_to_full': u'09/30/2011'}\n",
      "<type 'dict'>\n",
      "5 <type 'list'> {u'as_to': u'08/2010', u'as_rate': u'$11.11', u'as_total_charge': u'111.1', u'as_total_hours': u'10.00', u'as_total_hours_precise': u'10', u'as_opening_title': u'windowless / chromeless browser project', u'as_job_type': u'Hourly', u'as_to_full': u'08/19/2010', u'feedback': {u'comment': u'I really enjoyed working with Vlacheslav ... unfortunately the job turned out to be more complex than he had time for. :)', u'score': u'4.50', u'scores': {u'score': [{u'score': u'5', u'description': u'competency and skills for the job, understanding of specifications/instructions', u'label': u'Skills'}, {u'score': u'4', u'description': u'quality of work deliverables', u'label': u'Quality'}, {u'score': u'5', u'description': u'online presence on a consistent schedule', u'label': u'Availability'}, {u'score': u'3', u'description': u'ability to complete tasks on time', u'label': u'Deadlines'}, {u'score': u'5', u'description': u'communication skills, frequent progress updates, responsiveness', u'label': u'Communication'}, {u'score': u'5', u'description': u'cooperation and flexibility, suggestions for improvement', u'label': u'Cooperation'}]}}}\n",
      "<type 'dict'>\n",
      "\n",
      "---------\n",
      "hr_assignments = string\n",
      "\n",
      "---------\n",
      "hr_assignments = string\n",
      "\n",
      "---------\n",
      "hr_assignments = dict\n",
      "job\n",
      "8 <type 'dict'> as_total_hours\n",
      "<type 'unicode'>\n",
      "8 <type 'dict'> as_rate\n",
      "<type 'unicode'>\n",
      "8 <type 'dict'> as_total_charge\n",
      "<type 'unicode'>\n",
      "8 <type 'dict'> as_to\n",
      "<type 'unicode'>\n",
      "8 <type 'dict'> as_total_hours_precise\n",
      "<type 'unicode'>\n",
      "8 <type 'dict'> as_opening_title\n",
      "<type 'unicode'>\n",
      "8 <type 'dict'> as_job_type\n",
      "<type 'unicode'>\n",
      "8 <type 'dict'> as_to_full\n",
      "<type 'unicode'>\n",
      "\n",
      "---------\n",
      "hr_assignments = string\n",
      "\n",
      "---------\n",
      "hr_assignments = string\n",
      "\n",
      "---------\n",
      "hr_assignments = string\n",
      "\n",
      "---------\n",
      "hr_assignments = string\n",
      "\n",
      "---------\n",
      "hr_assignments = string\n",
      "\n",
      "---------\n",
      "hr_assignments = string\n",
      "\n",
      "---------\n",
      "hr_assignments = string\n",
      "\n",
      "---------\n",
      "hr_assignments = string\n",
      "\n",
      "---------\n",
      "hr_assignments = string\n",
      "\n",
      "---------\n",
      "hr_assignments = dict\n",
      "job\n",
      "~01d84a6e743b0b5287\n",
      "18 <type 'list'> {u'as_total_hours': u'5.00', u'feedback': {u'comment': u'Excellent work. Will definitely use again. Recommended Highly.', u'score': u'5.00', u'scores': {u'score': [{u'score': u'5', u'description': u'competency and skills for the job, understanding of specifications/instructions', u'label': u'Skills'}, {u'score': u'5', u'description': u'quality of work deliverables', u'label': u'Quality'}, {u'score': u'5', u'description': u'online presence on a consistent schedule', u'label': u'Availability'}, {u'score': u'5', u'description': u'ability to complete tasks on time', u'label': u'Deadlines'}, {u'score': u'5', u'description': u'communication skills, frequent progress updates, responsiveness', u'label': u'Communication'}, {u'score': u'5', u'description': u'cooperation and flexibility, suggestions for improvement', u'label': u'Cooperation'}]}}, u'as_to': u'07/2010', u'as_total_hours_precise': u'5', u'as_opening_title': u'Derek Shannon Updates', u'as_job_type': u'Hourly', u'as_to_full': u'07/15/2010'}\n",
      "<type 'dict'>\n",
      "~01d08c5117652f8d6e\n",
      "18 <type 'list'> {u'as_total_hours': u'106', u'feedback': {u'comment': u\"Mizan is an excellent and very creative programmer. In the months that he's been working on this project he has brought a wealth of knowledge and ideas that have made him an incredibly valuable member of my team.\\n\\nI plan on hiring Mizan again, as soon as I have more resources to focus on my programming team. He's a great asset to any team.\", u'score': u'5.00', u'scores': {u'score': [{u'score': u'5', u'description': u'competency and skills for the job, understanding of specifications/instructions', u'label': u'Skills'}, {u'score': u'5', u'description': u'quality of work deliverables', u'label': u'Quality'}, {u'score': u'5', u'description': u'online presence on a consistent schedule', u'label': u'Availability'}, {u'score': u'5', u'description': u'ability to complete tasks on time', u'label': u'Deadlines'}, {u'score': u'5', u'description': u'communication skills, frequent progress updates, responsiveness', u'label': u'Communication'}, {u'score': u'5', u'description': u'cooperation and flexibility, suggestions for improvement', u'label': u'Cooperation'}]}}, u'as_to': u'10/2009', u'as_total_hours_precise': u'105.666666666667', u'as_opening_title': u'Zend Framework Developers For Fitness Website', u'as_job_type': u'Hourly', u'as_to_full': u'10/06/2009'}\n",
      "<type 'dict'>\n",
      "18 <type 'list'> {u'as_total_hours': u'40', u'as_rate': u'$22.22', u'as_total_charge': u'359.3', u'as_to': u'07/2009', u'as_total_hours_precise': u'40.3333333333334', u'as_opening_title': u'[LAMP] Simple ordering system in LAMP (Front-end design mostly done)', u'as_job_type': u'Hourly', u'as_to_full': u'07/31/2009', u'feedback': {u'comment': u'Excellent PHP programmer. Good communication. It was a smooth project. Would work with again.', u'score': u'5.00', u'scores': {u'score': [{u'score': u'5', u'description': u'competency and skills for the job, understanding of specifications/instructions', u'label': u'Skills'}, {u'score': u'5', u'description': u'quality of work deliverables', u'label': u'Quality'}, {u'score': u'5', u'description': u'online presence on a consistent schedule', u'label': u'Availability'}, {u'score': u'5', u'description': u'ability to complete tasks on time', u'label': u'Deadlines'}, {u'score': u'5', u'description': u'communication skills, frequent progress updates, responsiveness', u'label': u'Communication'}, {u'score': u'5', u'description': u'cooperation and flexibility, suggestions for improvement', u'label': u'Cooperation'}]}}}\n",
      "<type 'dict'>\n",
      "18 <type 'list'> {u'as_to': u'06/2009', u'as_total_hours': u'5.00', u'as_total_hours_precise': u'5', u'as_opening_title': u'HTML content updates in a MVC PHP application (Code Igniter)', u'as_job_type': u'Hourly', u'as_to_full': u'06/29/2009'}\n",
      "<type 'dict'>\n",
      "18 <type 'list'> {u'as_total_hours': u'42', u'feedback': {u'comment': u'Mizan is clearly qualified to do excellent development work.  We had some misunderstanding when it came to communication and work flow, but I would eagerly give it another shot and probably will.', u'score': u'3.50', u'scores': {u'score': [{u'score': u'5', u'description': u'competency and skills for the job, understanding of specifications/instructions', u'label': u'Skills'}, {u'score': u'5', u'description': u'quality of work deliverables', u'label': u'Quality'}, {u'score': u'3', u'description': u'online presence on a consistent schedule', u'label': u'Availability'}, {u'score': u'2', u'description': u'ability to complete tasks on time', u'label': u'Deadlines'}, {u'score': u'2', u'description': u'communication skills, frequent progress updates, responsiveness', u'label': u'Communication'}, {u'score': u'3', u'description': u'cooperation and flexibility, suggestions for improvement', u'label': u'Cooperation'}]}}, u'as_to': u'03/2009', u'as_total_hours_precise': u'41.6666666666667', u'as_opening_title': u'Corporate Brochure Site with Micro-site Template:  CodeIgniter, JQuery, CSS', u'as_job_type': u'Hourly', u'as_to_full': u'03/13/2009'}\n",
      "<type 'dict'>\n",
      "18 <type 'list'> {u'as_to': u'01/2009', u'feedback': {u'comment': u'', u'score': u'5.00', u'scores': {u'score': [{u'score': u'5', u'description': u'competency and skills for the job, understanding of specifications/instructions', u'label': u'Skills'}, {u'score': u'5', u'description': u'quality of work deliverables', u'label': u'Quality'}, {u'score': u'5', u'description': u'online presence on a consistent schedule', u'label': u'Availability'}, {u'score': u'5', u'description': u'ability to complete tasks on time', u'label': u'Deadlines'}, {u'score': u'5', u'description': u'communication skills, frequent progress updates, responsiveness', u'label': u'Communication'}, {u'score': u'5', u'description': u'cooperation and flexibility, suggestions for improvement', u'label': u'Cooperation'}]}}, u'as_total_hours': u'250', u'as_total_hours_precise': u'250.166666666667', u'as_opening_title': u'PHP/MySQL/Codeigniter Application Test Project', u'as_job_type': u'Hourly', u'as_to_full': u'01/29/2009'}\n",
      "<type 'dict'>\n",
      "\n",
      "---------\n",
      "hr_assignments = string\n",
      "\n",
      "---------\n",
      "hr_assignments = dict\n",
      "job\n",
      "20 <type 'dict'> as_total_hours\n",
      "<type 'unicode'>\n",
      "20 <type 'dict'> as_rate\n",
      "<type 'unicode'>\n",
      "20 <type 'dict'> as_financial_privacy\n",
      "<type 'unicode'>\n",
      "20 <type 'dict'> as_to\n",
      "<type 'unicode'>\n",
      "20 <type 'dict'> as_from_full\n",
      "<type 'unicode'>\n"
     ]
    },
    {
     "ename": "TypeError",
     "evalue": "string indices must be integers",
     "output_type": "error",
     "traceback": [
      "\u001b[0;31m---------------------------------------------------------------------------\u001b[0m",
      "\u001b[0;31mTypeError\u001b[0m                                 Traceback (most recent call last)",
      "\u001b[0;32m<ipython-input-85-221a36576d0c>\u001b[0m in \u001b[0;36m<module>\u001b[0;34m()\u001b[0m\n\u001b[1;32m     12\u001b[0m                 \u001b[0;32mif\u001b[0m \u001b[0;34m'as_ciphertext_opening_recno'\u001b[0m \u001b[0;32min\u001b[0m \u001b[0mjob\u001b[0m\u001b[0;34m:\u001b[0m\u001b[0;34m\u001b[0m\u001b[0m\n\u001b[1;32m     13\u001b[0m                     \u001b[0;32mpass\u001b[0m\u001b[0;34m\u001b[0m\u001b[0m\n\u001b[0;32m---> 14\u001b[0;31m                     \u001b[0;32mprint\u001b[0m \u001b[0mjob\u001b[0m\u001b[0;34m[\u001b[0m\u001b[0;34m'as_ciphertext_opening_recno'\u001b[0m\u001b[0;34m]\u001b[0m\u001b[0;34m\u001b[0m\u001b[0m\n\u001b[0m\u001b[1;32m     15\u001b[0m                 \u001b[0;32melse\u001b[0m\u001b[0;34m:\u001b[0m\u001b[0;34m\u001b[0m\u001b[0m\n\u001b[1;32m     16\u001b[0m                     \u001b[0;32mprint\u001b[0m \u001b[0mindex\u001b[0m\u001b[0;34m,\u001b[0m \u001b[0mtype\u001b[0m\u001b[0;34m(\u001b[0m\u001b[0mhr_assignments_jobs\u001b[0m\u001b[0;34m)\u001b[0m\u001b[0;34m,\u001b[0m \u001b[0mjob\u001b[0m\u001b[0;34m\u001b[0m\u001b[0m\n",
      "\u001b[0;31mTypeError\u001b[0m: string indices must be integers"
     ]
    }
   ],
   "source": [
    "for index, dict_item in enumerate(as_profiles_lod):\n",
    "    hr_assignments = dict_item['assignments']['hr']\n",
    "    if isinstance(hr_assignments, basestring):\n",
    "        print \"hr_assignments = string\"\n",
    "        print hr_assignments\n",
    "    elif isinstance(hr_assignments, dict):\n",
    "        print \"hr_assignments = dict\"\n",
    "        if 'job' in hr_assignments:\n",
    "            print 'job'\n",
    "            hr_assignments_jobs = hr_assignments['job']\n",
    "            if isinstance(hr_assignments_jobs, list):\n",
    "                for job in hr_assignments_jobs:\n",
    "                    if 'as_ciphertext_opening_recno' in job:\n",
    "                        pass\n",
    "                        print job['as_ciphertext_opening_recno']\n",
    "                    else:\n",
    "                        print index, type(hr_assignments_jobs), job\n",
    "                        print type(job)\n",
    "            elif isinstance(hr_assignments_jobs, dict):\n",
    "                    for key in job.keys():\n",
    "                        if '~' in job[key]:\n",
    "                            print job[key]\n",
    "            print\n",
    "        elif 'assignment' in hr_assignments:\n",
    "            print 'assignment'\n",
    "            hr_assignments_jobs = hr_assignments['assignment']\n",
    "            if isinstance(hr_assignments_jobs, list):\n",
    "                for job in hr_assignments_jobs:\n",
    "                    if 'as_ciphertext_opening_recno' in job:\n",
    "                        print job['as_ciphertext_opening_recno']\n",
    "                        print\n",
    "        else:\n",
    "            print 'neither key'\n",
    "            for job in hr_assignments:\n",
    "                print type(job)\n",
    "                print\n",
    "    elif isinstance(hr_assignments, list):\n",
    "        print \"hr_assignments = list\"\n",
    "        for job in hr_assignments:\n",
    "            print 'qqq', job\n",
    "\n",
    "    print '---------'\n",
    "    if index > 20: break\n"
   ]
  },
  {
   "cell_type": "code",
   "execution_count": 83,
   "metadata": {
    "collapsed": false
   },
   "outputs": [
    {
     "name": "stdout",
     "output_type": "stream",
     "text": [
      "{u'as_total_hours': u'2.33', u'as_rate': u'$3.33', u'as_total_charge': u'7.76', u'as_to': u'02/2013', u'as_total_hours_precise': u'2.3333333333334', u'as_opening_title': u'Female Virtual Assistant Who Likes Shoes', u'as_job_type': u'Hourly', u'as_to_full': u'02/27/2013'}\n"
     ]
    }
   ],
   "source": [
    "print as_profiles_lod[8]['assignments']['hr']['job']"
   ]
  },
  {
   "cell_type": "code",
   "execution_count": 8,
   "metadata": {
    "collapsed": false
   },
   "outputs": [
    {
     "name": "stdout",
     "output_type": "stream",
     "text": [
      "655\n",
      "[u'~019fb185473d0c4789', u'~01db54f572948cbc45', u'~01b1e3d1a582370c49', u'~01a33ea6f9ce09ac24', u'~01a644f4e0579a50de']\n"
     ]
    }
   ],
   "source": [
    "print len(ids)\n",
    "print ids[:5]"
   ]
  },
  {
   "cell_type": "markdown",
   "metadata": {},
   "source": [
    "## Insert into MongoDB"
   ]
  },
  {
   "cell_type": "code",
   "execution_count": 18,
   "metadata": {
    "collapsed": false
   },
   "outputs": [],
   "source": [
    "client = MongoClient()\n",
    "# Access/Initiate Database\n",
    "db = client['upwork_db']"
   ]
  },
  {
   "cell_type": "code",
   "execution_count": 42,
   "metadata": {
    "collapsed": false
   },
   "outputs": [
    {
     "data": {
      "text/plain": [
       "[]"
      ]
     },
     "execution_count": 42,
     "metadata": {},
     "output_type": "execute_result"
    }
   ],
   "source": [
    "db.collection_names()"
   ]
  },
  {
   "cell_type": "code",
   "execution_count": 43,
   "metadata": {
    "collapsed": true
   },
   "outputs": [],
   "source": [
    "# Access/Initiate Table\n",
    "profiles = db['apache-spark_profiles']"
   ]
  },
  {
   "cell_type": "code",
   "execution_count": 44,
   "metadata": {
    "collapsed": false
   },
   "outputs": [
    {
     "data": {
      "text/plain": [
       "<pymongo.results.InsertManyResult at 0x1174f7a00>"
      ]
     },
     "execution_count": 44,
     "metadata": {},
     "output_type": "execute_result"
    }
   ],
   "source": [
    "profiles.insert_many(as_profiles_lod)"
   ]
  },
  {
   "cell_type": "code",
   "execution_count": 45,
   "metadata": {
    "collapsed": false
   },
   "outputs": [
    {
     "data": {
      "text/plain": [
       "[u'apache-spark_profiles']"
      ]
     },
     "execution_count": 45,
     "metadata": {},
     "output_type": "execute_result"
    }
   ],
   "source": [
    "db.collection_names()"
   ]
  },
  {
   "cell_type": "code",
   "execution_count": 47,
   "metadata": {
    "collapsed": false
   },
   "outputs": [
    {
     "data": {
      "text/plain": [
       "655"
      ]
     },
     "execution_count": 47,
     "metadata": {},
     "output_type": "execute_result"
    }
   ],
   "source": [
    "db[u'apache-spark_profiles'].count()"
   ]
  },
  {
   "cell_type": "code",
   "execution_count": 46,
   "metadata": {
    "collapsed": false
   },
   "outputs": [
    {
     "data": {
      "text/plain": [
       "{u'_id': ObjectId('571c223516d5977e5f226c39'),\n",
       " u'categories2': [u'IT & Networking'],\n",
       " u'country': u'Canada',\n",
       " u'description': u'10+ years experience as an Database (MySQL,Oracle,MS SQL) Administrator\\n\\n5+ years experience as an Linux, Ejabberd, Apache, Nginx,FreePBX,LVS, HAProxy administrator \\n\\n3+ years experience as an NoSQL(MongoDB,TokuMx), NewSQL(Cassandra, Impala),Data Warehouse (Infobright, Vertica), Elasticsearch, Logstash Administrator \\n\\nExcellent skills in implementing replication, allocate storage, upgrade, backup and recovery and maintain database access control and system security \\n\\nRecover corrupted table, dropped table without backup.\\n\\nWorked on databases of more than 10K QPS and data increased by TB each month. \\n\\nExpert in query tuning, schema and server optimization \\n\\nExperience in Percona toolkit, XtraDB cluster, different replication typologies with Tungsten replicator\\n\\nProven problem-solving ability in Linux administration and performance tuning\\n\\n\\nExtensive knowledge of database high availability design(master-slave, master-master,cluster), HAProxy, LVS\\n\\nFamily with Ejabber, Apache, Nginx, WordPress,PHP , Postfix,Sendmail configuration and optimization.',\n",
       " u'feedback': u'4.7926829268',\n",
       " u'id': u'~019fb185473d0c4789',\n",
       " u'last_activity': u'April 21, 2016',\n",
       " u'member_since': u'December 1, 2015',\n",
       " u'name': u'John Dolphin',\n",
       " u'portfolio_items_count': u'0',\n",
       " u'portrait_50': u'https://odesk-prod-portraits.s3.amazonaws.com/Users:johndolphin89:PortraitUrl_50?AWSAccessKeyId=1XVAX3FNQZAFC9GJCFR2&Expires=2147483647&Signature=7glp9KIR3bTKuWxeW9KbNDGgLBI%3D&1449075189788341',\n",
       " u'profile_type': u'Independent',\n",
       " u'rate': u'30.0',\n",
       " u'skills': [u'linux-system-administration',\n",
       "  u'database-adminstration',\n",
       "  u'mysql',\n",
       "  u'mongodb',\n",
       "  u'hadoop',\n",
       "  u'cassandra',\n",
       "  u'apache-spark',\n",
       "  u'apache-kafka',\n",
       "  u'performance-tuning',\n",
       "  u'clustering'],\n",
       " u'test_passed_count': u'4',\n",
       " u'title': u'Sr Database and System Administrator(LAMP)'}"
      ]
     },
     "execution_count": 46,
     "metadata": {},
     "output_type": "execute_result"
    }
   ],
   "source": [
    "db[u'apache-spark_profiles'].find_one()"
   ]
  },
  {
   "cell_type": "code",
   "execution_count": 27,
   "metadata": {
    "collapsed": false
   },
   "outputs": [],
   "source": [
    "# Deletes collection (table)\n",
    "db['test_table'].drop()"
   ]
  },
  {
   "cell_type": "code",
   "execution_count": 28,
   "metadata": {
    "collapsed": false
   },
   "outputs": [
    {
     "data": {
      "text/plain": [
       "[]"
      ]
     },
     "execution_count": 28,
     "metadata": {},
     "output_type": "execute_result"
    }
   ],
   "source": [
    "db.collection_names()"
   ]
  },
  {
   "cell_type": "code",
   "execution_count": 26,
   "metadata": {
    "collapsed": false
   },
   "outputs": [
    {
     "data": {
      "text/plain": [
       "[]"
      ]
     },
     "execution_count": 26,
     "metadata": {},
     "output_type": "execute_result"
    }
   ],
   "source": [
    "list(tab.find())"
   ]
  },
  {
   "cell_type": "code",
   "execution_count": 17,
   "metadata": {
    "collapsed": true
   },
   "outputs": [],
   "source": [
    "client.close()"
   ]
  },
  {
   "cell_type": "code",
   "execution_count": null,
   "metadata": {
    "collapsed": true
   },
   "outputs": [],
   "source": []
  },
  {
   "cell_type": "code",
   "execution_count": 51,
   "metadata": {
    "collapsed": true
   },
   "outputs": [],
   "source": [
    "fl = ['ajax.txt', 'angularjs.txt', 'apache-hive.txt', 'apache-kafka.txt', 'apache-spark.txt', 'big-data.txt', 'bootstrap.txt', 'c#.txt', 'cassandra.txt', 'css.txt', 'css3.txt', 'data-analysis.txt', 'data-mining.txt', 'data-modeling.txt', 'data-science.txt', 'data-visualization.txt', 'django-framework.txt', 'hadoop.txt', 'hbase.txt', 'html.txt', 'html5.txt', 'ibm-spss.txt', 'java.txt', 'javascript.txt', 'jquery.txt', 'laravel-framework.txt', 'machine-learning.txt', 'mapreduce.txt', 'matlab.txt', 'mongodb.txt', 'mysql.txt', 'node.js.txt', 'nosql.txt', 'php.txt', 'pig.txt', 'postgresql.txt', 'predictive-analytics.txt', 'python-numpy.txt', 'python-scipy.txt', 'python.txt', 'r.txt', 'ruby-on-rails.txt', 'ruby.txt', 'sas.txt', 'scala.txt', 'spring-framework.txt', 'sql.txt', 'statistics.txt', 'tableau.txt', 'twitter-bootstrap.txt', 'wordpress.txt']"
   ]
  },
  {
   "cell_type": "code",
   "execution_count": 22,
   "metadata": {
    "collapsed": true
   },
   "outputs": [],
   "source": [
    "import os"
   ]
  },
  {
   "cell_type": "code",
   "execution_count": 24,
   "metadata": {
    "collapsed": false
   },
   "outputs": [
    {
     "name": "stdout",
     "output_type": "stream",
     "text": [
      "['.DS_Store', 'apache-hive.txt', 'apache-kafka.txt', 'apache-spark.txt', 'big-data.txt', 'cassandra.txt', 'data-analysis.txt', 'data-mining.txt', 'data-modeling.txt', 'data-science.txt', 'data-visualization.txt', 'full_stack', 'hadoop.txt', 'hbase.txt', 'ibm-spss.txt', 'java.txt', 'machine-learning.txt', 'mapreduce.txt', 'matlab.txt', 'mongodb.txt', 'mysql.txt', 'nosql.txt', 'pig.txt', 'predictive-analytics.txt', 'python-numpy.txt', 'python-scipy.txt', 'python.txt', 'r.txt', 'sas.txt', 'scala.txt', 'spring-framework.txt', 'sql.txt', 'statistics.txt', 'tableau.txt']\n"
     ]
    }
   ],
   "source": [
    "project_directory_path = '/Users/JerryTsai/userjst/individ/knowledg/cur/galvanize/project-upwork'\n",
    "# data_directory_path = os.getcwd() + '/data/profiles_by_skill'\n",
    "list_of_filenames = os.listdir(project_directory_path + '/data/profiles_by_skill')\n",
    "print list_of_filenames"
   ]
  },
  {
   "cell_type": "code",
   "execution_count": null,
   "metadata": {
    "collapsed": true
   },
   "outputs": [],
   "source": [
    "all_ids_set = set()\n",
    "for filename in list_of_filenames:\n",
    "    # Set up \n",
    "    if filename[-4:] == '.txt':\n",
    "        skill_name = filename.split('.')[0].replace('-', '_').replace('#', 'Sharp')\n",
    "    filepath = project_directory_path + '/data/profiles_by_skill/' + filename\n",
    "    \n",
    "    profiles_lod = json_prep(filepath)\n",
    "    ids_list = []\n",
    "    for profile_as_dict in profiles_lod:\n",
    "        ids_list.append(profile_as_dict['id'])\n",
    "    \n",
    "    ids_set = set(ids_list)\n",
    "    print 'Skill: {}, ID count {}'.format(skill_name, len(ids_set))\n",
    "    all_ids_set.update(ids_set)\n",
    "    \n",
    "print 'All ID counts: {}'.format(len(all_ids_set))"
   ]
  },
  {
   "cell_type": "code",
   "execution_count": null,
   "metadata": {
    "collapsed": true
   },
   "outputs": [],
   "source": []
  },
  {
   "cell_type": "markdown",
   "metadata": {},
   "source": [
    "# Do NOT run Below unless you make all_ids_set small"
   ]
  },
  {
   "cell_type": "code",
   "execution_count": 19,
   "metadata": {
    "collapsed": false
   },
   "outputs": [
    {
     "name": "stdout",
     "output_type": "stream",
     "text": [
      "aa;ii;jj;bb;cc\n",
      "dd;m;l;gg;ee\n",
      "hh;kk;ff;nn\n"
     ]
    }
   ],
   "source": [
    "list_size = 5\n",
    "counter = 0\n",
    "set_size_m_1 = len(all_ids_set) - 1\n",
    "for index, id in enumerate(all_ids_set):\n",
    "    remainder = counter % list_size\n",
    "    if remainder == 0:\n",
    "        id_list = []\n",
    "    id_list.append(id)\n",
    "    if remainder == (list_size-1) or counter == set_size_m_1:\n",
    "        profiles_str = ';'.join(id_list)\n",
    "        print profiles_str\n",
    "    counter += 1"
   ]
  },
  {
   "cell_type": "code",
   "execution_count": null,
   "metadata": {
    "collapsed": true
   },
   "outputs": [],
   "source": [
    "The freelancer's profile key or a list of keys, separated by semicolon (';'). \n",
    "The number of keys per request is limited to 20."
   ]
  }
 ],
 "metadata": {
  "kernelspec": {
   "display_name": "Python 2",
   "language": "python",
   "name": "python2"
  },
  "language_info": {
   "codemirror_mode": {
    "name": "ipython",
    "version": 2
   },
   "file_extension": ".py",
   "mimetype": "text/x-python",
   "name": "python",
   "nbconvert_exporter": "python",
   "pygments_lexer": "ipython2",
   "version": "2.7.11"
  }
 },
 "nbformat": 4,
 "nbformat_minor": 0
}
