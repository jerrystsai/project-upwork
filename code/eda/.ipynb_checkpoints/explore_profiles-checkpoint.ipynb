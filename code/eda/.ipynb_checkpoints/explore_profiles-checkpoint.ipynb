{
 "cells": [
  {
   "cell_type": "code",
   "execution_count": null,
   "metadata": {
    "collapsed": true
   },
   "outputs": [],
   "source": [
    "import json\n",
    "import pandas as pd\n",
    "import numpy as np\n",
    "from pymongo import MongoClient\n",
    "from collections import Counter\n",
    "%matplotlib inline"
   ]
  },
  {
   "cell_type": "markdown",
   "metadata": {},
   "source": [
    "Get freelancer profile by key\n",
    "\n",
    "Endpoint\n",
    "GET /api/profiles/v1/providers/{profile_key}.{format}"
   ]
  },
  {
   "cell_type": "code",
   "execution_count": null,
   "metadata": {
    "collapsed": false
   },
   "outputs": [],
   "source": [
    "def json_prep(in_file):\n",
    "    # read the entire file into a python array\n",
    "    with open(in_file, 'rb') as f:\n",
    "        data = f.readlines()\n",
    "\n",
    "    # remove the trailing \"\\n\" from each line\n",
    "    data = map(lambda x: x.rstrip(), data)\n",
    "\n",
    "    # each element of 'data' is an individual JSON object.\n",
    "    # i want to convert it into an *array* of JSON objects\n",
    "    # which, in and of itself, is one large JSON object\n",
    "    # basically... add square brackets to the beginning\n",
    "    # and end, and have all the individual business JSON objects\n",
    "    # separated by a comma\n",
    "    data_json_str = \"[\" + ','.join(data) + \"]\"\n",
    "\n",
    "    data_list_of_dicts = json.loads(data_json_str)\n",
    "    \n",
    "#     now, load it into pandas\n",
    "#     out_df = pd.read_json(data_json_str)\n",
    "    return data_list_of_dicts"
   ]
  },
  {
   "cell_type": "markdown",
   "metadata": {},
   "source": [
    "## Make lists of dicts out of JSON data"
   ]
  },
  {
   "cell_type": "code",
   "execution_count": 5,
   "metadata": {
    "collapsed": false
   },
   "outputs": [],
   "source": [
    "as_profiles_lod = json_prep('../data/detailed_profiles_da_0_8715.txt')"
   ]
  },
  {
   "cell_type": "code",
   "execution_count": 6,
   "metadata": {
    "collapsed": false
   },
   "outputs": [
    {
     "name": "stdout",
     "output_type": "stream",
     "text": [
      "8714 <type 'list'>\n"
     ]
    }
   ],
   "source": [
    "print len(as_profiles_lod), type(as_profiles_lod)  # it's a list of dicts"
   ]
  },
  {
   "cell_type": "code",
   "execution_count": 19,
   "metadata": {
    "collapsed": false
   },
   "outputs": [
    {
     "name": "stdout",
     "output_type": "stream",
     "text": [
      "~01cae3810dc6d2bbbc\n"
     ]
    }
   ],
   "source": [
    "print as_profiles_lod[0]['ciphertext']"
   ]
  },
  {
   "cell_type": "code",
   "execution_count": 18,
   "metadata": {
    "collapsed": false
   },
   "outputs": [
    {
     "name": "stdout",
     "output_type": "stream",
     "text": [
      "~01cae3810dc6d2bbbc\n"
     ]
    }
   ],
   "source": [
    "print as_profiles_lod[0]['dev_recno_ciphertext']"
   ]
  },
  {
   "cell_type": "code",
   "execution_count": null,
   "metadata": {
    "collapsed": true
   },
   "outputs": [],
   "source": [
    "if profile['assignments']['hr'] = "
   ]
  },
  {
   "cell_type": "code",
   "execution_count": null,
   "metadata": {
    "collapsed": true
   },
   "outputs": [],
   "source": [
    "print as_profiles_lod[0]['assignments']['hr']"
   ]
  },
  {
   "cell_type": "code",
   "execution_count": 38,
   "metadata": {
    "collapsed": false
   },
   "outputs": [
    {
     "name": "stdout",
     "output_type": "stream",
     "text": [
      "<type 'unicode'>\n"
     ]
    }
   ],
   "source": [
    "print type(as_profiles_lod[0]['assignments']['hr'])"
   ]
  },
  {
   "cell_type": "code",
   "execution_count": 39,
   "metadata": {
    "collapsed": false
   },
   "outputs": [
    {
     "name": "stdout",
     "output_type": "stream",
     "text": [
      "<type 'dict'>\n"
     ]
    }
   ],
   "source": [
    "print type(as_profiles_lod[0]['assignments']['fp'])\n"
   ]
  },
  {
   "cell_type": "code",
   "execution_count": 40,
   "metadata": {
    "collapsed": false
   },
   "outputs": [
    {
     "name": "stdout",
     "output_type": "stream",
     "text": [
      "{u'job': {u'as_to': u'01/2013', u'feedback': {u'comment': u'Excellent work will be working with you again.', u'score': u'4.35', u'scores': {u'score': [{u'score': u'5', u'description': u'competency and skills for the job, understanding of specifications/instructions', u'label': u'Skills'}, {u'score': u'4', u'description': u'quality of work deliverables', u'label': u'Quality'}, {u'score': u'4', u'description': u'online presence on a consistent schedule', u'label': u'Availability'}, {u'score': u'3', u'description': u'ability to complete tasks on time', u'label': u'Deadlines'}, {u'score': u'5', u'description': u'communication skills, frequent progress updates, responsiveness', u'label': u'Communication'}, {u'score': u'5', u'description': u'cooperation and flexibility, suggestions for improvement', u'label': u'Cooperation'}]}}, u'as_total_hours': u'0.00', u'as_total_hours_precise': u'0', u'as_opening_title': u'Development of Firovia client/associate project management database', u'as_job_type': u'Fixed', u'as_to_full': u'01/09/2013'}}\n"
     ]
    }
   ],
   "source": [
    "print as_profiles_lod[0]['assignments']['fp']"
   ]
  },
  {
   "cell_type": "code",
   "execution_count": 22,
   "metadata": {
    "collapsed": false
   },
   "outputs": [
    {
     "name": "stdout",
     "output_type": "stream",
     "text": [
      "{u'hr': u'', u'fp': u''}\n"
     ]
    }
   ],
   "source": [
    "print as_profiles_lod[1]['assignments']"
   ]
  },
  {
   "cell_type": "code",
   "execution_count": 29,
   "metadata": {
    "collapsed": false
   },
   "outputs": [
    {
     "name": "stdout",
     "output_type": "stream",
     "text": [
      "<type 'unicode'>\n"
     ]
    }
   ],
   "source": [
    "print type(as_profiles_lod[2]['assignments']['hr'])"
   ]
  },
  {
   "cell_type": "code",
   "execution_count": 41,
   "metadata": {
    "collapsed": false
   },
   "outputs": [
    {
     "name": "stdout",
     "output_type": "stream",
     "text": [
      "{u'job': [{u'as_total_hours': u'614', u'as_rate': u'$22.22', u'as_total_charge': u'13642.99', u'as_to': u'Present', u'as_total_hours_precise': u'614', u'as_opening_title': u'Zend Senior Developer + Junior Developer for big web application', u'as_job_type': u'Hourly', u'as_to_full': u'Present'}, {u'as_total_hours': u'1196', u'as_rate': u'$16.67', u'as_total_charge': u'19932.02', u'as_to': u'02/2013', u'as_total_hours_precise': u'1195.66666666667', u'as_opening_title': u'Top notch PHP / Zend Developer (experienced)', u'as_job_type': u'Hourly', u'as_to_full': u'02/07/2013', u'feedback': {u'comment': u'Igor is very good. He completed the project and was very professional in communication, team working. He was always available for conference calls and was very good at PHP/Zend.', u'score': u'5.00', u'scores': {u'score': [{u'score': u'5', u'description': u'competency and skills for the job, understanding of specifications/instructions', u'label': u'Skills'}, {u'score': u'5', u'description': u'quality of work deliverables', u'label': u'Quality'}, {u'score': u'5', u'description': u'online presence on a consistent schedule', u'label': u'Availability'}, {u'score': u'5', u'description': u'ability to complete tasks on time', u'label': u'Deadlines'}, {u'score': u'5', u'description': u'communication skills, frequent progress updates, responsiveness', u'label': u'Communication'}, {u'score': u'5', u'description': u'cooperation and flexibility, suggestions for improvement', u'label': u'Cooperation'}]}}}]}\n"
     ]
    }
   ],
   "source": [
    "print as_profiles_lod[3]['assignments']['hr']['job'][0]"
   ]
  },
  {
   "cell_type": "code",
   "execution_count": 26,
   "metadata": {
    "collapsed": false
   },
   "outputs": [
    {
     "name": "stdout",
     "output_type": "stream",
     "text": [
      "{u'as_total_hours': u'1196', u'as_rate': u'$16.67', u'as_total_charge': u'19932.02', u'as_to': u'02/2013', u'as_total_hours_precise': u'1195.66666666667', u'as_opening_title': u'Top notch PHP / Zend Developer (experienced)', u'as_job_type': u'Hourly', u'as_to_full': u'02/07/2013', u'feedback': {u'comment': u'Igor is very good. He completed the project and was very professional in communication, team working. He was always available for conference calls and was very good at PHP/Zend.', u'score': u'5.00', u'scores': {u'score': [{u'score': u'5', u'description': u'competency and skills for the job, understanding of specifications/instructions', u'label': u'Skills'}, {u'score': u'5', u'description': u'quality of work deliverables', u'label': u'Quality'}, {u'score': u'5', u'description': u'online presence on a consistent schedule', u'label': u'Availability'}, {u'score': u'5', u'description': u'ability to complete tasks on time', u'label': u'Deadlines'}, {u'score': u'5', u'description': u'communication skills, frequent progress updates, responsiveness', u'label': u'Communication'}, {u'score': u'5', u'description': u'cooperation and flexibility, suggestions for improvement', u'label': u'Cooperation'}]}}}\n"
     ]
    }
   ],
   "source": [
    "print as_profiles_lod[3]['assignments']['hr']['job'][1]"
   ]
  },
  {
   "cell_type": "code",
   "execution_count": 127,
   "metadata": {
    "collapsed": true
   },
   "outputs": [],
   "source": [
    "q = {'dog': 'day', 'cat': '~yay'}"
   ]
  },
  {
   "cell_type": "code",
   "execution_count": 130,
   "metadata": {
    "collapsed": false
   },
   "outputs": [
    {
     "name": "stdout",
     "output_type": "stream",
     "text": [
      "(False, '~yay')\n"
     ]
    }
   ],
   "source": [
    "def possible_key(dict):\n",
    "    key_flag = False\n",
    "    possible_key = ''.join([dict[key] if '~' in dict[key] else '' for key in dict.keys()])\n",
    "    if possible_key == '': \n",
    "        key_flag = True\n",
    "        possible_key = None\n",
    "    return key_flag, possible_key"
   ]
  },
  {
   "cell_type": "code",
   "execution_count": 134,
   "metadata": {
    "collapsed": false
   },
   "outputs": [
    {
     "name": "stdout",
     "output_type": "stream",
     "text": [
      "~01d84a6e743b0b5287\n",
      "~01d08c5117652f8d6e\n",
      "~01d6a1d5d4f116e5de\n",
      "~0136359de5872f7560\n",
      "~01cb2dc9b976977bd0\n",
      "~01c5f777dd2e406b19\n",
      "~0116f41576b54662bf\n",
      "~0137abee5b41a1b82b\n",
      "~01a2edc1742a0a993a\n",
      "~01de59c08baf9f59a8\n",
      "~01b3dc6c016de877a6\n",
      "~01a039c54705a324a8\n",
      "~0137b99422993d6246\n",
      "~0192c3da9b4279ae66\n",
      "~016c397ca95eef7335\n",
      "~0179f698dbe57c485e\n",
      "~01fb5cde645c407318\n",
      "~01fb5cde645c407318\n",
      "~01f53c4dab850e0d2a\n",
      "~01aed978f2dd563888\n",
      "~01808abebc5bb954d3\n",
      "~01161cce7f463cf9d4\n",
      "~01ac0325a8fa8a8574\n",
      "~01c2bae51619c2f4d4\n",
      "~012db787300e0a9adc\n",
      "~01538ecc4be6f4977b\n",
      "~019c4be06b0bbe2ddf\n",
      "~0148de673cc9db83ae\n",
      "~01ee4c946bcebd4514\n",
      "~0189939d9bb3e3ae4d\n",
      "~01cf608e9207dc5625\n",
      "~01a42de079929e2feb\n",
      "~01305a13e14291d642\n",
      "~017da997e520448294\n",
      "~0160db10e9ce8f770a\n",
      "~01a322d6644e77d319\n",
      "~01e0c64e8aff4a9642\n",
      "~018ced954e2a7ed01c\n",
      "~0129bd4241624eecee\n",
      "~01799c78454c9cb569\n",
      "~0182ccb490d2680b99\n",
      "~012bd1969edd09b55b\n",
      "~015f1cdc6560646b37\n",
      "~016919712dbec26aa5\n",
      "~018d861c73737007df\n",
      "~01d2292593fc8d65a7\n",
      "~01957d7d2b54f75251\n",
      "~01ea49ae72fe0f0b3c\n",
      "~013ef0e1101c7b17cb\n",
      "~01b342cae81c4b4c6c\n",
      "~016c35d719cae7bcd3\n",
      "~01455cd90cf021b111\n",
      "~014f1884b730bcfb80\n",
      "~01281fc6b1ba979a06\n",
      "~010791fcaede723c18\n",
      "~0172385d188ebc01c0\n",
      "~012ea7cf2737a9a25c\n",
      "~019a11d131babc6814\n",
      "~01416e319fcfebfb21\n",
      "~01a68311fcc27e8d35\n",
      "~01e47241fef3944ef7\n",
      "~019f9886310f36ab33\n",
      "~0105d64f8502694196\n",
      "~01f8ffad18d9b93f11\n",
      "~01a08acc7822d892b5\n",
      "~0110a6439cbd8ce37a\n",
      "~01c67d43503f08aa4b\n",
      "~01ad11c7630eb772cf\n",
      "~01040d06dbf1c89419\n",
      "~017322b036bef635d0\n",
      "~019148192aa6d85cc8\n",
      "~010d46b9e9718fd019\n",
      "~01dbdb244039857e24\n",
      "~010d94bff29ab7c204\n",
      "~0147d230240fd3b026\n",
      "~01f93e2a55dc3ca0af\n",
      "~01af123dce50309012\n",
      "~019c45eaf96934e539\n",
      "~01e4458070da5b4219\n",
      "~01e0a818678fd636d1\n",
      "~01016bf38eda4e780f\n",
      "~0116148aed17c009d8\n",
      "~012f572171da18bf2f\n",
      "~015e1d48d7b598ae89\n",
      "~0139d69deb76f24948\n",
      "~0138413125f06102ee\n",
      "~01a04763b3c4d530d9\n",
      "~01624bde712fe0d992\n",
      "~014442dd0e2af6d07f\n",
      "~014442dd0e2af6d07f\n",
      "~010673748a6ba2803b\n",
      "~01a1e27d63a8f840eb\n",
      "~01a88434596a271d91\n",
      "~01e3e348be6a74956b\n",
      "~01a8698359d43acc50\n",
      "~01988e856b8bf6a339\n",
      "~01cc1a39ae43e82ede\n",
      "~016a63d18fb114f9ab\n",
      "~015a46dad79ccfdafd\n",
      "~01d19071684ff47b28\n",
      "~017e081df8b66f0ebf\n",
      "~013b05ed31b7a03464\n",
      "~01ee4937c49570438c\n",
      "~01b95f1783eb85f5d9\n",
      "~018e46385470bba52f\n",
      "~010bf2af72581a57c3\n",
      "~0196d3e4e1672a6c77\n",
      "~012b6eaa9fe629525f\n",
      "~0130b78e106b69c2b4\n",
      "~017cdb10e4c5ff5b74\n",
      "~01f8f8e6ba9c09181f\n",
      "~01a31ef14e7b1f623b\n",
      "~01b680a181e9d9cd77\n",
      "~01e91a55f8be36b11a\n",
      "~01e7ef5b0d4263b287\n",
      "~01457e872b5d114c50\n",
      "~01002968a2d992e166\n",
      "~01e7ef5b0d4263b287\n",
      "~011d7e66cfc0674704\n",
      "~018a5050a58f75323e\n",
      "~012a9fd0b57ad7a00b\n",
      "~018e5ba7e45fb78199\n",
      "~015e86d7c891714776\n",
      "~0135b5efc3fda93aec\n",
      "~01498f9a6ea66cd96f\n",
      "~01a45e5e21b8d258cd\n",
      "~019f182b8f5cf8716e\n",
      "~01000e131dc97813f0\n",
      "~01aa0ac1c96148568d\n",
      "~01632b26633defa606\n",
      "~011d91867bcf060c2b\n",
      "~01549b6a8243e68b9c\n",
      "~01b0cb4ec118c80a81\n",
      "~0117a2a6e8dcccf547\n",
      "~0117a2a6e8dcccf547\n",
      "~019e17607f8469698a\n",
      "~015d20bef816a1e8a1\n",
      "~017a09d729b844aedf\n",
      "~01bd0d41fb81335a14\n",
      "~01c59976edfff53bca\n",
      "~013942528ba35d3d31\n",
      "~01efb874bb423d1b08\n",
      "~01439ab02ca067755c\n",
      "~01b78f9b50c7a8249a\n",
      "~01c57d3c542ee250b6\n",
      "~01b0418c60a4629d84\n",
      "~01a5cee79bb3cf604b\n",
      "~01e7981386509c6792\n",
      "~01900971b08caeb7c5\n",
      "~01a3fe53e243b07cf3\n",
      "~01161157c1cd4c86e6\n",
      "~0129d0c192eb9cc5d1\n",
      "~01deafe833bfeb74f5\n",
      "~0107d9d5419b55edfe\n",
      "~01df8c436673f9b80d\n",
      "~0161a3292b81ca3c84\n",
      "~0149f3459249d35635\n",
      "~0149f3459249d35635\n",
      "~0179b4310856ae4694\n",
      "~015da3f111ce44580e\n",
      "~015fa68ed40f636da1\n",
      "~015fa68ed40f636da1\n",
      "~01942efdc5232106d4\n",
      "~0183bbc56b3bc8f405\n",
      "~01ebcca6e9f08f6827\n",
      "~019d1d3368b04dadf3\n",
      "~015e7474d9840b76cf\n",
      "~013e7fe3b9b54ae772\n",
      "~01d8332eba20f4302d\n",
      "~013b63f7400ad16711\n",
      "~01f18de68883efd2ee\n",
      "~01a8e511c2612a5ef3\n",
      "~01a692137ff2176917\n",
      "~0168fc796363620168\n",
      "~0196d748058b8c5da8\n",
      "~01a413effbc2387c70\n",
      "~01b46c390b600a3d32\n",
      "~01b9c59e33ccdd672e\n",
      "~0154ac07fefba35673\n",
      "~01ba3650439d3e775f\n",
      "~016cefd8a5f9694cf0\n",
      "~01551bfc1fc43d625b\n",
      "~01a931e6890f576099\n",
      "~0180971bed5f9a7256\n",
      "~01d46e28ac5fa801a4\n",
      "~013e40da08bc5bfcbe\n",
      "~015840f9794a8c9a6e\n",
      "~015840f9794a8c9a6e\n",
      "~0188c76902234be6a8\n"
     ]
    }
   ],
   "source": [
    "for index, dict_item in enumerate(as_profiles_lod):\n",
    "    hr_assignments = dict_item['assignments']['hr']\n",
    "    if isinstance(hr_assignments, basestring):\n",
    "        if '~' in hr_assignments:\n",
    "            return hr_assignments\n",
    "    elif isinstance(hr_assignments, dict):\n",
    "#         print \"hr_assignments = dict\"\n",
    "        if 'job' in hr_assignments:\n",
    "#             print 'job'\n",
    "            hr_assignments_jobs = hr_assignments['job']\n",
    "            if isinstance(hr_assignments_jobs, list):\n",
    "#                 print 'is list'\n",
    "                for job in hr_assignments_jobs:\n",
    "                    if 'as_ciphertext_opening_recno' in job:\n",
    "                        print job['as_ciphertext_opening_recno']\n",
    "                    else:\n",
    "                        poss_key, ciphertext = possible_key(dict)\n",
    "                        if poss_key: return ciphertext\n",
    "            elif isinstance(hr_assignments_jobs, dict):\n",
    "#                 print 'is dict'\n",
    "                if 'as_ciphertext_opening_recno' in hr_assignments_jobs:\n",
    "                    print hr_assignments_jobs['as_ciphertext_opening_recno']\n",
    "        elif 'assignment' in hr_assignments:\n",
    "#             print 'assignment'\n",
    "            hr_assignments_jobs = hr_assignments['assignment']\n",
    "            if isinstance(hr_assignments_jobs, list):\n",
    "                for job in hr_assignments_jobs:\n",
    "                    if 'as_ciphertext_opening_recno' in job:\n",
    "                        print job['as_ciphertext_opening_recno']\n",
    "        else:\n",
    "            print 'neither key'\n",
    "            for job in hr_assignments:\n",
    "                print type(job)\n",
    "    elif isinstance(hr_assignments, list):\n",
    "        print \"hr_assignments = list\"\n",
    "        for job in hr_assignments:\n",
    "            print job\n",
    "\n",
    "#     print '---------'\n",
    "    if index > 500: break\n"
   ]
  },
  {
   "cell_type": "code",
   "execution_count": null,
   "metadata": {
    "collapsed": true
   },
   "outputs": [],
   "source": []
  }
 ],
 "metadata": {
  "kernelspec": {
   "display_name": "Python 2",
   "language": "python",
   "name": "python2"
  },
  "language_info": {
   "codemirror_mode": {
    "name": "ipython",
    "version": 2
   },
   "file_extension": ".py",
   "mimetype": "text/x-python",
   "name": "python",
   "nbconvert_exporter": "python",
   "pygments_lexer": "ipython2",
   "version": "2.7.11"
  }
 },
 "nbformat": 4,
 "nbformat_minor": 0
}
