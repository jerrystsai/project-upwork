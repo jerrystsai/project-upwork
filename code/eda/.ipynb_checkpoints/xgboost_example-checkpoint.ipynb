{
 "cells": [
  {
   "cell_type": "code",
   "execution_count": 7,
   "metadata": {
    "collapsed": true
   },
   "outputs": [],
   "source": [
    "import json\n",
    "import pandas as pd\n",
    "import numpy as np\n",
    "from pymongo import MongoClient\n",
    "from collections import Counter\n",
    "import xgboost as xgb\n",
    "%matplotlib inline"
   ]
  },
  {
   "cell_type": "markdown",
   "metadata": {},
   "source": [
    "Get freelancer profile by key\n",
    "\n",
    "Endpoint\n",
    "GET /api/profiles/v1/providers/{profile_key}.{format}"
   ]
  },
  {
   "cell_type": "code",
   "execution_count": 3,
   "metadata": {
    "collapsed": false
   },
   "outputs": [],
   "source": [
    "from sklearn import datasets"
   ]
  },
  {
   "cell_type": "code",
   "execution_count": 11,
   "metadata": {
    "collapsed": false
   },
   "outputs": [
    {
     "name": "stdout",
     "output_type": "stream",
     "text": [
      "(150, 4) (150,) <type 'numpy.ndarray'> <type 'numpy.ndarray'>\n"
     ]
    }
   ],
   "source": [
    "iris = datasets.load_iris()\n",
    "X = iris.data\n",
    "y = iris.target\n",
    "print X.shape, y.shape, type(X), type(y)\n",
    "from sklearn.cross_validation import train_test_split\n",
    "X_train, X_test, y_train, y_test = train_test_split(X, y, random_state=42)"
   ]
  },
  {
   "cell_type": "code",
   "execution_count": 70,
   "metadata": {
    "collapsed": false
   },
   "outputs": [
    {
     "name": "stdout",
     "output_type": "stream",
     "text": [
      "[0 0 2 1 1 0 0 1 2 2 1 2 1 2 1 0 2 1 0 0 0 1 2 0 0 0 1 0 1 2 0 1 2 0 2 2 1\n",
      " 1 2 1 0 1 2 0 0 1 1 0 2 0 0 1 1 2 1 2 2 1 0 0 2 2 0 0 0 1 2 0 2 2 0 1 1 2\n",
      " 1 2 0 2 1 2 1 1 1 0 1 1 0 1 2 2 0 1 2 2 0 2 0 1 2 2 1 2 1 1 2 2 0 1 2 0 1\n",
      " 2] [1 0 2 1 1 0 1 2 1 1 2 0 0 0 0 1 2 1 1 2 0 2 0 2 2 2 2 2 0 0 0 0 1 0 0 2 1\n",
      " 0]\n"
     ]
    }
   ],
   "source": [
    "dtrain = xgb.DMatrix(X_train, label=y_train)\n",
    "dtest = xgb.DMatrix(X_test, label=y_test)\n",
    "print y_train, y_test"
   ]
  },
  {
   "cell_type": "code",
   "execution_count": 62,
   "metadata": {
    "collapsed": false
   },
   "outputs": [],
   "source": [
    "param = {'objective':'multi:softmax', 'num_class':3}"
   ]
  },
  {
   "cell_type": "code",
   "execution_count": 71,
   "metadata": {
    "collapsed": true
   },
   "outputs": [],
   "source": [
    "plst = param.items()\n",
    "plst += [('eval_metric', 'merror')]"
   ]
  },
  {
   "cell_type": "code",
   "execution_count": 72,
   "metadata": {
    "collapsed": true
   },
   "outputs": [],
   "source": [
    "evallist  = [(dtest,'eval'), (dtrain,'train')]"
   ]
  },
  {
   "cell_type": "code",
   "execution_count": 73,
   "metadata": {
    "collapsed": false
   },
   "outputs": [],
   "source": [
    "num_round = 10\n",
    "m = xgb.train(plst, dtrain)"
   ]
  },
  {
   "cell_type": "code",
   "execution_count": 74,
   "metadata": {
    "collapsed": false
   },
   "outputs": [
    {
     "name": "stderr",
     "output_type": "stream",
     "text": [
      "[0]\teval-merror:0.000000\ttrain-merror:0.026786\n",
      "[1]\teval-merror:0.000000\ttrain-merror:0.026786\n",
      "[2]\teval-merror:0.000000\ttrain-merror:0.026786\n",
      "[3]\teval-merror:0.000000\ttrain-merror:0.026786\n",
      "[4]\teval-merror:0.000000\ttrain-merror:0.026786\n",
      "[5]\teval-merror:0.000000\ttrain-merror:0.017857\n",
      "[6]\teval-merror:0.000000\ttrain-merror:0.017857\n",
      "[7]\teval-merror:0.000000\ttrain-merror:0.017857\n",
      "[8]\teval-merror:0.000000\ttrain-merror:0.017857\n",
      "[9]\teval-merror:0.000000\ttrain-merror:0.017857\n"
     ]
    }
   ],
   "source": [
    "num_round = 10\n",
    "m = xgb.train(plst, dtrain, num_round, evallist)"
   ]
  },
  {
   "cell_type": "code",
   "execution_count": null,
   "metadata": {
    "collapsed": true
   },
   "outputs": [],
   "source": []
  },
  {
   "cell_type": "code",
   "execution_count": null,
   "metadata": {
    "collapsed": true
   },
   "outputs": [],
   "source": []
  },
  {
   "cell_type": "code",
   "execution_count": 41,
   "metadata": {
    "collapsed": false
   },
   "outputs": [],
   "source": [
    "param = {'bst:max_depth': 2, 'bst:eta':0.1, 'silent': 1, \\\n",
    "         'objective':'multi:softmax'}\n",
    "param['nthread'] = 4\n",
    "param['num_class'] = 3\n",
    "param['eval_metric'] = 'error'\n",
    "evallist  = [(dtest,'eval')]"
   ]
  },
  {
   "cell_type": "code",
   "execution_count": null,
   "metadata": {
    "collapsed": true
   },
   "outputs": [],
   "source": []
  },
  {
   "cell_type": "code",
   "execution_count": 45,
   "metadata": {
    "collapsed": false
   },
   "outputs": [
    {
     "ename": "SyntaxError",
     "evalue": "keyword can't be an expression (<ipython-input-45-2f8615a486f2>, line 2)",
     "output_type": "error",
     "traceback": [
      "\u001b[0;36m  File \u001b[0;32m\"<ipython-input-45-2f8615a486f2>\"\u001b[0;36m, line \u001b[0;32m2\u001b[0m\n\u001b[0;31m    bst = xgb.train(dtrain=dtrain, 'objective'='multi:softmax')\u001b[0m\n\u001b[0;31mSyntaxError\u001b[0m\u001b[0;31m:\u001b[0m keyword can't be an expression\n"
     ]
    }
   ],
   "source": [
    "num_round = 10\n",
    "bst = xgb.train(dtrain=dtrain, 'objective':'multi:softmax')"
   ]
  },
  {
   "cell_type": "code",
   "execution_count": 43,
   "metadata": {
    "collapsed": false
   },
   "outputs": [
    {
     "ename": "TypeError",
     "evalue": "range() integer end argument expected, got list.",
     "output_type": "error",
     "traceback": [
      "\u001b[0;31m---------------------------------------------------------------------------\u001b[0m",
      "\u001b[0;31mTypeError\u001b[0m                                 Traceback (most recent call last)",
      "\u001b[0;32m<ipython-input-43-42b2f8c26770>\u001b[0m in \u001b[0;36m<module>\u001b[0;34m()\u001b[0m\n\u001b[1;32m      1\u001b[0m \u001b[0mnum_round\u001b[0m \u001b[0;34m=\u001b[0m \u001b[0;36m10\u001b[0m\u001b[0;34m\u001b[0m\u001b[0m\n\u001b[1;32m      2\u001b[0m \u001b[0mevallist\u001b[0m  \u001b[0;34m=\u001b[0m \u001b[0;34m[\u001b[0m\u001b[0;34m(\u001b[0m\u001b[0mdtest\u001b[0m\u001b[0;34m,\u001b[0m\u001b[0;34m'test'\u001b[0m\u001b[0;34m)\u001b[0m\u001b[0;34m,\u001b[0m \u001b[0;34m(\u001b[0m\u001b[0mdtrain\u001b[0m\u001b[0;34m,\u001b[0m\u001b[0;34m'train'\u001b[0m\u001b[0;34m)\u001b[0m\u001b[0;34m]\u001b[0m\u001b[0;34m\u001b[0m\u001b[0m\n\u001b[0;32m----> 3\u001b[0;31m \u001b[0mbst\u001b[0m \u001b[0;34m=\u001b[0m \u001b[0mxgb\u001b[0m\u001b[0;34m.\u001b[0m\u001b[0mtrain\u001b[0m\u001b[0;34m(\u001b[0m\u001b[0mplst\u001b[0m\u001b[0;34m,\u001b[0m \u001b[0mdtrain\u001b[0m\u001b[0;34m,\u001b[0m \u001b[0mevallist\u001b[0m\u001b[0;34m)\u001b[0m\u001b[0;34m\u001b[0m\u001b[0m\n\u001b[0m",
      "\u001b[0;32m/Users/JerryTsai/anaconda/lib/python2.7/site-packages/xgboost/training.pyc\u001b[0m in \u001b[0;36mtrain\u001b[0;34m(params, dtrain, num_boost_round, evals, obj, feval, maximize, early_stopping_rounds, evals_result, verbose_eval, learning_rates, xgb_model)\u001b[0m\n\u001b[1;32m    118\u001b[0m \u001b[0;34m\u001b[0m\u001b[0m\n\u001b[1;32m    119\u001b[0m     \u001b[0;32mif\u001b[0m \u001b[0;32mnot\u001b[0m \u001b[0mearly_stopping_rounds\u001b[0m\u001b[0;34m:\u001b[0m\u001b[0;34m\u001b[0m\u001b[0m\n\u001b[0;32m--> 120\u001b[0;31m         \u001b[0;32mfor\u001b[0m \u001b[0mi\u001b[0m \u001b[0;32min\u001b[0m \u001b[0mrange\u001b[0m\u001b[0;34m(\u001b[0m\u001b[0mnum_boost_round\u001b[0m\u001b[0;34m)\u001b[0m\u001b[0;34m:\u001b[0m\u001b[0;34m\u001b[0m\u001b[0m\n\u001b[0m\u001b[1;32m    121\u001b[0m             \u001b[0mbst\u001b[0m\u001b[0;34m.\u001b[0m\u001b[0mupdate\u001b[0m\u001b[0;34m(\u001b[0m\u001b[0mdtrain\u001b[0m\u001b[0;34m,\u001b[0m \u001b[0mi\u001b[0m\u001b[0;34m,\u001b[0m \u001b[0mobj\u001b[0m\u001b[0;34m)\u001b[0m\u001b[0;34m\u001b[0m\u001b[0m\n\u001b[1;32m    122\u001b[0m             \u001b[0mnboost\u001b[0m \u001b[0;34m+=\u001b[0m \u001b[0;36m1\u001b[0m\u001b[0;34m\u001b[0m\u001b[0m\n",
      "\u001b[0;31mTypeError\u001b[0m: range() integer end argument expected, got list."
     ]
    }
   ],
   "source": [
    "num_round = 10\n",
    "evallist  = [(dtest,'test'), (dtrain,'train')]\n",
    "bst = xgb.train(plst, dtrain, evallist)"
   ]
  },
  {
   "cell_type": "code",
   "execution_count": null,
   "metadata": {
    "collapsed": true
   },
   "outputs": [],
   "source": [
    "# This script shows you how to make a submission using a few\n",
    "# useful Python libraries.\n",
    "# It gets a public leaderboard score of 0.76077.\n",
    "# Maybe you can tweak it and do better...?\n",
    "\n",
    "import pandas as pd\n",
    "import xgboost as xgb\n",
    "from sklearn.preprocessing import LabelEncoder\n",
    "import numpy as np\n",
    "\n",
    "# Load the data\n",
    "train_df = pd.read_csv('../input/train.csv', header=0)\n",
    "test_df = pd.read_csv('../input/test.csv', header=0)\n"
   ]
  },
  {
   "cell_type": "code",
   "execution_count": null,
   "metadata": {
    "collapsed": true
   },
   "outputs": [],
   "source": []
  },
  {
   "cell_type": "code",
   "execution_count": null,
   "metadata": {
    "collapsed": false
   },
   "outputs": [],
   "source": [
    "def json_prep(in_file):\n",
    "    # read the entire file `ainto a python array\n",
    "    with open(in_file, 'rb') as f:\n",
    "        data = f.readlines()\n",
    "\n",
    "    # remove the trailing \"\\n\" from each line\n",
    "    data = map(lambda x: x.rstrip(), data)\n",
    "\n",
    "    # each element of 'data' is an individual JSON object.\n",
    "    # i want to convert it into an *array* of JSON objects\n",
    "    # which, in and of itself, is one large JSON object\n",
    "    # basically... add square brackets to the beginning\n",
    "    # and end, and have all the individual business JSON objects\n",
    "    # separated by a comma\n",
    "    data_json_str = \"[\" + ','.join(data) + \"]\"\n",
    "\n",
    "    data_list_of_dicts = json.loads(data_json_str)\n",
    "    \n",
    "    out_df = pd.read_json(data_json_str)\n",
    "    return out_df"
   ]
  },
  {
   "cell_type": "markdown",
   "metadata": {},
   "source": [
    "## Make lists of dicts out of JSON data"
   ]
  },
  {
   "cell_type": "code",
   "execution_count": null,
   "metadata": {
    "collapsed": false
   },
   "outputs": [],
   "source": [
    "as_profiles_df = json_prep('../../data/detailed_profiles_da_0_8715.txt')"
   ]
  },
  {
   "cell_type": "code",
   "execution_count": null,
   "metadata": {
    "collapsed": false,
    "scrolled": true
   },
   "outputs": [],
   "source": [
    "as_profiles_df.T.head(48)"
   ]
  },
  {
   "cell_type": "code",
   "execution_count": null,
   "metadata": {
    "collapsed": false
   },
   "outputs": [],
   "source": [
    "print as_profiles_df.dev_ui_profile_access.value_counts()"
   ]
  },
  {
   "cell_type": "code",
   "execution_count": null,
   "metadata": {
    "collapsed": false
   },
   "outputs": [],
   "source": [
    "print as_profiles_df.education[0:5]"
   ]
  },
  {
   "cell_type": "code",
   "execution_count": null,
   "metadata": {
    "collapsed": false
   },
   "outputs": [],
   "source": [
    "as_profiles_df[(as_profiles_df['dev_is_affiliated'] <> 0) & (as_profiles_df['dev_ac_agencies'] == '')][['dev_is_affiliated', 'dev_ac_agencies']]"
   ]
  },
  {
   "cell_type": "code",
   "execution_count": null,
   "metadata": {
    "collapsed": true
   },
   "outputs": [],
   "source": []
  },
  {
   "cell_type": "code",
   "execution_count": null,
   "metadata": {
    "collapsed": false
   },
   "outputs": [],
   "source": [
    "print as_profiles_df.dev_ac_agencies.value_counts()"
   ]
  },
  {
   "cell_type": "code",
   "execution_count": null,
   "metadata": {
    "collapsed": false
   },
   "outputs": [],
   "source": [
    "print as_profiles_lod[0]"
   ]
  },
  {
   "cell_type": "code",
   "execution_count": null,
   "metadata": {
    "collapsed": true
   },
   "outputs": [],
   "source": [
    "def json_prep_pandas(in_file):\n",
    "    # read the entire file into a python array\n",
    "    with open(in_file, 'rb') as f:\n",
    "        data = f.readlines()\n",
    "\n",
    "    # remove the trailing \"\\n\" from each line\n",
    "    data = map(lambda x: x.rstrip(), data)\n",
    "\n",
    "    # each element of 'data' is an individual JSON object.\n",
    "    # i want to convert it into an *array* of JSON objects\n",
    "    # which, in and of itself, is one large JSON object\n",
    "    # basically... add square brackets to the beginning\n",
    "    # and end, and have all the individual business JSON objects\n",
    "    # separated by a comma\n",
    "    data_json_str = \"[\" + ','.join(data) + \"]\"\n",
    "\n",
    "    data_list_of_dicts = json.loads(data_json_str)\n",
    "    \n",
    "#     now, load it into pandas\n",
    "    out_df = pd.read_json(data_json_str)\n",
    "    return out_df"
   ]
  },
  {
   "cell_type": "code",
   "execution_count": null,
   "metadata": {
    "collapsed": true
   },
   "outputs": [],
   "source": [
    "df = json_prep_pandas('../../data/detailed_profiles_da_0_8715.txt')"
   ]
  },
  {
   "cell_type": "code",
   "execution_count": null,
   "metadata": {
    "collapsed": false
   },
   "outputs": [],
   "source": [
    "df.info()"
   ]
  },
  {
   "cell_type": "code",
   "execution_count": null,
   "metadata": {
    "collapsed": false
   },
   "outputs": [],
   "source": [
    "df.assignments.head(10)"
   ]
  },
  {
   "cell_type": "code",
   "execution_count": null,
   "metadata": {
    "collapsed": false
   },
   "outputs": [],
   "source": [
    "for char in df.assignments.iloc[[0]]:\n",
    "    print char"
   ]
  },
  {
   "cell_type": "code",
   "execution_count": null,
   "metadata": {
    "collapsed": false
   },
   "outputs": [],
   "source": [
    "for x in range(20):\n",
    "    print x\n",
    "    jobs = df.assignments[x]\n",
    "    for k1, v1 in jobs.iteritems():        \n",
    "        print 'k1 = ', k1\n",
    "        if isinstance(v1, basestring):\n",
    "            print 'basestring'\n",
    "            pass\n",
    "        elif isinstance(v1, dict):\n",
    "            print 'dict'\n",
    "            for k2, v2 in v1.iteritems():\n",
    "                print '  k2 = ', k2\n",
    "                if isinstance(v2, basestring):\n",
    "                    print '  basestring'\n",
    "                    pass\n",
    "                elif isinstance(v2, dict):\n",
    "                    print '  dict'\n",
    "                    for k3, v3 in v2.iteritems():\n",
    "                        print '    k3 = ' + k3\n",
    "                elif isinstance(v2, list):\n",
    "                    print '  list'\n",
    "                    for index2, item in enumerate(v2):\n",
    "                        print '    item', index2\n",
    "                        if isinstance(item, dict):\n",
    "                            for k4, v4 in item.iteritems():\n",
    "                                print '    k4 = ', k4\n",
    "        elif isinstance(v1, list):\n",
    "            print 'list'\n",
    "            for item in v1:\n",
    "                print item\n",
    "    print\n",
    "    "
   ]
  },
  {
   "cell_type": "code",
   "execution_count": null,
   "metadata": {
    "collapsed": false
   },
   "outputs": [],
   "source": [
    "def triage(dict_, level=0):\n",
    "    if not(isinstance(dict_, float) or isinstance(dict_, basestring)):\n",
    "        print type(dict_)\n",
    "        for key, val in dict_.iteritems():\n",
    "            print ' '*level*2, key\n",
    "            if isinstance(val, dict):\n",
    "                triage(val, level=level+1)\n",
    "            elif isinstance(val, list):\n",
    "                for index, item in enumerate(val): \n",
    "                    print ' '*level*2, 'item', index\n",
    "                    triage(item, level=level+1)\n",
    "            elif isinstance(val, basestring):\n",
    "                print ' '*(level+1)*2, '=', val\n",
    "\n",
    "for x in range(1000,1020):\n",
    "    print x\n",
    "    jobs = df.dev_job_categories_v2[x]\n",
    "    triage(jobs)"
   ]
  },
  {
   "cell_type": "code",
   "execution_count": null,
   "metadata": {
    "collapsed": false
   },
   "outputs": [],
   "source": [
    "for x in range(1000,1020):\n",
    "    print x\n",
    "    jobs = df.education[x]\n",
    "    triage(jobs)"
   ]
  },
  {
   "cell_type": "code",
   "execution_count": null,
   "metadata": {
    "collapsed": false
   },
   "outputs": [],
   "source": [
    "q = 3.4\n",
    "print isinstance(q, float)"
   ]
  },
  {
   "cell_type": "code",
   "execution_count": null,
   "metadata": {
    "collapsed": false
   },
   "outputs": [],
   "source": [
    "df.info()"
   ]
  },
  {
   "cell_type": "code",
   "execution_count": null,
   "metadata": {
    "collapsed": true
   },
   "outputs": [],
   "source": []
  },
  {
   "cell_type": "code",
   "execution_count": null,
   "metadata": {
    "collapsed": false
   },
   "outputs": [],
   "source": [
    "print as_profiles_lod[0]['ciphertext']"
   ]
  },
  {
   "cell_type": "code",
   "execution_count": null,
   "metadata": {
    "collapsed": false
   },
   "outputs": [],
   "source": [
    "print as_profiles_lod[0]['dev_recno_ciphertext']"
   ]
  },
  {
   "cell_type": "code",
   "execution_count": null,
   "metadata": {
    "collapsed": true
   },
   "outputs": [],
   "source": [
    "if profile['assignments']['hr'] = "
   ]
  },
  {
   "cell_type": "code",
   "execution_count": null,
   "metadata": {
    "collapsed": true
   },
   "outputs": [],
   "source": [
    "print as_profiles_lod[0]['assignments']['hr']"
   ]
  },
  {
   "cell_type": "code",
   "execution_count": null,
   "metadata": {
    "collapsed": false
   },
   "outputs": [],
   "source": [
    "print type(as_profiles_lod[0]['assignments']['hr'])"
   ]
  },
  {
   "cell_type": "code",
   "execution_count": null,
   "metadata": {
    "collapsed": false
   },
   "outputs": [],
   "source": [
    "print type(as_profiles_lod[0]['assignments']['fp'])\n"
   ]
  },
  {
   "cell_type": "code",
   "execution_count": null,
   "metadata": {
    "collapsed": false
   },
   "outputs": [],
   "source": [
    "print as_profiles_lod[0]['assignments']['fp']"
   ]
  },
  {
   "cell_type": "code",
   "execution_count": null,
   "metadata": {
    "collapsed": false
   },
   "outputs": [],
   "source": [
    "print as_profiles_lod[1]['assignments']"
   ]
  },
  {
   "cell_type": "code",
   "execution_count": null,
   "metadata": {
    "collapsed": false
   },
   "outputs": [],
   "source": [
    "print type(as_profiles_lod[2]['assignments']['hr'])"
   ]
  },
  {
   "cell_type": "code",
   "execution_count": null,
   "metadata": {
    "collapsed": false
   },
   "outputs": [],
   "source": [
    "print as_profiles_lod[3]['assignments']['hr']['job'][0]"
   ]
  },
  {
   "cell_type": "code",
   "execution_count": null,
   "metadata": {
    "collapsed": false
   },
   "outputs": [],
   "source": [
    "print as_profiles_lod[3]['assignments']['hr']['job'][1]"
   ]
  },
  {
   "cell_type": "code",
   "execution_count": null,
   "metadata": {
    "collapsed": true
   },
   "outputs": [],
   "source": [
    "q = {'dog': 'day', 'cat': '~yay'}"
   ]
  },
  {
   "cell_type": "code",
   "execution_count": null,
   "metadata": {
    "collapsed": false
   },
   "outputs": [],
   "source": [
    "def possible_key(dict):\n",
    "    key_flag = False\n",
    "    possible_key = ''.join([dict[key] if '~' in dict[key] else '' for key in dict.keys()])\n",
    "    if possible_key == '': \n",
    "        key_flag = True\n",
    "        possible_key = None\n",
    "    return key_flag, possible_key"
   ]
  },
  {
   "cell_type": "code",
   "execution_count": null,
   "metadata": {
    "collapsed": false
   },
   "outputs": [],
   "source": [
    "for index, dict_item in enumerate(as_profiles_lod):\n",
    "    hr_assignments = dict_item['assignments']['hr']\n",
    "    if isinstance(hr_assignments, basestring):\n",
    "        if '~' in hr_assignments:\n",
    "            return hr_assignments\n",
    "    elif isinstance(hr_assignments, dict):\n",
    "#         print \"hr_assignments = dict\"\n",
    "        if 'job' in hr_assignments:\n",
    "#             print 'job'\n",
    "            hr_assignments_jobs = hr_assignments['job']\n",
    "            if isinstance(hr_assignments_jobs, list):\n",
    "#                 print 'is list'\n",
    "                for job in hr_assignments_jobs:\n",
    "                    if 'as_ciphertext_opening_recno' in job:\n",
    "                        print job['as_ciphertext_opening_recno']\n",
    "                    else:\n",
    "                        poss_key, ciphertext = possible_key(dict)\n",
    "                        if poss_key: return ciphertext\n",
    "            elif isinstance(hr_assignments_jobs, dict):\n",
    "#                 print 'is dict'\n",
    "                if 'as_ciphertext_opening_recno' in hr_assignments_jobs:\n",
    "                    print hr_assignments_jobs['as_ciphertext_opening_recno']\n",
    "        elif 'assignment' in hr_assignments:\n",
    "#             print 'assignment'\n",
    "            hr_assignments_jobs = hr_assignments['assignment']\n",
    "            if isinstance(hr_assignments_jobs, list):\n",
    "                for job in hr_assignments_jobs:\n",
    "                    if 'as_ciphertext_opening_recno' in job:\n",
    "                        print job['as_ciphertext_opening_recno']\n",
    "        else:\n",
    "            print 'neither key'\n",
    "            for job in hr_assignments:\n",
    "                print type(job)\n",
    "    elif isinstance(hr_assignments, list):\n",
    "        print \"hr_assignments = list\"\n",
    "        for job in hr_assignments:\n",
    "            print job\n",
    "\n",
    "#     print '---------'\n",
    "    if index > 500: break\n"
   ]
  },
  {
   "cell_type": "code",
   "execution_count": null,
   "metadata": {
    "collapsed": true
   },
   "outputs": [],
   "source": []
  }
 ],
 "metadata": {
  "kernelspec": {
   "display_name": "Python 2",
   "language": "python",
   "name": "python2"
  },
  "language_info": {
   "codemirror_mode": {
    "name": "ipython",
    "version": 2
   },
   "file_extension": ".py",
   "mimetype": "text/x-python",
   "name": "python",
   "nbconvert_exporter": "python",
   "pygments_lexer": "ipython2",
   "version": "2.7.11"
  }
 },
 "nbformat": 4,
 "nbformat_minor": 0
}
