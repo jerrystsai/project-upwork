{
 "cells": [
  {
   "cell_type": "code",
   "execution_count": 7,
   "metadata": {
    "collapsed": true
   },
   "outputs": [],
   "source": [
    "import json\n",
    "import pandas as pd\n",
    "import numpy as np\n",
    "from pymongo import MongoClient\n",
    "from collections import Counter\n",
    "import xgboost as xgb\n",
    "%matplotlib inline"
   ]
  },
  {
   "cell_type": "markdown",
   "metadata": {},
   "source": [
    "Get freelancer profile by key\n",
    "\n",
    "Endpoint\n",
    "GET /api/profiles/v1/providers/{profile_key}.{format}"
   ]
  },
  {
   "cell_type": "code",
   "execution_count": null,
   "metadata": {
    "collapsed": true
   },
   "outputs": [],
   "source": [
    "# This script shows you how to make a submission using a few\n",
    "# useful Python libraries.\n",
    "# It gets a public leaderboard score of 0.76077.\n",
    "# Maybe you can tweak it and do better...?\n",
    "\n",
    "import pandas as pd\n",
    "import xgboost as xgb\n",
    "from sklearn.preprocessing import LabelEncoder\n",
    "import numpy as np\n",
    "\n",
    "# Load the data\n",
    "train_df = pd.read_csv('../input/train.csv', header=0)\n",
    "test_df = pd.read_csv('../input/test.csv', header=0)\n"
   ]
  },
  {
   "cell_type": "code",
   "execution_count": null,
   "metadata": {
    "collapsed": true
   },
   "outputs": [],
   "source": []
  },
  {
   "cell_type": "code",
   "execution_count": null,
   "metadata": {
    "collapsed": false
   },
   "outputs": [],
   "source": [
    "def json_prep(in_file):\n",
    "    # read the entire file `ainto a python array\n",
    "    with open(in_file, 'rb') as f:\n",
    "        data = f.readlines()\n",
    "\n",
    "    # remove the trailing \"\\n\" from each line\n",
    "    data = map(lambda x: x.rstrip(), data)\n",
    "\n",
    "    # each element of 'data' is an individual JSON object.\n",
    "    # i want to convert it into an *array* of JSON objects\n",
    "    # which, in and of itself, is one large JSON object\n",
    "    # basically... add square brackets to the beginning\n",
    "    # and end, and have all the individual business JSON objects\n",
    "    # separated by a comma\n",
    "    data_json_str = \"[\" + ','.join(data) + \"]\"\n",
    "\n",
    "    data_list_of_dicts = json.loads(data_json_str)\n",
    "    \n",
    "    out_df = pd.read_json(data_json_str)\n",
    "    return out_df"
   ]
  },
  {
   "cell_type": "markdown",
   "metadata": {},
   "source": [
    "## Make lists of dicts out of JSON data"
   ]
  },
  {
   "cell_type": "code",
   "execution_count": null,
   "metadata": {
    "collapsed": false
   },
   "outputs": [],
   "source": [
    "as_profiles_df = json_prep('../../data/detailed_profiles_da_0_8715.txt')"
   ]
  },
  {
   "cell_type": "code",
   "execution_count": null,
   "metadata": {
    "collapsed": false,
    "scrolled": true
   },
   "outputs": [],
   "source": [
    "as_profiles_df.T.head(48)"
   ]
  },
  {
   "cell_type": "code",
   "execution_count": null,
   "metadata": {
    "collapsed": false
   },
   "outputs": [],
   "source": [
    "print as_profiles_df.dev_ui_profile_access.value_counts()"
   ]
  },
  {
   "cell_type": "code",
   "execution_count": null,
   "metadata": {
    "collapsed": false
   },
   "outputs": [],
   "source": [
    "print as_profiles_df.education[0:5]"
   ]
  },
  {
   "cell_type": "code",
   "execution_count": null,
   "metadata": {
    "collapsed": false
   },
   "outputs": [],
   "source": [
    "as_profiles_df[(as_profiles_df['dev_is_affiliated'] <> 0) & (as_profiles_df['dev_ac_agencies'] == '')][['dev_is_affiliated', 'dev_ac_agencies']]"
   ]
  },
  {
   "cell_type": "code",
   "execution_count": null,
   "metadata": {
    "collapsed": true
   },
   "outputs": [],
   "source": []
  },
  {
   "cell_type": "code",
   "execution_count": null,
   "metadata": {
    "collapsed": false
   },
   "outputs": [],
   "source": [
    "print as_profiles_df.dev_ac_agencies.value_counts()"
   ]
  },
  {
   "cell_type": "code",
   "execution_count": null,
   "metadata": {
    "collapsed": false
   },
   "outputs": [],
   "source": [
    "print as_profiles_lod[0]"
   ]
  },
  {
   "cell_type": "code",
   "execution_count": null,
   "metadata": {
    "collapsed": true
   },
   "outputs": [],
   "source": [
    "def json_prep_pandas(in_file):\n",
    "    # read the entire file into a python array\n",
    "    with open(in_file, 'rb') as f:\n",
    "        data = f.readlines()\n",
    "\n",
    "    # remove the trailing \"\\n\" from each line\n",
    "    data = map(lambda x: x.rstrip(), data)\n",
    "\n",
    "    # each element of 'data' is an individual JSON object.\n",
    "    # i want to convert it into an *array* of JSON objects\n",
    "    # which, in and of itself, is one large JSON object\n",
    "    # basically... add square brackets to the beginning\n",
    "    # and end, and have all the individual business JSON objects\n",
    "    # separated by a comma\n",
    "    data_json_str = \"[\" + ','.join(data) + \"]\"\n",
    "\n",
    "    data_list_of_dicts = json.loads(data_json_str)\n",
    "    \n",
    "#     now, load it into pandas\n",
    "    out_df = pd.read_json(data_json_str)\n",
    "    return out_df"
   ]
  },
  {
   "cell_type": "code",
   "execution_count": null,
   "metadata": {
    "collapsed": true
   },
   "outputs": [],
   "source": [
    "df = json_prep_pandas('../../data/detailed_profiles_da_0_8715.txt')"
   ]
  },
  {
   "cell_type": "code",
   "execution_count": null,
   "metadata": {
    "collapsed": false
   },
   "outputs": [],
   "source": [
    "df.info()"
   ]
  },
  {
   "cell_type": "code",
   "execution_count": null,
   "metadata": {
    "collapsed": false
   },
   "outputs": [],
   "source": [
    "df.assignments.head(10)"
   ]
  },
  {
   "cell_type": "code",
   "execution_count": null,
   "metadata": {
    "collapsed": false
   },
   "outputs": [],
   "source": [
    "for char in df.assignments.iloc[[0]]:\n",
    "    print char"
   ]
  },
  {
   "cell_type": "code",
   "execution_count": null,
   "metadata": {
    "collapsed": false
   },
   "outputs": [],
   "source": [
    "for x in range(20):\n",
    "    print x\n",
    "    jobs = df.assignments[x]\n",
    "    for k1, v1 in jobs.iteritems():        \n",
    "        print 'k1 = ', k1\n",
    "        if isinstance(v1, basestring):\n",
    "            print 'basestring'\n",
    "            pass\n",
    "        elif isinstance(v1, dict):\n",
    "            print 'dict'\n",
    "            for k2, v2 in v1.iteritems():\n",
    "                print '  k2 = ', k2\n",
    "                if isinstance(v2, basestring):\n",
    "                    print '  basestring'\n",
    "                    pass\n",
    "                elif isinstance(v2, dict):\n",
    "                    print '  dict'\n",
    "                    for k3, v3 in v2.iteritems():\n",
    "                        print '    k3 = ' + k3\n",
    "                elif isinstance(v2, list):\n",
    "                    print '  list'\n",
    "                    for index2, item in enumerate(v2):\n",
    "                        print '    item', index2\n",
    "                        if isinstance(item, dict):\n",
    "                            for k4, v4 in item.iteritems():\n",
    "                                print '    k4 = ', k4\n",
    "        elif isinstance(v1, list):\n",
    "            print 'list'\n",
    "            for item in v1:\n",
    "                print item\n",
    "    print\n",
    "    "
   ]
  },
  {
   "cell_type": "code",
   "execution_count": null,
   "metadata": {
    "collapsed": false
   },
   "outputs": [],
   "source": [
    "def triage(dict_, level=0):\n",
    "    if not(isinstance(dict_, float) or isinstance(dict_, basestring)):\n",
    "        print type(dict_)\n",
    "        for key, val in dict_.iteritems():\n",
    "            print ' '*level*2, key\n",
    "            if isinstance(val, dict):\n",
    "                triage(val, level=level+1)\n",
    "            elif isinstance(val, list):\n",
    "                for index, item in enumerate(val): \n",
    "                    print ' '*level*2, 'item', index\n",
    "                    triage(item, level=level+1)\n",
    "            elif isinstance(val, basestring):\n",
    "                print ' '*(level+1)*2, '=', val\n",
    "\n",
    "for x in range(1000,1020):\n",
    "    print x\n",
    "    jobs = df.dev_job_categories_v2[x]\n",
    "    triage(jobs)"
   ]
  },
  {
   "cell_type": "code",
   "execution_count": null,
   "metadata": {
    "collapsed": false
   },
   "outputs": [],
   "source": [
    "for x in range(1000,1020):\n",
    "    print x\n",
    "    jobs = df.education[x]\n",
    "    triage(jobs)"
   ]
  },
  {
   "cell_type": "code",
   "execution_count": null,
   "metadata": {
    "collapsed": false
   },
   "outputs": [],
   "source": [
    "q = 3.4\n",
    "print isinstance(q, float)"
   ]
  },
  {
   "cell_type": "code",
   "execution_count": null,
   "metadata": {
    "collapsed": false
   },
   "outputs": [],
   "source": [
    "df.info()"
   ]
  },
  {
   "cell_type": "code",
   "execution_count": null,
   "metadata": {
    "collapsed": true
   },
   "outputs": [],
   "source": []
  },
  {
   "cell_type": "code",
   "execution_count": null,
   "metadata": {
    "collapsed": false
   },
   "outputs": [],
   "source": [
    "print as_profiles_lod[0]['ciphertext']"
   ]
  },
  {
   "cell_type": "code",
   "execution_count": null,
   "metadata": {
    "collapsed": false
   },
   "outputs": [],
   "source": [
    "print as_profiles_lod[0]['dev_recno_ciphertext']"
   ]
  },
  {
   "cell_type": "code",
   "execution_count": null,
   "metadata": {
    "collapsed": true
   },
   "outputs": [],
   "source": [
    "if profile['assignments']['hr'] = "
   ]
  },
  {
   "cell_type": "code",
   "execution_count": null,
   "metadata": {
    "collapsed": true
   },
   "outputs": [],
   "source": [
    "print as_profiles_lod[0]['assignments']['hr']"
   ]
  },
  {
   "cell_type": "code",
   "execution_count": null,
   "metadata": {
    "collapsed": false
   },
   "outputs": [],
   "source": [
    "print type(as_profiles_lod[0]['assignments']['hr'])"
   ]
  },
  {
   "cell_type": "code",
   "execution_count": null,
   "metadata": {
    "collapsed": false
   },
   "outputs": [],
   "source": [
    "print type(as_profiles_lod[0]['assignments']['fp'])\n"
   ]
  },
  {
   "cell_type": "code",
   "execution_count": null,
   "metadata": {
    "collapsed": false
   },
   "outputs": [],
   "source": [
    "print as_profiles_lod[0]['assignments']['fp']"
   ]
  },
  {
   "cell_type": "code",
   "execution_count": null,
   "metadata": {
    "collapsed": false
   },
   "outputs": [],
   "source": [
    "print as_profiles_lod[1]['assignments']"
   ]
  },
  {
   "cell_type": "code",
   "execution_count": null,
   "metadata": {
    "collapsed": false
   },
   "outputs": [],
   "source": [
    "print type(as_profiles_lod[2]['assignments']['hr'])"
   ]
  },
  {
   "cell_type": "code",
   "execution_count": null,
   "metadata": {
    "collapsed": false
   },
   "outputs": [],
   "source": [
    "print as_profiles_lod[3]['assignments']['hr']['job'][0]"
   ]
  },
  {
   "cell_type": "code",
   "execution_count": null,
   "metadata": {
    "collapsed": false
   },
   "outputs": [],
   "source": [
    "print as_profiles_lod[3]['assignments']['hr']['job'][1]"
   ]
  },
  {
   "cell_type": "code",
   "execution_count": null,
   "metadata": {
    "collapsed": true
   },
   "outputs": [],
   "source": [
    "q = {'dog': 'day', 'cat': '~yay'}"
   ]
  },
  {
   "cell_type": "code",
   "execution_count": null,
   "metadata": {
    "collapsed": false
   },
   "outputs": [],
   "source": [
    "def possible_key(dict):\n",
    "    key_flag = False\n",
    "    possible_key = ''.join([dict[key] if '~' in dict[key] else '' for key in dict.keys()])\n",
    "    if possible_key == '': \n",
    "        key_flag = True\n",
    "        possible_key = None\n",
    "    return key_flag, possible_key"
   ]
  },
  {
   "cell_type": "code",
   "execution_count": null,
   "metadata": {
    "collapsed": false
   },
   "outputs": [],
   "source": [
    "for index, dict_item in enumerate(as_profiles_lod):\n",
    "    hr_assignments = dict_item['assignments']['hr']\n",
    "    if isinstance(hr_assignments, basestring):\n",
    "        if '~' in hr_assignments:\n",
    "            return hr_assignments\n",
    "    elif isinstance(hr_assignments, dict):\n",
    "#         print \"hr_assignments = dict\"\n",
    "        if 'job' in hr_assignments:\n",
    "#             print 'job'\n",
    "            hr_assignments_jobs = hr_assignments['job']\n",
    "            if isinstance(hr_assignments_jobs, list):\n",
    "#                 print 'is list'\n",
    "                for job in hr_assignments_jobs:\n",
    "                    if 'as_ciphertext_opening_recno' in job:\n",
    "                        print job['as_ciphertext_opening_recno']\n",
    "                    else:\n",
    "                        poss_key, ciphertext = possible_key(dict)\n",
    "                        if poss_key: return ciphertext\n",
    "            elif isinstance(hr_assignments_jobs, dict):\n",
    "#                 print 'is dict'\n",
    "                if 'as_ciphertext_opening_recno' in hr_assignments_jobs:\n",
    "                    print hr_assignments_jobs['as_ciphertext_opening_recno']\n",
    "        elif 'assignment' in hr_assignments:\n",
    "#             print 'assignment'\n",
    "            hr_assignments_jobs = hr_assignments['assignment']\n",
    "            if isinstance(hr_assignments_jobs, list):\n",
    "                for job in hr_assignments_jobs:\n",
    "                    if 'as_ciphertext_opening_recno' in job:\n",
    "                        print job['as_ciphertext_opening_recno']\n",
    "        else:\n",
    "            print 'neither key'\n",
    "            for job in hr_assignments:\n",
    "                print type(job)\n",
    "    elif isinstance(hr_assignments, list):\n",
    "        print \"hr_assignments = list\"\n",
    "        for job in hr_assignments:\n",
    "            print job\n",
    "\n",
    "#     print '---------'\n",
    "    if index > 500: break\n"
   ]
  },
  {
   "cell_type": "code",
   "execution_count": null,
   "metadata": {
    "collapsed": true
   },
   "outputs": [],
   "source": []
  }
 ],
 "metadata": {
  "kernelspec": {
   "display_name": "Python 2",
   "language": "python",
   "name": "python2"
  },
  "language_info": {
   "codemirror_mode": {
    "name": "ipython",
    "version": 2
   },
   "file_extension": ".py",
   "mimetype": "text/x-python",
   "name": "python",
   "nbconvert_exporter": "python",
   "pygments_lexer": "ipython2",
   "version": "2.7.11"
  }
 },
 "nbformat": 4,
 "nbformat_minor": 0
}
