{
 "cells": [
  {
   "cell_type": "code",
   "execution_count": 1,
   "metadata": {
    "collapsed": true
   },
   "outputs": [],
   "source": [
    "import json\n",
    "import pandas as pd\n",
    "import numpy as np\n",
    "from pymongo import MongoClient\n",
    "from collections import Counter\n",
    "%matplotlib inline"
   ]
  },
  {
   "cell_type": "markdown",
   "metadata": {},
   "source": [
    "Get freelancer profile by key\n",
    "\n",
    "Endpoint\n",
    "GET /api/profiles/v1/providers/{profile_key}.{format}"
   ]
  },
  {
   "cell_type": "code",
   "execution_count": 2,
   "metadata": {
    "collapsed": false
   },
   "outputs": [],
   "source": [
    "def json_prep(in_file):\n",
    "    # read the entire file into a python array\n",
    "    with open(in_file, 'rb') as f:\n",
    "        data = f.readlines()\n",
    "\n",
    "    # remove the trailing \"\\n\" from each line\n",
    "    data = map(lambda x: x.rstrip(), data)\n",
    "\n",
    "    # each element of 'data' is an individual JSON object.\n",
    "    # i want to convert it into an *array* of JSON objects\n",
    "    # which, in and of itself, is one large JSON object\n",
    "    # basically... add square brackets to the beginning\n",
    "    # and end, and have all the individual business JSON objects\n",
    "    # separated by a comma\n",
    "    data_json_str = \"[\" + ','.join(data) + \"]\"\n",
    "\n",
    "    data_list_of_dicts = json.loads(data_json_str)\n",
    "    \n",
    "#     now, load it into pandas\n",
    "#     out_df = pd.read_json(data_json_str)\n",
    "    return data_list_of_dicts"
   ]
  },
  {
   "cell_type": "markdown",
   "metadata": {},
   "source": [
    "## Make lists of dicts out of JSON data"
   ]
  },
  {
   "cell_type": "code",
   "execution_count": 5,
   "metadata": {
    "collapsed": false
   },
   "outputs": [],
   "source": [
    "as_profiles_lod = json_prep('../data/detailed_profiles_da_0_8715.txt')"
   ]
  },
  {
   "cell_type": "code",
   "execution_count": 6,
   "metadata": {
    "collapsed": false
   },
   "outputs": [
    {
     "name": "stdout",
     "output_type": "stream",
     "text": [
      "8714 <type 'list'>\n"
     ]
    }
   ],
   "source": [
    "print len(as_profiles_lod), type(as_profiles_lod)  # it's a list of dicts"
   ]
  },
  {
   "cell_type": "code",
   "execution_count": 19,
   "metadata": {
    "collapsed": false
   },
   "outputs": [
    {
     "name": "stdout",
     "output_type": "stream",
     "text": [
      "~01cae3810dc6d2bbbc\n"
     ]
    }
   ],
   "source": [
    "print as_profiles_lod[0]['ciphertext']"
   ]
  },
  {
   "cell_type": "code",
   "execution_count": 18,
   "metadata": {
    "collapsed": false
   },
   "outputs": [
    {
     "name": "stdout",
     "output_type": "stream",
     "text": [
      "~01cae3810dc6d2bbbc\n"
     ]
    }
   ],
   "source": [
    "print as_profiles_lod[0]['dev_recno_ciphertext']"
   ]
  },
  {
   "cell_type": "code",
   "execution_count": null,
   "metadata": {
    "collapsed": true
   },
   "outputs": [],
   "source": [
    "if profile['assignments']['hr'] = "
   ]
  },
  {
   "cell_type": "code",
   "execution_count": null,
   "metadata": {
    "collapsed": true
   },
   "outputs": [],
   "source": [
    "print as_profiles_lod[0]['assignments']['hr']"
   ]
  },
  {
   "cell_type": "code",
   "execution_count": 38,
   "metadata": {
    "collapsed": false
   },
   "outputs": [
    {
     "name": "stdout",
     "output_type": "stream",
     "text": [
      "<type 'unicode'>\n"
     ]
    }
   ],
   "source": [
    "print type(as_profiles_lod[0]['assignments']['hr'])"
   ]
  },
  {
   "cell_type": "code",
   "execution_count": 39,
   "metadata": {
    "collapsed": false
   },
   "outputs": [
    {
     "name": "stdout",
     "output_type": "stream",
     "text": [
      "<type 'dict'>\n"
     ]
    }
   ],
   "source": [
    "print type(as_profiles_lod[0]['assignments']['fp'])\n"
   ]
  },
  {
   "cell_type": "code",
   "execution_count": 40,
   "metadata": {
    "collapsed": false
   },
   "outputs": [
    {
     "name": "stdout",
     "output_type": "stream",
     "text": [
      "{u'job': {u'as_to': u'01/2013', u'feedback': {u'comment': u'Excellent work will be working with you again.', u'score': u'4.35', u'scores': {u'score': [{u'score': u'5', u'description': u'competency and skills for the job, understanding of specifications/instructions', u'label': u'Skills'}, {u'score': u'4', u'description': u'quality of work deliverables', u'label': u'Quality'}, {u'score': u'4', u'description': u'online presence on a consistent schedule', u'label': u'Availability'}, {u'score': u'3', u'description': u'ability to complete tasks on time', u'label': u'Deadlines'}, {u'score': u'5', u'description': u'communication skills, frequent progress updates, responsiveness', u'label': u'Communication'}, {u'score': u'5', u'description': u'cooperation and flexibility, suggestions for improvement', u'label': u'Cooperation'}]}}, u'as_total_hours': u'0.00', u'as_total_hours_precise': u'0', u'as_opening_title': u'Development of Firovia client/associate project management database', u'as_job_type': u'Fixed', u'as_to_full': u'01/09/2013'}}\n"
     ]
    }
   ],
   "source": [
    "print as_profiles_lod[0]['assignments']['fp']"
   ]
  },
  {
   "cell_type": "code",
   "execution_count": 22,
   "metadata": {
    "collapsed": false
   },
   "outputs": [
    {
     "name": "stdout",
     "output_type": "stream",
     "text": [
      "{u'hr': u'', u'fp': u''}\n"
     ]
    }
   ],
   "source": [
    "print as_profiles_lod[1]['assignments']"
   ]
  },
  {
   "cell_type": "code",
   "execution_count": 29,
   "metadata": {
    "collapsed": false
   },
   "outputs": [
    {
     "name": "stdout",
     "output_type": "stream",
     "text": [
      "<type 'unicode'>\n"
     ]
    }
   ],
   "source": [
    "print type(as_profiles_lod[2]['assignments']['hr'])"
   ]
  },
  {
   "cell_type": "code",
   "execution_count": 41,
   "metadata": {
    "collapsed": false
   },
   "outputs": [
    {
     "name": "stdout",
     "output_type": "stream",
     "text": [
      "{u'job': [{u'as_total_hours': u'614', u'as_rate': u'$22.22', u'as_total_charge': u'13642.99', u'as_to': u'Present', u'as_total_hours_precise': u'614', u'as_opening_title': u'Zend Senior Developer + Junior Developer for big web application', u'as_job_type': u'Hourly', u'as_to_full': u'Present'}, {u'as_total_hours': u'1196', u'as_rate': u'$16.67', u'as_total_charge': u'19932.02', u'as_to': u'02/2013', u'as_total_hours_precise': u'1195.66666666667', u'as_opening_title': u'Top notch PHP / Zend Developer (experienced)', u'as_job_type': u'Hourly', u'as_to_full': u'02/07/2013', u'feedback': {u'comment': u'Igor is very good. He completed the project and was very professional in communication, team working. He was always available for conference calls and was very good at PHP/Zend.', u'score': u'5.00', u'scores': {u'score': [{u'score': u'5', u'description': u'competency and skills for the job, understanding of specifications/instructions', u'label': u'Skills'}, {u'score': u'5', u'description': u'quality of work deliverables', u'label': u'Quality'}, {u'score': u'5', u'description': u'online presence on a consistent schedule', u'label': u'Availability'}, {u'score': u'5', u'description': u'ability to complete tasks on time', u'label': u'Deadlines'}, {u'score': u'5', u'description': u'communication skills, frequent progress updates, responsiveness', u'label': u'Communication'}, {u'score': u'5', u'description': u'cooperation and flexibility, suggestions for improvement', u'label': u'Cooperation'}]}}}]}\n"
     ]
    }
   ],
   "source": [
    "print as_profiles_lod[3]['assignments']['hr']['job'][0]"
   ]
  },
  {
   "cell_type": "code",
   "execution_count": 26,
   "metadata": {
    "collapsed": false
   },
   "outputs": [
    {
     "name": "stdout",
     "output_type": "stream",
     "text": [
      "{u'as_total_hours': u'1196', u'as_rate': u'$16.67', u'as_total_charge': u'19932.02', u'as_to': u'02/2013', u'as_total_hours_precise': u'1195.66666666667', u'as_opening_title': u'Top notch PHP / Zend Developer (experienced)', u'as_job_type': u'Hourly', u'as_to_full': u'02/07/2013', u'feedback': {u'comment': u'Igor is very good. He completed the project and was very professional in communication, team working. He was always available for conference calls and was very good at PHP/Zend.', u'score': u'5.00', u'scores': {u'score': [{u'score': u'5', u'description': u'competency and skills for the job, understanding of specifications/instructions', u'label': u'Skills'}, {u'score': u'5', u'description': u'quality of work deliverables', u'label': u'Quality'}, {u'score': u'5', u'description': u'online presence on a consistent schedule', u'label': u'Availability'}, {u'score': u'5', u'description': u'ability to complete tasks on time', u'label': u'Deadlines'}, {u'score': u'5', u'description': u'communication skills, frequent progress updates, responsiveness', u'label': u'Communication'}, {u'score': u'5', u'description': u'cooperation and flexibility, suggestions for improvement', u'label': u'Cooperation'}]}}}\n"
     ]
    }
   ],
   "source": [
    "print as_profiles_lod[3]['assignments']['hr']['job'][1]"
   ]
  },
  {
   "cell_type": "code",
   "execution_count": 127,
   "metadata": {
    "collapsed": true
   },
   "outputs": [],
   "source": [
    "q = {'dog': 'day', 'cat': '~yay'}"
   ]
  },
  {
   "cell_type": "code",
   "execution_count": 128,
   "metadata": {
    "collapsed": false
   },
   "outputs": [
    {
     "name": "stdout",
     "output_type": "stream",
     "text": [
      "~yay\n"
     ]
    }
   ],
   "source": [
    "def possible_key(dict):\n",
    "    possible_key = ''.join([dict[key] if '~' in dict[key] else '' for key in dict.keys()])\n",
    "    if possible_key == '': \n",
    "        key_flag = True\n",
    "        possible_key = None\n",
    "    return possibly possible_key"
   ]
  },
  {
   "cell_type": "code",
   "execution_count": 106,
   "metadata": {
    "collapsed": false
   },
   "outputs": [
    {
     "name": "stdout",
     "output_type": "stream",
     "text": [
      "hr_assignments = string\n",
      "\n",
      "---------\n",
      "hr_assignments = string\n",
      "\n",
      "---------\n",
      "hr_assignments = string\n",
      "\n",
      "---------\n",
      "hr_assignments = dict\n",
      "job\n",
      "is list\n",
      "---------\n",
      "hr_assignments = string\n",
      "\n",
      "---------\n",
      "hr_assignments = dict\n",
      "job\n",
      "is list\n",
      "---------\n",
      "hr_assignments = string\n",
      "\n",
      "---------\n",
      "hr_assignments = string\n",
      "\n",
      "---------\n",
      "hr_assignments = dict\n",
      "job\n",
      "is dict\n",
      "---------\n",
      "hr_assignments = string\n",
      "\n",
      "---------\n",
      "hr_assignments = string\n",
      "\n",
      "---------\n",
      "hr_assignments = string\n",
      "\n",
      "---------\n",
      "hr_assignments = string\n",
      "\n",
      "---------\n",
      "hr_assignments = string\n",
      "\n",
      "---------\n",
      "hr_assignments = string\n",
      "\n",
      "---------\n",
      "hr_assignments = string\n",
      "\n",
      "---------\n",
      "hr_assignments = string\n",
      "\n",
      "---------\n",
      "hr_assignments = string\n",
      "\n",
      "---------\n",
      "hr_assignments = dict\n",
      "job\n",
      "is list\n",
      "~01d84a6e743b0b5287\n",
      "~01d08c5117652f8d6e\n",
      "---------\n",
      "hr_assignments = string\n",
      "\n",
      "---------\n",
      "hr_assignments = dict\n",
      "job\n",
      "is dict\n",
      "~01d6a1d5d4f116e5de\n",
      "---------\n",
      "hr_assignments = string\n",
      "\n",
      "---------\n",
      "hr_assignments = string\n",
      "\n",
      "---------\n",
      "hr_assignments = string\n",
      "\n",
      "---------\n",
      "hr_assignments = string\n",
      "\n",
      "---------\n",
      "hr_assignments = string\n",
      "\n",
      "---------\n",
      "hr_assignments = string\n",
      "\n",
      "---------\n",
      "hr_assignments = string\n",
      "\n",
      "---------\n",
      "hr_assignments = string\n",
      "\n",
      "---------\n",
      "hr_assignments = string\n",
      "\n",
      "---------\n",
      "hr_assignments = string\n",
      "\n",
      "---------\n",
      "hr_assignments = string\n",
      "\n",
      "---------\n",
      "hr_assignments = string\n",
      "\n",
      "---------\n",
      "hr_assignments = string\n",
      "\n",
      "---------\n",
      "hr_assignments = string\n",
      "\n",
      "---------\n",
      "hr_assignments = string\n",
      "\n",
      "---------\n",
      "hr_assignments = string\n",
      "\n",
      "---------\n",
      "hr_assignments = string\n",
      "\n",
      "---------\n",
      "hr_assignments = string\n",
      "\n",
      "---------\n",
      "hr_assignments = dict\n",
      "job\n",
      "is list\n",
      "~0136359de5872f7560\n",
      "---------\n",
      "hr_assignments = string\n",
      "\n",
      "---------\n",
      "hr_assignments = string\n",
      "\n",
      "---------\n",
      "hr_assignments = string\n",
      "\n",
      "---------\n",
      "hr_assignments = string\n",
      "\n",
      "---------\n",
      "hr_assignments = string\n",
      "\n",
      "---------\n",
      "hr_assignments = string\n",
      "\n",
      "---------\n",
      "hr_assignments = dict\n",
      "job\n",
      "is list\n",
      "~01cb2dc9b976977bd0\n",
      "~01c5f777dd2e406b19\n",
      "---------\n",
      "hr_assignments = dict\n",
      "job\n",
      "is list\n",
      "~0116f41576b54662bf\n",
      "~0137abee5b41a1b82b\n",
      "---------\n",
      "hr_assignments = string\n",
      "\n",
      "---------\n",
      "hr_assignments = string\n",
      "\n",
      "---------\n",
      "hr_assignments = string\n",
      "\n",
      "---------\n",
      "hr_assignments = string\n",
      "\n",
      "---------\n",
      "hr_assignments = string\n",
      "\n",
      "---------\n",
      "hr_assignments = string\n",
      "\n",
      "---------\n",
      "hr_assignments = string\n",
      "\n",
      "---------\n",
      "hr_assignments = string\n",
      "\n",
      "---------\n",
      "hr_assignments = string\n",
      "\n",
      "---------\n",
      "hr_assignments = string\n",
      "\n",
      "---------\n",
      "hr_assignments = dict\n",
      "job\n",
      "is list\n",
      "~01a2edc1742a0a993a\n",
      "~01de59c08baf9f59a8\n",
      "~01b3dc6c016de877a6\n",
      "---------\n",
      "hr_assignments = string\n",
      "\n",
      "---------\n",
      "hr_assignments = string\n",
      "\n",
      "---------\n",
      "hr_assignments = dict\n",
      "job\n",
      "is list\n",
      "---------\n",
      "hr_assignments = string\n",
      "\n",
      "---------\n",
      "hr_assignments = dict\n",
      "job\n",
      "is list\n",
      "~01a039c54705a324a8\n",
      "~0137b99422993d6246\n",
      "---------\n",
      "hr_assignments = string\n",
      "\n",
      "---------\n",
      "hr_assignments = string\n",
      "\n",
      "---------\n",
      "hr_assignments = string\n",
      "\n",
      "---------\n",
      "hr_assignments = string\n",
      "\n",
      "---------\n",
      "hr_assignments = string\n",
      "\n",
      "---------\n",
      "hr_assignments = dict\n",
      "job\n",
      "is list\n",
      "~0192c3da9b4279ae66\n",
      "~016c397ca95eef7335\n",
      "~0179f698dbe57c485e\n",
      "~01fb5cde645c407318\n",
      "~01fb5cde645c407318\n",
      "---------\n",
      "hr_assignments = dict\n",
      "job\n",
      "is list\n",
      "~01f53c4dab850e0d2a\n",
      "~01aed978f2dd563888\n",
      "~01808abebc5bb954d3\n",
      "~01161cce7f463cf9d4\n",
      "~01ac0325a8fa8a8574\n",
      "---------\n",
      "hr_assignments = string\n",
      "\n",
      "---------\n",
      "hr_assignments = dict\n",
      "job\n",
      "is dict\n",
      "---------\n",
      "hr_assignments = string\n",
      "\n",
      "---------\n",
      "hr_assignments = string\n",
      "\n",
      "---------\n",
      "hr_assignments = string\n",
      "\n",
      "---------\n",
      "hr_assignments = string\n",
      "\n",
      "---------\n",
      "hr_assignments = string\n",
      "\n",
      "---------\n",
      "hr_assignments = string\n",
      "\n",
      "---------\n",
      "hr_assignments = string\n",
      "\n",
      "---------\n",
      "hr_assignments = dict\n",
      "job\n",
      "is list\n",
      "~01c2bae51619c2f4d4\n",
      "---------\n",
      "hr_assignments = dict\n",
      "job\n",
      "is list\n",
      "~012db787300e0a9adc\n",
      "~01538ecc4be6f4977b\n",
      "~019c4be06b0bbe2ddf\n",
      "---------\n",
      "hr_assignments = string\n",
      "\n",
      "---------\n",
      "hr_assignments = string\n",
      "\n",
      "---------\n",
      "hr_assignments = dict\n",
      "job\n",
      "is list\n",
      "~0148de673cc9db83ae\n",
      "~01ee4c946bcebd4514\n",
      "~0189939d9bb3e3ae4d\n",
      "~01cf608e9207dc5625\n",
      "---------\n",
      "hr_assignments = string\n",
      "\n",
      "---------\n",
      "hr_assignments = string\n",
      "\n",
      "---------\n",
      "hr_assignments = string\n",
      "\n",
      "---------\n",
      "hr_assignments = dict\n",
      "job\n",
      "is list\n",
      "~01a42de079929e2feb\n",
      "~01305a13e14291d642\n",
      "~017da997e520448294\n",
      "~0160db10e9ce8f770a\n",
      "---------\n",
      "hr_assignments = string\n",
      "\n",
      "---------\n",
      "hr_assignments = dict\n",
      "job\n",
      "is dict\n",
      "~01a322d6644e77d319\n",
      "---------\n",
      "hr_assignments = string\n",
      "\n",
      "---------\n",
      "hr_assignments = string\n",
      "\n",
      "---------\n",
      "hr_assignments = string\n",
      "\n",
      "---------\n",
      "hr_assignments = string\n",
      "\n",
      "---------\n",
      "hr_assignments = string\n",
      "\n",
      "---------\n",
      "hr_assignments = dict\n",
      "job\n",
      "is list\n",
      "---------\n",
      "hr_assignments = string\n",
      "\n",
      "---------\n",
      "hr_assignments = string\n",
      "\n",
      "---------\n",
      "hr_assignments = string\n",
      "\n",
      "---------\n",
      "hr_assignments = string\n",
      "\n",
      "---------\n",
      "hr_assignments = string\n",
      "\n",
      "---------\n"
     ]
    }
   ],
   "source": [
    "for index, dict_item in enumerate(as_profiles_lod):\n",
    "    hr_assignments = dict_item['assignments']['hr']\n",
    "    if isinstance(hr_assignments, basestring):\n",
    "        if '~' in hr_assignments:\n",
    "            print \n",
    "    elif isinstance(hr_assignments, dict):\n",
    "        print \"hr_assignments = dict\"\n",
    "        if 'job' in hr_assignments:\n",
    "            print 'job'\n",
    "            hr_assignments_jobs = hr_assignments['job']\n",
    "            if isinstance(hr_assignments_jobs, list):\n",
    "                print 'is list'\n",
    "                for job in hr_assignments_jobs:\n",
    "                    if 'as_ciphertext_opening_recno' in job:\n",
    "                        print job['as_ciphertext_opening_recno']\n",
    "                    else:\n",
    "                        for key in job.keys():\n",
    "                            if '~' in job[key]:\n",
    "                                print job[key]\n",
    "            elif isinstance(hr_assignments_jobs, dict):\n",
    "                print 'is dict'\n",
    "                if 'as_ciphertext_opening_recno' in hr_assignments_jobs:\n",
    "                    print hr_assignments_jobs['as_ciphertext_opening_recno']\n",
    "        elif 'assignment' in hr_assignments:\n",
    "            print 'assignment'\n",
    "            hr_assignments_jobs = hr_assignments['assignment']\n",
    "            if isinstance(hr_assignments_jobs, list):\n",
    "                for job in hr_assignments_jobs:\n",
    "                    if 'as_ciphertext_opening_recno' in job:\n",
    "                        print job['as_ciphertext_opening_recno']\n",
    "        else:\n",
    "            print 'neither key'\n",
    "            for job in hr_assignments:\n",
    "                print type(job)\n",
    "    elif isinstance(hr_assignments, list):\n",
    "        print \"hr_assignments = list\"\n",
    "        for job in hr_assignments:\n",
    "            print 'qqq', job\n",
    "\n",
    "    print '---------'\n",
    "    if index > 100: break\n"
   ]
  },
  {
   "cell_type": "code",
   "execution_count": null,
   "metadata": {
    "collapsed": true
   },
   "outputs": [],
   "source": []
  }
 ],
 "metadata": {
  "kernelspec": {
   "display_name": "Python 2",
   "language": "python",
   "name": "python2"
  },
  "language_info": {
   "codemirror_mode": {
    "name": "ipython",
    "version": 2
   },
   "file_extension": ".py",
   "mimetype": "text/x-python",
   "name": "python",
   "nbconvert_exporter": "python",
   "pygments_lexer": "ipython2",
   "version": "2.7.11"
  }
 },
 "nbformat": 4,
 "nbformat_minor": 0
}
